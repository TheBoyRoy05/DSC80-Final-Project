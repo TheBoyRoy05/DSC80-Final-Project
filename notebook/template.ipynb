{
 "cells": [
  {
   "cell_type": "markdown",
   "metadata": {},
   "source": [
    "# Your Title Here\n",
    "\n",
    "**Name(s)**: (your name(s) here)\n",
    "\n",
    "**Website Link**: (your website link)\n"
   ]
  },
  {
   "cell_type": "code",
   "execution_count": null,
   "metadata": {
    "ExecuteTime": {
     "end_time": "2019-10-31T23:36:28.652554Z",
     "start_time": "2019-10-31T23:36:27.180520Z"
    }
   },
   "outputs": [],
   "source": [
    "import pandas as pd\n",
    "import numpy as np\n",
    "from pathlib import Path\n",
    "from datetime import datetime\n",
    "import seaborn as sns\n",
    "import matplotlib.pyplot as plt\n",
    "import requests\n",
    "import sklearn\n",
    "import folium\n",
    "\n",
    "import plotly.express as px\n",
    "\n",
    "pd.options.plotting.backend = \"plotly\"\n",
    "\n",
    "# from dsc80_utils import * # Feel free to uncomment and use this."
   ]
  },
  {
   "cell_type": "markdown",
   "metadata": {},
   "source": [
    "## Step 1: Introduction\n"
   ]
  },
  {
   "cell_type": "code",
   "execution_count": 2,
   "metadata": {},
   "outputs": [
    {
     "name": "stdout",
     "output_type": "stream",
     "text": [
      "Requirement already satisfied: openpyxl in c:\\users\\issac\\miniforge3\\envs\\dsc80\\lib\\site-packages (3.1.5)\n",
      "Requirement already satisfied: et-xmlfile in c:\\users\\issac\\miniforge3\\envs\\dsc80\\lib\\site-packages (from openpyxl) (2.0.0)\n",
      "Note: you may need to restart the kernel to use updated packages.\n"
     ]
    }
   ],
   "source": [
    "%pip install openpyxl"
   ]
  },
  {
   "cell_type": "code",
   "execution_count": null,
   "metadata": {},
   "outputs": [
    {
     "data": {
      "text/html": [
       "<div>\n",
       "<style scoped>\n",
       "    .dataframe tbody tr th:only-of-type {\n",
       "        vertical-align: middle;\n",
       "    }\n",
       "\n",
       "    .dataframe tbody tr th {\n",
       "        vertical-align: top;\n",
       "    }\n",
       "\n",
       "    .dataframe thead th {\n",
       "        text-align: right;\n",
       "    }\n",
       "</style>\n",
       "<table border=\"1\" class=\"dataframe\">\n",
       "  <thead>\n",
       "    <tr style=\"text-align: right;\">\n",
       "      <th></th>\n",
       "      <th>Major power outage events in the continental U.S.</th>\n",
       "      <th>Unnamed: 1</th>\n",
       "      <th>Unnamed: 2</th>\n",
       "      <th>Unnamed: 3</th>\n",
       "      <th>Unnamed: 4</th>\n",
       "      <th>Unnamed: 5</th>\n",
       "      <th>Unnamed: 6</th>\n",
       "      <th>Unnamed: 7</th>\n",
       "      <th>Unnamed: 8</th>\n",
       "      <th>Unnamed: 9</th>\n",
       "      <th>...</th>\n",
       "      <th>Unnamed: 47</th>\n",
       "      <th>Unnamed: 48</th>\n",
       "      <th>Unnamed: 49</th>\n",
       "      <th>Unnamed: 50</th>\n",
       "      <th>Unnamed: 51</th>\n",
       "      <th>Unnamed: 52</th>\n",
       "      <th>Unnamed: 53</th>\n",
       "      <th>Unnamed: 54</th>\n",
       "      <th>Unnamed: 55</th>\n",
       "      <th>Unnamed: 56</th>\n",
       "    </tr>\n",
       "  </thead>\n",
       "  <tbody>\n",
       "    <tr>\n",
       "      <th>0</th>\n",
       "      <td>Time period: January 2000 - July 2016</td>\n",
       "      <td>NaN</td>\n",
       "      <td>NaN</td>\n",
       "      <td>NaN</td>\n",
       "      <td>NaN</td>\n",
       "      <td>NaN</td>\n",
       "      <td>NaN</td>\n",
       "      <td>NaN</td>\n",
       "      <td>NaN</td>\n",
       "      <td>NaN</td>\n",
       "      <td>...</td>\n",
       "      <td>NaN</td>\n",
       "      <td>NaN</td>\n",
       "      <td>NaN</td>\n",
       "      <td>NaN</td>\n",
       "      <td>NaN</td>\n",
       "      <td>NaN</td>\n",
       "      <td>NaN</td>\n",
       "      <td>NaN</td>\n",
       "      <td>NaN</td>\n",
       "      <td>NaN</td>\n",
       "    </tr>\n",
       "    <tr>\n",
       "      <th>1</th>\n",
       "      <td>Regions affected: Outages reported in this dat...</td>\n",
       "      <td>NaN</td>\n",
       "      <td>NaN</td>\n",
       "      <td>NaN</td>\n",
       "      <td>NaN</td>\n",
       "      <td>NaN</td>\n",
       "      <td>NaN</td>\n",
       "      <td>NaN</td>\n",
       "      <td>NaN</td>\n",
       "      <td>NaN</td>\n",
       "      <td>...</td>\n",
       "      <td>NaN</td>\n",
       "      <td>NaN</td>\n",
       "      <td>NaN</td>\n",
       "      <td>NaN</td>\n",
       "      <td>NaN</td>\n",
       "      <td>NaN</td>\n",
       "      <td>NaN</td>\n",
       "      <td>NaN</td>\n",
       "      <td>NaN</td>\n",
       "      <td>NaN</td>\n",
       "    </tr>\n",
       "    <tr>\n",
       "      <th>2</th>\n",
       "      <td>NaN</td>\n",
       "      <td>NaN</td>\n",
       "      <td>NaN</td>\n",
       "      <td>NaN</td>\n",
       "      <td>NaN</td>\n",
       "      <td>NaN</td>\n",
       "      <td>NaN</td>\n",
       "      <td>NaN</td>\n",
       "      <td>NaN</td>\n",
       "      <td>NaN</td>\n",
       "      <td>...</td>\n",
       "      <td>NaN</td>\n",
       "      <td>NaN</td>\n",
       "      <td>NaN</td>\n",
       "      <td>NaN</td>\n",
       "      <td>NaN</td>\n",
       "      <td>NaN</td>\n",
       "      <td>NaN</td>\n",
       "      <td>NaN</td>\n",
       "      <td>NaN</td>\n",
       "      <td>NaN</td>\n",
       "    </tr>\n",
       "    <tr>\n",
       "      <th>3</th>\n",
       "      <td>NaN</td>\n",
       "      <td>NaN</td>\n",
       "      <td>NaN</td>\n",
       "      <td>NaN</td>\n",
       "      <td>NaN</td>\n",
       "      <td>NaN</td>\n",
       "      <td>NaN</td>\n",
       "      <td>NaN</td>\n",
       "      <td>NaN</td>\n",
       "      <td>NaN</td>\n",
       "      <td>...</td>\n",
       "      <td>NaN</td>\n",
       "      <td>NaN</td>\n",
       "      <td>NaN</td>\n",
       "      <td>NaN</td>\n",
       "      <td>NaN</td>\n",
       "      <td>NaN</td>\n",
       "      <td>NaN</td>\n",
       "      <td>NaN</td>\n",
       "      <td>NaN</td>\n",
       "      <td>NaN</td>\n",
       "    </tr>\n",
       "    <tr>\n",
       "      <th>4</th>\n",
       "      <td>variables</td>\n",
       "      <td>OBS</td>\n",
       "      <td>YEAR</td>\n",
       "      <td>MONTH</td>\n",
       "      <td>U.S._STATE</td>\n",
       "      <td>POSTAL.CODE</td>\n",
       "      <td>NERC.REGION</td>\n",
       "      <td>CLIMATE.REGION</td>\n",
       "      <td>ANOMALY.LEVEL</td>\n",
       "      <td>CLIMATE.CATEGORY</td>\n",
       "      <td>...</td>\n",
       "      <td>POPPCT_URBAN</td>\n",
       "      <td>POPPCT_UC</td>\n",
       "      <td>POPDEN_URBAN</td>\n",
       "      <td>POPDEN_UC</td>\n",
       "      <td>POPDEN_RURAL</td>\n",
       "      <td>AREAPCT_URBAN</td>\n",
       "      <td>AREAPCT_UC</td>\n",
       "      <td>PCT_LAND</td>\n",
       "      <td>PCT_WATER_TOT</td>\n",
       "      <td>PCT_WATER_INLAND</td>\n",
       "    </tr>\n",
       "  </tbody>\n",
       "</table>\n",
       "<p>5 rows × 57 columns</p>\n",
       "</div>"
      ],
      "text/plain": [
       "   Major power outage events in the continental U.S. Unnamed: 1 Unnamed: 2  \\\n",
       "0              Time period: January 2000 - July 2016        NaN        NaN   \n",
       "1  Regions affected: Outages reported in this dat...        NaN        NaN   \n",
       "2                                                NaN        NaN        NaN   \n",
       "3                                                NaN        NaN        NaN   \n",
       "4                                          variables        OBS       YEAR   \n",
       "\n",
       "  Unnamed: 3  Unnamed: 4   Unnamed: 5   Unnamed: 6      Unnamed: 7  \\\n",
       "0        NaN         NaN          NaN          NaN             NaN   \n",
       "1        NaN         NaN          NaN          NaN             NaN   \n",
       "2        NaN         NaN          NaN          NaN             NaN   \n",
       "3        NaN         NaN          NaN          NaN             NaN   \n",
       "4      MONTH  U.S._STATE  POSTAL.CODE  NERC.REGION  CLIMATE.REGION   \n",
       "\n",
       "      Unnamed: 8        Unnamed: 9  ...   Unnamed: 47 Unnamed: 48  \\\n",
       "0            NaN               NaN  ...           NaN         NaN   \n",
       "1            NaN               NaN  ...           NaN         NaN   \n",
       "2            NaN               NaN  ...           NaN         NaN   \n",
       "3            NaN               NaN  ...           NaN         NaN   \n",
       "4  ANOMALY.LEVEL  CLIMATE.CATEGORY  ...  POPPCT_URBAN   POPPCT_UC   \n",
       "\n",
       "    Unnamed: 49 Unnamed: 50   Unnamed: 51    Unnamed: 52 Unnamed: 53  \\\n",
       "0           NaN         NaN           NaN            NaN         NaN   \n",
       "1           NaN         NaN           NaN            NaN         NaN   \n",
       "2           NaN         NaN           NaN            NaN         NaN   \n",
       "3           NaN         NaN           NaN            NaN         NaN   \n",
       "4  POPDEN_URBAN   POPDEN_UC  POPDEN_RURAL  AREAPCT_URBAN  AREAPCT_UC   \n",
       "\n",
       "  Unnamed: 54    Unnamed: 55       Unnamed: 56  \n",
       "0         NaN            NaN               NaN  \n",
       "1         NaN            NaN               NaN  \n",
       "2         NaN            NaN               NaN  \n",
       "3         NaN            NaN               NaN  \n",
       "4    PCT_LAND  PCT_WATER_TOT  PCT_WATER_INLAND  \n",
       "\n",
       "[5 rows x 57 columns]"
      ]
     },
     "execution_count": 3,
     "metadata": {},
     "output_type": "execute_result"
    }
   ],
   "source": [
    "raw = pd.read_excel(Path(\"data\") / \"outage.xlsx\")\n",
    "raw.head()"
   ]
  },
  {
   "cell_type": "markdown",
   "metadata": {},
   "source": [
    "## Step 2: Data Cleaning and Exploratory Data Analysis\n"
   ]
  },
  {
   "cell_type": "code",
   "execution_count": null,
   "metadata": {},
   "outputs": [
    {
     "data": {
      "text/html": [
       "<div>\n",
       "<style scoped>\n",
       "    .dataframe tbody tr th:only-of-type {\n",
       "        vertical-align: middle;\n",
       "    }\n",
       "\n",
       "    .dataframe tbody tr th {\n",
       "        vertical-align: top;\n",
       "    }\n",
       "\n",
       "    .dataframe thead th {\n",
       "        text-align: right;\n",
       "    }\n",
       "</style>\n",
       "<table border=\"1\" class=\"dataframe\">\n",
       "  <thead>\n",
       "    <tr style=\"text-align: right;\">\n",
       "      <th></th>\n",
       "      <th>YEAR</th>\n",
       "      <th>MONTH</th>\n",
       "      <th>U.S._STATE</th>\n",
       "      <th>POSTAL.CODE</th>\n",
       "      <th>NERC.REGION</th>\n",
       "      <th>CLIMATE.REGION</th>\n",
       "      <th>ANOMALY.LEVEL</th>\n",
       "      <th>CLIMATE.CATEGORY</th>\n",
       "      <th>OUTAGE.START.DATE</th>\n",
       "      <th>OUTAGE.START.TIME</th>\n",
       "      <th>...</th>\n",
       "      <th>POPPCT_URBAN</th>\n",
       "      <th>POPPCT_UC</th>\n",
       "      <th>POPDEN_URBAN</th>\n",
       "      <th>POPDEN_UC</th>\n",
       "      <th>POPDEN_RURAL</th>\n",
       "      <th>AREAPCT_URBAN</th>\n",
       "      <th>AREAPCT_UC</th>\n",
       "      <th>PCT_LAND</th>\n",
       "      <th>PCT_WATER_TOT</th>\n",
       "      <th>PCT_WATER_INLAND</th>\n",
       "    </tr>\n",
       "  </thead>\n",
       "  <tbody>\n",
       "    <tr>\n",
       "      <th>0</th>\n",
       "      <td>2011</td>\n",
       "      <td>7</td>\n",
       "      <td>Minnesota</td>\n",
       "      <td>MN</td>\n",
       "      <td>MRO</td>\n",
       "      <td>East North Central</td>\n",
       "      <td>-0.3</td>\n",
       "      <td>normal</td>\n",
       "      <td>2011-07-01 00:00:00</td>\n",
       "      <td>17:00:00</td>\n",
       "      <td>...</td>\n",
       "      <td>73.27</td>\n",
       "      <td>15.28</td>\n",
       "      <td>2279</td>\n",
       "      <td>1700.5</td>\n",
       "      <td>18.2</td>\n",
       "      <td>2.14</td>\n",
       "      <td>0.6</td>\n",
       "      <td>91.592666</td>\n",
       "      <td>8.407334</td>\n",
       "      <td>5.478743</td>\n",
       "    </tr>\n",
       "    <tr>\n",
       "      <th>1</th>\n",
       "      <td>2014</td>\n",
       "      <td>5</td>\n",
       "      <td>Minnesota</td>\n",
       "      <td>MN</td>\n",
       "      <td>MRO</td>\n",
       "      <td>East North Central</td>\n",
       "      <td>-0.1</td>\n",
       "      <td>normal</td>\n",
       "      <td>2014-05-11 00:00:00</td>\n",
       "      <td>18:38:00</td>\n",
       "      <td>...</td>\n",
       "      <td>73.27</td>\n",
       "      <td>15.28</td>\n",
       "      <td>2279</td>\n",
       "      <td>1700.5</td>\n",
       "      <td>18.2</td>\n",
       "      <td>2.14</td>\n",
       "      <td>0.6</td>\n",
       "      <td>91.592666</td>\n",
       "      <td>8.407334</td>\n",
       "      <td>5.478743</td>\n",
       "    </tr>\n",
       "    <tr>\n",
       "      <th>2</th>\n",
       "      <td>2010</td>\n",
       "      <td>10</td>\n",
       "      <td>Minnesota</td>\n",
       "      <td>MN</td>\n",
       "      <td>MRO</td>\n",
       "      <td>East North Central</td>\n",
       "      <td>-1.5</td>\n",
       "      <td>cold</td>\n",
       "      <td>2010-10-26 00:00:00</td>\n",
       "      <td>20:00:00</td>\n",
       "      <td>...</td>\n",
       "      <td>73.27</td>\n",
       "      <td>15.28</td>\n",
       "      <td>2279</td>\n",
       "      <td>1700.5</td>\n",
       "      <td>18.2</td>\n",
       "      <td>2.14</td>\n",
       "      <td>0.6</td>\n",
       "      <td>91.592666</td>\n",
       "      <td>8.407334</td>\n",
       "      <td>5.478743</td>\n",
       "    </tr>\n",
       "    <tr>\n",
       "      <th>3</th>\n",
       "      <td>2012</td>\n",
       "      <td>6</td>\n",
       "      <td>Minnesota</td>\n",
       "      <td>MN</td>\n",
       "      <td>MRO</td>\n",
       "      <td>East North Central</td>\n",
       "      <td>-0.1</td>\n",
       "      <td>normal</td>\n",
       "      <td>2012-06-19 00:00:00</td>\n",
       "      <td>04:30:00</td>\n",
       "      <td>...</td>\n",
       "      <td>73.27</td>\n",
       "      <td>15.28</td>\n",
       "      <td>2279</td>\n",
       "      <td>1700.5</td>\n",
       "      <td>18.2</td>\n",
       "      <td>2.14</td>\n",
       "      <td>0.6</td>\n",
       "      <td>91.592666</td>\n",
       "      <td>8.407334</td>\n",
       "      <td>5.478743</td>\n",
       "    </tr>\n",
       "    <tr>\n",
       "      <th>4</th>\n",
       "      <td>2015</td>\n",
       "      <td>7</td>\n",
       "      <td>Minnesota</td>\n",
       "      <td>MN</td>\n",
       "      <td>MRO</td>\n",
       "      <td>East North Central</td>\n",
       "      <td>1.2</td>\n",
       "      <td>warm</td>\n",
       "      <td>2015-07-18 00:00:00</td>\n",
       "      <td>02:00:00</td>\n",
       "      <td>...</td>\n",
       "      <td>73.27</td>\n",
       "      <td>15.28</td>\n",
       "      <td>2279</td>\n",
       "      <td>1700.5</td>\n",
       "      <td>18.2</td>\n",
       "      <td>2.14</td>\n",
       "      <td>0.6</td>\n",
       "      <td>91.592666</td>\n",
       "      <td>8.407334</td>\n",
       "      <td>5.478743</td>\n",
       "    </tr>\n",
       "  </tbody>\n",
       "</table>\n",
       "<p>5 rows × 55 columns</p>\n",
       "</div>"
      ],
      "text/plain": [
       "   YEAR MONTH U.S._STATE POSTAL.CODE NERC.REGION      CLIMATE.REGION  \\\n",
       "0  2011     7  Minnesota          MN         MRO  East North Central   \n",
       "1  2014     5  Minnesota          MN         MRO  East North Central   \n",
       "2  2010    10  Minnesota          MN         MRO  East North Central   \n",
       "3  2012     6  Minnesota          MN         MRO  East North Central   \n",
       "4  2015     7  Minnesota          MN         MRO  East North Central   \n",
       "\n",
       "  ANOMALY.LEVEL CLIMATE.CATEGORY    OUTAGE.START.DATE OUTAGE.START.TIME  ...  \\\n",
       "0          -0.3           normal  2011-07-01 00:00:00          17:00:00  ...   \n",
       "1          -0.1           normal  2014-05-11 00:00:00          18:38:00  ...   \n",
       "2          -1.5             cold  2010-10-26 00:00:00          20:00:00  ...   \n",
       "3          -0.1           normal  2012-06-19 00:00:00          04:30:00  ...   \n",
       "4           1.2             warm  2015-07-18 00:00:00          02:00:00  ...   \n",
       "\n",
       "  POPPCT_URBAN POPPCT_UC POPDEN_URBAN POPDEN_UC POPDEN_RURAL AREAPCT_URBAN  \\\n",
       "0        73.27     15.28         2279    1700.5         18.2          2.14   \n",
       "1        73.27     15.28         2279    1700.5         18.2          2.14   \n",
       "2        73.27     15.28         2279    1700.5         18.2          2.14   \n",
       "3        73.27     15.28         2279    1700.5         18.2          2.14   \n",
       "4        73.27     15.28         2279    1700.5         18.2          2.14   \n",
       "\n",
       "  AREAPCT_UC   PCT_LAND PCT_WATER_TOT PCT_WATER_INLAND  \n",
       "0        0.6  91.592666      8.407334         5.478743  \n",
       "1        0.6  91.592666      8.407334         5.478743  \n",
       "2        0.6  91.592666      8.407334         5.478743  \n",
       "3        0.6  91.592666      8.407334         5.478743  \n",
       "4        0.6  91.592666      8.407334         5.478743  \n",
       "\n",
       "[5 rows x 55 columns]"
      ]
     },
     "execution_count": 4,
     "metadata": {},
     "output_type": "execute_result"
    }
   ],
   "source": [
    "df = (\n",
    "    raw[6:]\n",
    "    .reset_index(drop=True)\n",
    "    .rename(columns=raw.iloc[4])\n",
    "    .drop([\"variables\", \"OBS\"], axis=1)\n",
    ")\n",
    "df.head()"
   ]
  },
  {
   "cell_type": "code",
   "execution_count": null,
   "metadata": {},
   "outputs": [
    {
     "data": {
      "text/html": [
       "<div>\n",
       "<style scoped>\n",
       "    .dataframe tbody tr th:only-of-type {\n",
       "        vertical-align: middle;\n",
       "    }\n",
       "\n",
       "    .dataframe tbody tr th {\n",
       "        vertical-align: top;\n",
       "    }\n",
       "\n",
       "    .dataframe thead th {\n",
       "        text-align: right;\n",
       "    }\n",
       "</style>\n",
       "<table border=\"1\" class=\"dataframe\">\n",
       "  <thead>\n",
       "    <tr style=\"text-align: right;\">\n",
       "      <th></th>\n",
       "      <th>YEAR</th>\n",
       "      <th>MONTH</th>\n",
       "      <th>U.S._STATE</th>\n",
       "      <th>POSTAL.CODE</th>\n",
       "      <th>NERC.REGION</th>\n",
       "      <th>CLIMATE.REGION</th>\n",
       "      <th>ANOMALY.LEVEL</th>\n",
       "      <th>CLIMATE.CATEGORY</th>\n",
       "      <th>CAUSE.CATEGORY</th>\n",
       "      <th>CAUSE.CATEGORY.DETAIL</th>\n",
       "      <th>...</th>\n",
       "      <th>POPDEN_URBAN</th>\n",
       "      <th>POPDEN_UC</th>\n",
       "      <th>POPDEN_RURAL</th>\n",
       "      <th>AREAPCT_URBAN</th>\n",
       "      <th>AREAPCT_UC</th>\n",
       "      <th>PCT_LAND</th>\n",
       "      <th>PCT_WATER_TOT</th>\n",
       "      <th>PCT_WATER_INLAND</th>\n",
       "      <th>OUTAGE.START</th>\n",
       "      <th>OUTAGE.RESTORATION</th>\n",
       "    </tr>\n",
       "  </thead>\n",
       "  <tbody>\n",
       "    <tr>\n",
       "      <th>0</th>\n",
       "      <td>2011</td>\n",
       "      <td>7</td>\n",
       "      <td>Minnesota</td>\n",
       "      <td>MN</td>\n",
       "      <td>MRO</td>\n",
       "      <td>East North Central</td>\n",
       "      <td>-0.3</td>\n",
       "      <td>normal</td>\n",
       "      <td>severe weather</td>\n",
       "      <td>NaN</td>\n",
       "      <td>...</td>\n",
       "      <td>2279</td>\n",
       "      <td>1700.5</td>\n",
       "      <td>18.2</td>\n",
       "      <td>2.14</td>\n",
       "      <td>0.6</td>\n",
       "      <td>91.592666</td>\n",
       "      <td>8.407334</td>\n",
       "      <td>5.478743</td>\n",
       "      <td>2011-07-01 17:00:00</td>\n",
       "      <td>2011-07-03 20:00:00</td>\n",
       "    </tr>\n",
       "    <tr>\n",
       "      <th>1</th>\n",
       "      <td>2014</td>\n",
       "      <td>5</td>\n",
       "      <td>Minnesota</td>\n",
       "      <td>MN</td>\n",
       "      <td>MRO</td>\n",
       "      <td>East North Central</td>\n",
       "      <td>-0.1</td>\n",
       "      <td>normal</td>\n",
       "      <td>intentional attack</td>\n",
       "      <td>vandalism</td>\n",
       "      <td>...</td>\n",
       "      <td>2279</td>\n",
       "      <td>1700.5</td>\n",
       "      <td>18.2</td>\n",
       "      <td>2.14</td>\n",
       "      <td>0.6</td>\n",
       "      <td>91.592666</td>\n",
       "      <td>8.407334</td>\n",
       "      <td>5.478743</td>\n",
       "      <td>2014-05-11 18:38:00</td>\n",
       "      <td>2014-05-11 18:39:00</td>\n",
       "    </tr>\n",
       "    <tr>\n",
       "      <th>2</th>\n",
       "      <td>2010</td>\n",
       "      <td>10</td>\n",
       "      <td>Minnesota</td>\n",
       "      <td>MN</td>\n",
       "      <td>MRO</td>\n",
       "      <td>East North Central</td>\n",
       "      <td>-1.5</td>\n",
       "      <td>cold</td>\n",
       "      <td>severe weather</td>\n",
       "      <td>heavy wind</td>\n",
       "      <td>...</td>\n",
       "      <td>2279</td>\n",
       "      <td>1700.5</td>\n",
       "      <td>18.2</td>\n",
       "      <td>2.14</td>\n",
       "      <td>0.6</td>\n",
       "      <td>91.592666</td>\n",
       "      <td>8.407334</td>\n",
       "      <td>5.478743</td>\n",
       "      <td>2010-10-26 20:00:00</td>\n",
       "      <td>2010-10-28 22:00:00</td>\n",
       "    </tr>\n",
       "    <tr>\n",
       "      <th>3</th>\n",
       "      <td>2012</td>\n",
       "      <td>6</td>\n",
       "      <td>Minnesota</td>\n",
       "      <td>MN</td>\n",
       "      <td>MRO</td>\n",
       "      <td>East North Central</td>\n",
       "      <td>-0.1</td>\n",
       "      <td>normal</td>\n",
       "      <td>severe weather</td>\n",
       "      <td>thunderstorm</td>\n",
       "      <td>...</td>\n",
       "      <td>2279</td>\n",
       "      <td>1700.5</td>\n",
       "      <td>18.2</td>\n",
       "      <td>2.14</td>\n",
       "      <td>0.6</td>\n",
       "      <td>91.592666</td>\n",
       "      <td>8.407334</td>\n",
       "      <td>5.478743</td>\n",
       "      <td>2012-06-19 04:30:00</td>\n",
       "      <td>2012-06-20 23:00:00</td>\n",
       "    </tr>\n",
       "    <tr>\n",
       "      <th>4</th>\n",
       "      <td>2015</td>\n",
       "      <td>7</td>\n",
       "      <td>Minnesota</td>\n",
       "      <td>MN</td>\n",
       "      <td>MRO</td>\n",
       "      <td>East North Central</td>\n",
       "      <td>1.2</td>\n",
       "      <td>warm</td>\n",
       "      <td>severe weather</td>\n",
       "      <td>NaN</td>\n",
       "      <td>...</td>\n",
       "      <td>2279</td>\n",
       "      <td>1700.5</td>\n",
       "      <td>18.2</td>\n",
       "      <td>2.14</td>\n",
       "      <td>0.6</td>\n",
       "      <td>91.592666</td>\n",
       "      <td>8.407334</td>\n",
       "      <td>5.478743</td>\n",
       "      <td>2015-07-18 02:00:00</td>\n",
       "      <td>2015-07-19 07:00:00</td>\n",
       "    </tr>\n",
       "  </tbody>\n",
       "</table>\n",
       "<p>5 rows × 53 columns</p>\n",
       "</div>"
      ],
      "text/plain": [
       "   YEAR MONTH U.S._STATE POSTAL.CODE NERC.REGION      CLIMATE.REGION  \\\n",
       "0  2011     7  Minnesota          MN         MRO  East North Central   \n",
       "1  2014     5  Minnesota          MN         MRO  East North Central   \n",
       "2  2010    10  Minnesota          MN         MRO  East North Central   \n",
       "3  2012     6  Minnesota          MN         MRO  East North Central   \n",
       "4  2015     7  Minnesota          MN         MRO  East North Central   \n",
       "\n",
       "  ANOMALY.LEVEL CLIMATE.CATEGORY      CAUSE.CATEGORY CAUSE.CATEGORY.DETAIL  \\\n",
       "0          -0.3           normal      severe weather                   NaN   \n",
       "1          -0.1           normal  intentional attack             vandalism   \n",
       "2          -1.5             cold      severe weather            heavy wind   \n",
       "3          -0.1           normal      severe weather          thunderstorm   \n",
       "4           1.2             warm      severe weather                   NaN   \n",
       "\n",
       "   ... POPDEN_URBAN POPDEN_UC POPDEN_RURAL AREAPCT_URBAN AREAPCT_UC  \\\n",
       "0  ...         2279    1700.5         18.2          2.14        0.6   \n",
       "1  ...         2279    1700.5         18.2          2.14        0.6   \n",
       "2  ...         2279    1700.5         18.2          2.14        0.6   \n",
       "3  ...         2279    1700.5         18.2          2.14        0.6   \n",
       "4  ...         2279    1700.5         18.2          2.14        0.6   \n",
       "\n",
       "    PCT_LAND PCT_WATER_TOT PCT_WATER_INLAND        OUTAGE.START  \\\n",
       "0  91.592666      8.407334         5.478743 2011-07-01 17:00:00   \n",
       "1  91.592666      8.407334         5.478743 2014-05-11 18:38:00   \n",
       "2  91.592666      8.407334         5.478743 2010-10-26 20:00:00   \n",
       "3  91.592666      8.407334         5.478743 2012-06-19 04:30:00   \n",
       "4  91.592666      8.407334         5.478743 2015-07-18 02:00:00   \n",
       "\n",
       "   OUTAGE.RESTORATION  \n",
       "0 2011-07-03 20:00:00  \n",
       "1 2014-05-11 18:39:00  \n",
       "2 2010-10-28 22:00:00  \n",
       "3 2012-06-20 23:00:00  \n",
       "4 2015-07-19 07:00:00  \n",
       "\n",
       "[5 rows x 53 columns]"
      ]
     },
     "execution_count": 5,
     "metadata": {},
     "output_type": "execute_result"
    }
   ],
   "source": [
    "cleaned = df.copy()\n",
    "\n",
    "\n",
    "def clean_datetime(row, col):\n",
    "    if pd.notna(row[f\"OUTAGE.{col}.DATE\"]) and pd.notna(row[f\"OUTAGE.{col}.TIME\"]):\n",
    "        return datetime.combine(\n",
    "            row[f\"OUTAGE.{col}.DATE\"].date(), row[f\"OUTAGE.{col}.TIME\"]\n",
    "        )\n",
    "\n",
    "\n",
    "for col in [\"START\", \"RESTORATION\"]:\n",
    "    cleaned[f\"OUTAGE.{col}\"] = df.apply(lambda row: clean_datetime(row, col), axis=1)\n",
    "    cleaned.drop([f\"OUTAGE.{col}.DATE\", f\"OUTAGE.{col}.TIME\"], axis=1, inplace=True)\n",
    "cleaned.head()"
   ]
  },
  {
   "cell_type": "code",
   "execution_count": 23,
   "metadata": {},
   "outputs": [],
   "source": [
    "# state_geo = requests.get(\n",
    "#     \"https://raw.githubusercontent.com/python-visualization/folium-example-data/main/us_states.json\"\n",
    "# ).json()\n",
    "\n",
    "# state_data = cleaned.groupby(\"POSTAL.CODE\").size()\n",
    "\n",
    "# m = folium.Map(location=[48, -102], zoom_start=4)\n",
    "# folium.Choropleth(\n",
    "#     geo_data=state_geo,\n",
    "#     name=\"choropleth\",\n",
    "#     data=state_data,\n",
    "#     columns=[state_data.index, state_data],\n",
    "#     key_on=\"feature.id\",\n",
    "#     fill_color=\"YlOrRd\",\n",
    "#     fill_opacity=0.7,\n",
    "#     line_opacity=0.2,\n",
    "#     legend_name=\"Power Outages\",\n",
    "# ).add_to(m)\n",
    "# m"
   ]
  },
  {
   "cell_type": "code",
   "execution_count": null,
   "metadata": {},
   "outputs": [
    {
     "data": {
      "application/vnd.plotly.v1+json": {
       "config": {
        "plotlyServerURL": "https://plot.ly"
       },
       "data": [
        {
         "alignmentgroup": "True",
         "hovertemplate": "variable=0<br>YEAR=%{x}<br>value=%{y}<extra></extra>",
         "legendgroup": "0",
         "marker": {
          "color": "#636efa",
          "pattern": {
           "shape": ""
          }
         },
         "name": "0",
         "offsetgroup": "0",
         "orientation": "v",
         "showlegend": true,
         "textposition": "auto",
         "type": "bar",
         "x": [
          2000,
          2001,
          2002,
          2003,
          2004,
          2005,
          2006,
          2007,
          2008,
          2009,
          2010,
          2011,
          2012,
          2013,
          2014,
          2015,
          2016
         ],
         "xaxis": "x",
         "y": [
          26,
          15,
          17,
          46,
          71,
          55,
          67,
          56,
          111,
          78,
          106,
          269,
          174,
          153,
          112,
          119,
          59
         ],
         "yaxis": "y"
        }
       ],
       "layout": {
        "barmode": "relative",
        "legend": {
         "title": {
          "text": "variable"
         },
         "tracegroupgap": 0
        },
        "template": {
         "data": {
          "bar": [
           {
            "error_x": {
             "color": "#2a3f5f"
            },
            "error_y": {
             "color": "#2a3f5f"
            },
            "marker": {
             "line": {
              "color": "#E5ECF6",
              "width": 0.5
             },
             "pattern": {
              "fillmode": "overlay",
              "size": 10,
              "solidity": 0.2
             }
            },
            "type": "bar"
           }
          ],
          "barpolar": [
           {
            "marker": {
             "line": {
              "color": "#E5ECF6",
              "width": 0.5
             },
             "pattern": {
              "fillmode": "overlay",
              "size": 10,
              "solidity": 0.2
             }
            },
            "type": "barpolar"
           }
          ],
          "carpet": [
           {
            "aaxis": {
             "endlinecolor": "#2a3f5f",
             "gridcolor": "white",
             "linecolor": "white",
             "minorgridcolor": "white",
             "startlinecolor": "#2a3f5f"
            },
            "baxis": {
             "endlinecolor": "#2a3f5f",
             "gridcolor": "white",
             "linecolor": "white",
             "minorgridcolor": "white",
             "startlinecolor": "#2a3f5f"
            },
            "type": "carpet"
           }
          ],
          "choropleth": [
           {
            "colorbar": {
             "outlinewidth": 0,
             "ticks": ""
            },
            "type": "choropleth"
           }
          ],
          "contour": [
           {
            "colorbar": {
             "outlinewidth": 0,
             "ticks": ""
            },
            "colorscale": [
             [
              0,
              "#0d0887"
             ],
             [
              0.1111111111111111,
              "#46039f"
             ],
             [
              0.2222222222222222,
              "#7201a8"
             ],
             [
              0.3333333333333333,
              "#9c179e"
             ],
             [
              0.4444444444444444,
              "#bd3786"
             ],
             [
              0.5555555555555556,
              "#d8576b"
             ],
             [
              0.6666666666666666,
              "#ed7953"
             ],
             [
              0.7777777777777778,
              "#fb9f3a"
             ],
             [
              0.8888888888888888,
              "#fdca26"
             ],
             [
              1,
              "#f0f921"
             ]
            ],
            "type": "contour"
           }
          ],
          "contourcarpet": [
           {
            "colorbar": {
             "outlinewidth": 0,
             "ticks": ""
            },
            "type": "contourcarpet"
           }
          ],
          "heatmap": [
           {
            "colorbar": {
             "outlinewidth": 0,
             "ticks": ""
            },
            "colorscale": [
             [
              0,
              "#0d0887"
             ],
             [
              0.1111111111111111,
              "#46039f"
             ],
             [
              0.2222222222222222,
              "#7201a8"
             ],
             [
              0.3333333333333333,
              "#9c179e"
             ],
             [
              0.4444444444444444,
              "#bd3786"
             ],
             [
              0.5555555555555556,
              "#d8576b"
             ],
             [
              0.6666666666666666,
              "#ed7953"
             ],
             [
              0.7777777777777778,
              "#fb9f3a"
             ],
             [
              0.8888888888888888,
              "#fdca26"
             ],
             [
              1,
              "#f0f921"
             ]
            ],
            "type": "heatmap"
           }
          ],
          "heatmapgl": [
           {
            "colorbar": {
             "outlinewidth": 0,
             "ticks": ""
            },
            "colorscale": [
             [
              0,
              "#0d0887"
             ],
             [
              0.1111111111111111,
              "#46039f"
             ],
             [
              0.2222222222222222,
              "#7201a8"
             ],
             [
              0.3333333333333333,
              "#9c179e"
             ],
             [
              0.4444444444444444,
              "#bd3786"
             ],
             [
              0.5555555555555556,
              "#d8576b"
             ],
             [
              0.6666666666666666,
              "#ed7953"
             ],
             [
              0.7777777777777778,
              "#fb9f3a"
             ],
             [
              0.8888888888888888,
              "#fdca26"
             ],
             [
              1,
              "#f0f921"
             ]
            ],
            "type": "heatmapgl"
           }
          ],
          "histogram": [
           {
            "marker": {
             "pattern": {
              "fillmode": "overlay",
              "size": 10,
              "solidity": 0.2
             }
            },
            "type": "histogram"
           }
          ],
          "histogram2d": [
           {
            "colorbar": {
             "outlinewidth": 0,
             "ticks": ""
            },
            "colorscale": [
             [
              0,
              "#0d0887"
             ],
             [
              0.1111111111111111,
              "#46039f"
             ],
             [
              0.2222222222222222,
              "#7201a8"
             ],
             [
              0.3333333333333333,
              "#9c179e"
             ],
             [
              0.4444444444444444,
              "#bd3786"
             ],
             [
              0.5555555555555556,
              "#d8576b"
             ],
             [
              0.6666666666666666,
              "#ed7953"
             ],
             [
              0.7777777777777778,
              "#fb9f3a"
             ],
             [
              0.8888888888888888,
              "#fdca26"
             ],
             [
              1,
              "#f0f921"
             ]
            ],
            "type": "histogram2d"
           }
          ],
          "histogram2dcontour": [
           {
            "colorbar": {
             "outlinewidth": 0,
             "ticks": ""
            },
            "colorscale": [
             [
              0,
              "#0d0887"
             ],
             [
              0.1111111111111111,
              "#46039f"
             ],
             [
              0.2222222222222222,
              "#7201a8"
             ],
             [
              0.3333333333333333,
              "#9c179e"
             ],
             [
              0.4444444444444444,
              "#bd3786"
             ],
             [
              0.5555555555555556,
              "#d8576b"
             ],
             [
              0.6666666666666666,
              "#ed7953"
             ],
             [
              0.7777777777777778,
              "#fb9f3a"
             ],
             [
              0.8888888888888888,
              "#fdca26"
             ],
             [
              1,
              "#f0f921"
             ]
            ],
            "type": "histogram2dcontour"
           }
          ],
          "mesh3d": [
           {
            "colorbar": {
             "outlinewidth": 0,
             "ticks": ""
            },
            "type": "mesh3d"
           }
          ],
          "parcoords": [
           {
            "line": {
             "colorbar": {
              "outlinewidth": 0,
              "ticks": ""
             }
            },
            "type": "parcoords"
           }
          ],
          "pie": [
           {
            "automargin": true,
            "type": "pie"
           }
          ],
          "scatter": [
           {
            "fillpattern": {
             "fillmode": "overlay",
             "size": 10,
             "solidity": 0.2
            },
            "type": "scatter"
           }
          ],
          "scatter3d": [
           {
            "line": {
             "colorbar": {
              "outlinewidth": 0,
              "ticks": ""
             }
            },
            "marker": {
             "colorbar": {
              "outlinewidth": 0,
              "ticks": ""
             }
            },
            "type": "scatter3d"
           }
          ],
          "scattercarpet": [
           {
            "marker": {
             "colorbar": {
              "outlinewidth": 0,
              "ticks": ""
             }
            },
            "type": "scattercarpet"
           }
          ],
          "scattergeo": [
           {
            "marker": {
             "colorbar": {
              "outlinewidth": 0,
              "ticks": ""
             }
            },
            "type": "scattergeo"
           }
          ],
          "scattergl": [
           {
            "marker": {
             "colorbar": {
              "outlinewidth": 0,
              "ticks": ""
             }
            },
            "type": "scattergl"
           }
          ],
          "scattermapbox": [
           {
            "marker": {
             "colorbar": {
              "outlinewidth": 0,
              "ticks": ""
             }
            },
            "type": "scattermapbox"
           }
          ],
          "scatterpolar": [
           {
            "marker": {
             "colorbar": {
              "outlinewidth": 0,
              "ticks": ""
             }
            },
            "type": "scatterpolar"
           }
          ],
          "scatterpolargl": [
           {
            "marker": {
             "colorbar": {
              "outlinewidth": 0,
              "ticks": ""
             }
            },
            "type": "scatterpolargl"
           }
          ],
          "scatterternary": [
           {
            "marker": {
             "colorbar": {
              "outlinewidth": 0,
              "ticks": ""
             }
            },
            "type": "scatterternary"
           }
          ],
          "surface": [
           {
            "colorbar": {
             "outlinewidth": 0,
             "ticks": ""
            },
            "colorscale": [
             [
              0,
              "#0d0887"
             ],
             [
              0.1111111111111111,
              "#46039f"
             ],
             [
              0.2222222222222222,
              "#7201a8"
             ],
             [
              0.3333333333333333,
              "#9c179e"
             ],
             [
              0.4444444444444444,
              "#bd3786"
             ],
             [
              0.5555555555555556,
              "#d8576b"
             ],
             [
              0.6666666666666666,
              "#ed7953"
             ],
             [
              0.7777777777777778,
              "#fb9f3a"
             ],
             [
              0.8888888888888888,
              "#fdca26"
             ],
             [
              1,
              "#f0f921"
             ]
            ],
            "type": "surface"
           }
          ],
          "table": [
           {
            "cells": {
             "fill": {
              "color": "#EBF0F8"
             },
             "line": {
              "color": "white"
             }
            },
            "header": {
             "fill": {
              "color": "#C8D4E3"
             },
             "line": {
              "color": "white"
             }
            },
            "type": "table"
           }
          ]
         },
         "layout": {
          "annotationdefaults": {
           "arrowcolor": "#2a3f5f",
           "arrowhead": 0,
           "arrowwidth": 1
          },
          "autotypenumbers": "strict",
          "coloraxis": {
           "colorbar": {
            "outlinewidth": 0,
            "ticks": ""
           }
          },
          "colorscale": {
           "diverging": [
            [
             0,
             "#8e0152"
            ],
            [
             0.1,
             "#c51b7d"
            ],
            [
             0.2,
             "#de77ae"
            ],
            [
             0.3,
             "#f1b6da"
            ],
            [
             0.4,
             "#fde0ef"
            ],
            [
             0.5,
             "#f7f7f7"
            ],
            [
             0.6,
             "#e6f5d0"
            ],
            [
             0.7,
             "#b8e186"
            ],
            [
             0.8,
             "#7fbc41"
            ],
            [
             0.9,
             "#4d9221"
            ],
            [
             1,
             "#276419"
            ]
           ],
           "sequential": [
            [
             0,
             "#0d0887"
            ],
            [
             0.1111111111111111,
             "#46039f"
            ],
            [
             0.2222222222222222,
             "#7201a8"
            ],
            [
             0.3333333333333333,
             "#9c179e"
            ],
            [
             0.4444444444444444,
             "#bd3786"
            ],
            [
             0.5555555555555556,
             "#d8576b"
            ],
            [
             0.6666666666666666,
             "#ed7953"
            ],
            [
             0.7777777777777778,
             "#fb9f3a"
            ],
            [
             0.8888888888888888,
             "#fdca26"
            ],
            [
             1,
             "#f0f921"
            ]
           ],
           "sequentialminus": [
            [
             0,
             "#0d0887"
            ],
            [
             0.1111111111111111,
             "#46039f"
            ],
            [
             0.2222222222222222,
             "#7201a8"
            ],
            [
             0.3333333333333333,
             "#9c179e"
            ],
            [
             0.4444444444444444,
             "#bd3786"
            ],
            [
             0.5555555555555556,
             "#d8576b"
            ],
            [
             0.6666666666666666,
             "#ed7953"
            ],
            [
             0.7777777777777778,
             "#fb9f3a"
            ],
            [
             0.8888888888888888,
             "#fdca26"
            ],
            [
             1,
             "#f0f921"
            ]
           ]
          },
          "colorway": [
           "#636efa",
           "#EF553B",
           "#00cc96",
           "#ab63fa",
           "#FFA15A",
           "#19d3f3",
           "#FF6692",
           "#B6E880",
           "#FF97FF",
           "#FECB52"
          ],
          "font": {
           "color": "#2a3f5f"
          },
          "geo": {
           "bgcolor": "white",
           "lakecolor": "white",
           "landcolor": "#E5ECF6",
           "showlakes": true,
           "showland": true,
           "subunitcolor": "white"
          },
          "hoverlabel": {
           "align": "left"
          },
          "hovermode": "closest",
          "mapbox": {
           "style": "light"
          },
          "paper_bgcolor": "white",
          "plot_bgcolor": "#E5ECF6",
          "polar": {
           "angularaxis": {
            "gridcolor": "white",
            "linecolor": "white",
            "ticks": ""
           },
           "bgcolor": "#E5ECF6",
           "radialaxis": {
            "gridcolor": "white",
            "linecolor": "white",
            "ticks": ""
           }
          },
          "scene": {
           "xaxis": {
            "backgroundcolor": "#E5ECF6",
            "gridcolor": "white",
            "gridwidth": 2,
            "linecolor": "white",
            "showbackground": true,
            "ticks": "",
            "zerolinecolor": "white"
           },
           "yaxis": {
            "backgroundcolor": "#E5ECF6",
            "gridcolor": "white",
            "gridwidth": 2,
            "linecolor": "white",
            "showbackground": true,
            "ticks": "",
            "zerolinecolor": "white"
           },
           "zaxis": {
            "backgroundcolor": "#E5ECF6",
            "gridcolor": "white",
            "gridwidth": 2,
            "linecolor": "white",
            "showbackground": true,
            "ticks": "",
            "zerolinecolor": "white"
           }
          },
          "shapedefaults": {
           "line": {
            "color": "#2a3f5f"
           }
          },
          "ternary": {
           "aaxis": {
            "gridcolor": "white",
            "linecolor": "white",
            "ticks": ""
           },
           "baxis": {
            "gridcolor": "white",
            "linecolor": "white",
            "ticks": ""
           },
           "bgcolor": "#E5ECF6",
           "caxis": {
            "gridcolor": "white",
            "linecolor": "white",
            "ticks": ""
           }
          },
          "title": {
           "x": 0.05
          },
          "xaxis": {
           "automargin": true,
           "gridcolor": "white",
           "linecolor": "white",
           "ticks": "",
           "title": {
            "standoff": 15
           },
           "zerolinecolor": "white",
           "zerolinewidth": 2
          },
          "yaxis": {
           "automargin": true,
           "gridcolor": "white",
           "linecolor": "white",
           "ticks": "",
           "title": {
            "standoff": 15
           },
           "zerolinecolor": "white",
           "zerolinewidth": 2
          }
         }
        },
        "title": {
         "text": "Number of Power Outages per Year"
        },
        "xaxis": {
         "anchor": "y",
         "domain": [
          0,
          1
         ],
         "title": {
          "text": "YEAR"
         }
        },
        "yaxis": {
         "anchor": "x",
         "domain": [
          0,
          1
         ],
         "title": {
          "text": "value"
         }
        }
       }
      }
     },
     "metadata": {},
     "output_type": "display_data"
    }
   ],
   "source": [
    "cleaned.groupby(\"YEAR\").size().plot(\n",
    "    kind=\"bar\", title=\"Number of Power Outages per Year\"\n",
    ")"
   ]
  },
  {
   "cell_type": "code",
   "execution_count": null,
   "metadata": {},
   "outputs": [
    {
     "data": {
      "application/vnd.plotly.v1+json": {
       "config": {
        "plotlyServerURL": "https://plot.ly"
       },
       "data": [
        {
         "alignmentgroup": "True",
         "hovertemplate": "variable=0<br>MONTH=%{x}<br>value=%{y}<extra></extra>",
         "legendgroup": "0",
         "marker": {
          "color": "#636efa",
          "pattern": {
           "shape": ""
          }
         },
         "name": "0",
         "offsetgroup": "0",
         "orientation": "v",
         "showlegend": true,
         "textposition": "auto",
         "type": "bar",
         "x": [
          1,
          2,
          3,
          4,
          5,
          6,
          7,
          8,
          9,
          10,
          11,
          12
         ],
         "xaxis": "x",
         "y": [
          136,
          136,
          100,
          111,
          127,
          195,
          181,
          153,
          94,
          109,
          72,
          111
         ],
         "yaxis": "y"
        }
       ],
       "layout": {
        "barmode": "relative",
        "legend": {
         "title": {
          "text": "variable"
         },
         "tracegroupgap": 0
        },
        "template": {
         "data": {
          "bar": [
           {
            "error_x": {
             "color": "#2a3f5f"
            },
            "error_y": {
             "color": "#2a3f5f"
            },
            "marker": {
             "line": {
              "color": "#E5ECF6",
              "width": 0.5
             },
             "pattern": {
              "fillmode": "overlay",
              "size": 10,
              "solidity": 0.2
             }
            },
            "type": "bar"
           }
          ],
          "barpolar": [
           {
            "marker": {
             "line": {
              "color": "#E5ECF6",
              "width": 0.5
             },
             "pattern": {
              "fillmode": "overlay",
              "size": 10,
              "solidity": 0.2
             }
            },
            "type": "barpolar"
           }
          ],
          "carpet": [
           {
            "aaxis": {
             "endlinecolor": "#2a3f5f",
             "gridcolor": "white",
             "linecolor": "white",
             "minorgridcolor": "white",
             "startlinecolor": "#2a3f5f"
            },
            "baxis": {
             "endlinecolor": "#2a3f5f",
             "gridcolor": "white",
             "linecolor": "white",
             "minorgridcolor": "white",
             "startlinecolor": "#2a3f5f"
            },
            "type": "carpet"
           }
          ],
          "choropleth": [
           {
            "colorbar": {
             "outlinewidth": 0,
             "ticks": ""
            },
            "type": "choropleth"
           }
          ],
          "contour": [
           {
            "colorbar": {
             "outlinewidth": 0,
             "ticks": ""
            },
            "colorscale": [
             [
              0,
              "#0d0887"
             ],
             [
              0.1111111111111111,
              "#46039f"
             ],
             [
              0.2222222222222222,
              "#7201a8"
             ],
             [
              0.3333333333333333,
              "#9c179e"
             ],
             [
              0.4444444444444444,
              "#bd3786"
             ],
             [
              0.5555555555555556,
              "#d8576b"
             ],
             [
              0.6666666666666666,
              "#ed7953"
             ],
             [
              0.7777777777777778,
              "#fb9f3a"
             ],
             [
              0.8888888888888888,
              "#fdca26"
             ],
             [
              1,
              "#f0f921"
             ]
            ],
            "type": "contour"
           }
          ],
          "contourcarpet": [
           {
            "colorbar": {
             "outlinewidth": 0,
             "ticks": ""
            },
            "type": "contourcarpet"
           }
          ],
          "heatmap": [
           {
            "colorbar": {
             "outlinewidth": 0,
             "ticks": ""
            },
            "colorscale": [
             [
              0,
              "#0d0887"
             ],
             [
              0.1111111111111111,
              "#46039f"
             ],
             [
              0.2222222222222222,
              "#7201a8"
             ],
             [
              0.3333333333333333,
              "#9c179e"
             ],
             [
              0.4444444444444444,
              "#bd3786"
             ],
             [
              0.5555555555555556,
              "#d8576b"
             ],
             [
              0.6666666666666666,
              "#ed7953"
             ],
             [
              0.7777777777777778,
              "#fb9f3a"
             ],
             [
              0.8888888888888888,
              "#fdca26"
             ],
             [
              1,
              "#f0f921"
             ]
            ],
            "type": "heatmap"
           }
          ],
          "heatmapgl": [
           {
            "colorbar": {
             "outlinewidth": 0,
             "ticks": ""
            },
            "colorscale": [
             [
              0,
              "#0d0887"
             ],
             [
              0.1111111111111111,
              "#46039f"
             ],
             [
              0.2222222222222222,
              "#7201a8"
             ],
             [
              0.3333333333333333,
              "#9c179e"
             ],
             [
              0.4444444444444444,
              "#bd3786"
             ],
             [
              0.5555555555555556,
              "#d8576b"
             ],
             [
              0.6666666666666666,
              "#ed7953"
             ],
             [
              0.7777777777777778,
              "#fb9f3a"
             ],
             [
              0.8888888888888888,
              "#fdca26"
             ],
             [
              1,
              "#f0f921"
             ]
            ],
            "type": "heatmapgl"
           }
          ],
          "histogram": [
           {
            "marker": {
             "pattern": {
              "fillmode": "overlay",
              "size": 10,
              "solidity": 0.2
             }
            },
            "type": "histogram"
           }
          ],
          "histogram2d": [
           {
            "colorbar": {
             "outlinewidth": 0,
             "ticks": ""
            },
            "colorscale": [
             [
              0,
              "#0d0887"
             ],
             [
              0.1111111111111111,
              "#46039f"
             ],
             [
              0.2222222222222222,
              "#7201a8"
             ],
             [
              0.3333333333333333,
              "#9c179e"
             ],
             [
              0.4444444444444444,
              "#bd3786"
             ],
             [
              0.5555555555555556,
              "#d8576b"
             ],
             [
              0.6666666666666666,
              "#ed7953"
             ],
             [
              0.7777777777777778,
              "#fb9f3a"
             ],
             [
              0.8888888888888888,
              "#fdca26"
             ],
             [
              1,
              "#f0f921"
             ]
            ],
            "type": "histogram2d"
           }
          ],
          "histogram2dcontour": [
           {
            "colorbar": {
             "outlinewidth": 0,
             "ticks": ""
            },
            "colorscale": [
             [
              0,
              "#0d0887"
             ],
             [
              0.1111111111111111,
              "#46039f"
             ],
             [
              0.2222222222222222,
              "#7201a8"
             ],
             [
              0.3333333333333333,
              "#9c179e"
             ],
             [
              0.4444444444444444,
              "#bd3786"
             ],
             [
              0.5555555555555556,
              "#d8576b"
             ],
             [
              0.6666666666666666,
              "#ed7953"
             ],
             [
              0.7777777777777778,
              "#fb9f3a"
             ],
             [
              0.8888888888888888,
              "#fdca26"
             ],
             [
              1,
              "#f0f921"
             ]
            ],
            "type": "histogram2dcontour"
           }
          ],
          "mesh3d": [
           {
            "colorbar": {
             "outlinewidth": 0,
             "ticks": ""
            },
            "type": "mesh3d"
           }
          ],
          "parcoords": [
           {
            "line": {
             "colorbar": {
              "outlinewidth": 0,
              "ticks": ""
             }
            },
            "type": "parcoords"
           }
          ],
          "pie": [
           {
            "automargin": true,
            "type": "pie"
           }
          ],
          "scatter": [
           {
            "fillpattern": {
             "fillmode": "overlay",
             "size": 10,
             "solidity": 0.2
            },
            "type": "scatter"
           }
          ],
          "scatter3d": [
           {
            "line": {
             "colorbar": {
              "outlinewidth": 0,
              "ticks": ""
             }
            },
            "marker": {
             "colorbar": {
              "outlinewidth": 0,
              "ticks": ""
             }
            },
            "type": "scatter3d"
           }
          ],
          "scattercarpet": [
           {
            "marker": {
             "colorbar": {
              "outlinewidth": 0,
              "ticks": ""
             }
            },
            "type": "scattercarpet"
           }
          ],
          "scattergeo": [
           {
            "marker": {
             "colorbar": {
              "outlinewidth": 0,
              "ticks": ""
             }
            },
            "type": "scattergeo"
           }
          ],
          "scattergl": [
           {
            "marker": {
             "colorbar": {
              "outlinewidth": 0,
              "ticks": ""
             }
            },
            "type": "scattergl"
           }
          ],
          "scattermapbox": [
           {
            "marker": {
             "colorbar": {
              "outlinewidth": 0,
              "ticks": ""
             }
            },
            "type": "scattermapbox"
           }
          ],
          "scatterpolar": [
           {
            "marker": {
             "colorbar": {
              "outlinewidth": 0,
              "ticks": ""
             }
            },
            "type": "scatterpolar"
           }
          ],
          "scatterpolargl": [
           {
            "marker": {
             "colorbar": {
              "outlinewidth": 0,
              "ticks": ""
             }
            },
            "type": "scatterpolargl"
           }
          ],
          "scatterternary": [
           {
            "marker": {
             "colorbar": {
              "outlinewidth": 0,
              "ticks": ""
             }
            },
            "type": "scatterternary"
           }
          ],
          "surface": [
           {
            "colorbar": {
             "outlinewidth": 0,
             "ticks": ""
            },
            "colorscale": [
             [
              0,
              "#0d0887"
             ],
             [
              0.1111111111111111,
              "#46039f"
             ],
             [
              0.2222222222222222,
              "#7201a8"
             ],
             [
              0.3333333333333333,
              "#9c179e"
             ],
             [
              0.4444444444444444,
              "#bd3786"
             ],
             [
              0.5555555555555556,
              "#d8576b"
             ],
             [
              0.6666666666666666,
              "#ed7953"
             ],
             [
              0.7777777777777778,
              "#fb9f3a"
             ],
             [
              0.8888888888888888,
              "#fdca26"
             ],
             [
              1,
              "#f0f921"
             ]
            ],
            "type": "surface"
           }
          ],
          "table": [
           {
            "cells": {
             "fill": {
              "color": "#EBF0F8"
             },
             "line": {
              "color": "white"
             }
            },
            "header": {
             "fill": {
              "color": "#C8D4E3"
             },
             "line": {
              "color": "white"
             }
            },
            "type": "table"
           }
          ]
         },
         "layout": {
          "annotationdefaults": {
           "arrowcolor": "#2a3f5f",
           "arrowhead": 0,
           "arrowwidth": 1
          },
          "autotypenumbers": "strict",
          "coloraxis": {
           "colorbar": {
            "outlinewidth": 0,
            "ticks": ""
           }
          },
          "colorscale": {
           "diverging": [
            [
             0,
             "#8e0152"
            ],
            [
             0.1,
             "#c51b7d"
            ],
            [
             0.2,
             "#de77ae"
            ],
            [
             0.3,
             "#f1b6da"
            ],
            [
             0.4,
             "#fde0ef"
            ],
            [
             0.5,
             "#f7f7f7"
            ],
            [
             0.6,
             "#e6f5d0"
            ],
            [
             0.7,
             "#b8e186"
            ],
            [
             0.8,
             "#7fbc41"
            ],
            [
             0.9,
             "#4d9221"
            ],
            [
             1,
             "#276419"
            ]
           ],
           "sequential": [
            [
             0,
             "#0d0887"
            ],
            [
             0.1111111111111111,
             "#46039f"
            ],
            [
             0.2222222222222222,
             "#7201a8"
            ],
            [
             0.3333333333333333,
             "#9c179e"
            ],
            [
             0.4444444444444444,
             "#bd3786"
            ],
            [
             0.5555555555555556,
             "#d8576b"
            ],
            [
             0.6666666666666666,
             "#ed7953"
            ],
            [
             0.7777777777777778,
             "#fb9f3a"
            ],
            [
             0.8888888888888888,
             "#fdca26"
            ],
            [
             1,
             "#f0f921"
            ]
           ],
           "sequentialminus": [
            [
             0,
             "#0d0887"
            ],
            [
             0.1111111111111111,
             "#46039f"
            ],
            [
             0.2222222222222222,
             "#7201a8"
            ],
            [
             0.3333333333333333,
             "#9c179e"
            ],
            [
             0.4444444444444444,
             "#bd3786"
            ],
            [
             0.5555555555555556,
             "#d8576b"
            ],
            [
             0.6666666666666666,
             "#ed7953"
            ],
            [
             0.7777777777777778,
             "#fb9f3a"
            ],
            [
             0.8888888888888888,
             "#fdca26"
            ],
            [
             1,
             "#f0f921"
            ]
           ]
          },
          "colorway": [
           "#636efa",
           "#EF553B",
           "#00cc96",
           "#ab63fa",
           "#FFA15A",
           "#19d3f3",
           "#FF6692",
           "#B6E880",
           "#FF97FF",
           "#FECB52"
          ],
          "font": {
           "color": "#2a3f5f"
          },
          "geo": {
           "bgcolor": "white",
           "lakecolor": "white",
           "landcolor": "#E5ECF6",
           "showlakes": true,
           "showland": true,
           "subunitcolor": "white"
          },
          "hoverlabel": {
           "align": "left"
          },
          "hovermode": "closest",
          "mapbox": {
           "style": "light"
          },
          "paper_bgcolor": "white",
          "plot_bgcolor": "#E5ECF6",
          "polar": {
           "angularaxis": {
            "gridcolor": "white",
            "linecolor": "white",
            "ticks": ""
           },
           "bgcolor": "#E5ECF6",
           "radialaxis": {
            "gridcolor": "white",
            "linecolor": "white",
            "ticks": ""
           }
          },
          "scene": {
           "xaxis": {
            "backgroundcolor": "#E5ECF6",
            "gridcolor": "white",
            "gridwidth": 2,
            "linecolor": "white",
            "showbackground": true,
            "ticks": "",
            "zerolinecolor": "white"
           },
           "yaxis": {
            "backgroundcolor": "#E5ECF6",
            "gridcolor": "white",
            "gridwidth": 2,
            "linecolor": "white",
            "showbackground": true,
            "ticks": "",
            "zerolinecolor": "white"
           },
           "zaxis": {
            "backgroundcolor": "#E5ECF6",
            "gridcolor": "white",
            "gridwidth": 2,
            "linecolor": "white",
            "showbackground": true,
            "ticks": "",
            "zerolinecolor": "white"
           }
          },
          "shapedefaults": {
           "line": {
            "color": "#2a3f5f"
           }
          },
          "ternary": {
           "aaxis": {
            "gridcolor": "white",
            "linecolor": "white",
            "ticks": ""
           },
           "baxis": {
            "gridcolor": "white",
            "linecolor": "white",
            "ticks": ""
           },
           "bgcolor": "#E5ECF6",
           "caxis": {
            "gridcolor": "white",
            "linecolor": "white",
            "ticks": ""
           }
          },
          "title": {
           "x": 0.05
          },
          "xaxis": {
           "automargin": true,
           "gridcolor": "white",
           "linecolor": "white",
           "ticks": "",
           "title": {
            "standoff": 15
           },
           "zerolinecolor": "white",
           "zerolinewidth": 2
          },
          "yaxis": {
           "automargin": true,
           "gridcolor": "white",
           "linecolor": "white",
           "ticks": "",
           "title": {
            "standoff": 15
           },
           "zerolinecolor": "white",
           "zerolinewidth": 2
          }
         }
        },
        "title": {
         "text": "Number of Power Outages per Month"
        },
        "xaxis": {
         "anchor": "y",
         "domain": [
          0,
          1
         ],
         "title": {
          "text": "MONTH"
         }
        },
        "yaxis": {
         "anchor": "x",
         "domain": [
          0,
          1
         ],
         "title": {
          "text": "value"
         }
        }
       }
      }
     },
     "metadata": {},
     "output_type": "display_data"
    }
   ],
   "source": [
    "cleaned.groupby(\"MONTH\").size().plot(\n",
    "    kind=\"bar\", title=\"Number of Power Outages per Month\"\n",
    ")"
   ]
  },
  {
   "cell_type": "code",
   "execution_count": null,
   "metadata": {},
   "outputs": [
    {
     "data": {
      "application/vnd.plotly.v1+json": {
       "config": {
        "plotlyServerURL": "https://plot.ly"
       },
       "data": [
        {
         "hovertemplate": "variable=0<br>TIME=%{x}<br>value=%{y}<extra></extra>",
         "legendgroup": "0",
         "line": {
          "color": "#636efa",
          "dash": "solid"
         },
         "marker": {
          "symbol": "circle"
         },
         "mode": "lines",
         "name": "0",
         "orientation": "v",
         "showlegend": true,
         "type": "scatter",
         "x": [
          "2000-01",
          "2000-03",
          "2000-05",
          "2000-06",
          "2000-08",
          "2000-12",
          "2001-01",
          "2001-03",
          "2001-05",
          "2001-06",
          "2001-08",
          "2002-01",
          "2002-02",
          "2002-03",
          "2002-04",
          "2002-08",
          "2002-10",
          "2002-11",
          "2002-12",
          "2003-01",
          "2003-02",
          "2003-04",
          "2003-05",
          "2003-06",
          "2003-07",
          "2003-08",
          "2003-09",
          "2003-10",
          "2003-11",
          "2003-12",
          "2004-01",
          "2004-02",
          "2004-03",
          "2004-04",
          "2004-05",
          "2004-06",
          "2004-07",
          "2004-08",
          "2004-09",
          "2004-10",
          "2004-11",
          "2004-12",
          "2005-01",
          "2005-03",
          "2005-04",
          "2005-05",
          "2005-06",
          "2005-07",
          "2005-08",
          "2005-09",
          "2005-10",
          "2005-11",
          "2005-12",
          "2006-01",
          "2006-02",
          "2006-03",
          "2006-04",
          "2006-05",
          "2006-06",
          "2006-07",
          "2006-08",
          "2006-09",
          "2006-10",
          "2006-11",
          "2006-12",
          "2007-01",
          "2007-02",
          "2007-03",
          "2007-04",
          "2007-05",
          "2007-06",
          "2007-07",
          "2007-08",
          "2007-09",
          "2007-10",
          "2007-12",
          "2008-01",
          "2008-02",
          "2008-03",
          "2008-04",
          "2008-05",
          "2008-06",
          "2008-07",
          "2008-08",
          "2008-09",
          "2008-10",
          "2008-11",
          "2008-12",
          "2009-01",
          "2009-02",
          "2009-03",
          "2009-04",
          "2009-05",
          "2009-06",
          "2009-07",
          "2009-08",
          "2009-10",
          "2009-11",
          "2009-12",
          "2010-01",
          "2010-02",
          "2010-03",
          "2010-04",
          "2010-05",
          "2010-06",
          "2010-07",
          "2010-08",
          "2010-09",
          "2010-10",
          "2010-11",
          "2010-12",
          "2011-01",
          "2011-02",
          "2011-03",
          "2011-04",
          "2011-05",
          "2011-06",
          "2011-07",
          "2011-08",
          "2011-09",
          "2011-10",
          "2011-11",
          "2011-12",
          "2012-01",
          "2012-02",
          "2012-03",
          "2012-04",
          "2012-05",
          "2012-06",
          "2012-07",
          "2012-08",
          "2012-09",
          "2012-10",
          "2012-11",
          "2012-12",
          "2013-01",
          "2013-02",
          "2013-03",
          "2013-04",
          "2013-05",
          "2013-06",
          "2013-07",
          "2013-08",
          "2013-09",
          "2013-10",
          "2013-11",
          "2013-12",
          "2014-01",
          "2014-02",
          "2014-03",
          "2014-04",
          "2014-05",
          "2014-06",
          "2015-01",
          "2015-02",
          "2015-03",
          "2015-04",
          "2015-05",
          "2015-06",
          "2015-07",
          "2015-08",
          "2015-09",
          "2015-10",
          "2015-11",
          "2015-12",
          "2016-01",
          "2016-02",
          "2016-03",
          "2016-04",
          "2016-05",
          "2016-06",
          "2016-07"
         ],
         "xaxis": "x",
         "y": [
          2,
          3,
          6,
          3,
          4,
          1,
          2,
          6,
          3,
          3,
          1,
          2,
          1,
          1,
          1,
          2,
          1,
          2,
          6,
          1,
          1,
          4,
          2,
          1,
          11,
          7,
          5,
          1,
          7,
          6,
          7,
          4,
          3,
          3,
          10,
          6,
          8,
          9,
          11,
          5,
          2,
          3,
          5,
          1,
          3,
          2,
          8,
          7,
          9,
          11,
          3,
          4,
          2,
          2,
          10,
          1,
          7,
          2,
          4,
          12,
          2,
          3,
          8,
          4,
          11,
          2,
          4,
          1,
          6,
          6,
          4,
          7,
          8,
          7,
          6,
          5,
          6,
          16,
          1,
          1,
          8,
          22,
          12,
          7,
          18,
          2,
          3,
          15,
          14,
          6,
          5,
          7,
          3,
          12,
          11,
          8,
          5,
          1,
          6,
          7,
          9,
          8,
          3,
          1,
          23,
          13,
          13,
          8,
          8,
          7,
          6,
          14,
          21,
          17,
          21,
          30,
          27,
          35,
          45,
          19,
          19,
          6,
          15,
          15,
          11,
          12,
          18,
          7,
          22,
          21,
          11,
          5,
          36,
          9,
          7,
          10,
          12,
          8,
          10,
          17,
          21,
          15,
          19,
          3,
          7,
          18,
          13,
          38,
          20,
          15,
          9,
          12,
          18,
          4,
          12,
          8,
          9,
          8,
          18,
          16,
          8,
          4,
          8,
          9,
          15,
          5,
          9,
          10,
          9,
          10,
          3,
          13
         ],
         "yaxis": "y"
        }
       ],
       "layout": {
        "legend": {
         "title": {
          "text": "variable"
         },
         "tracegroupgap": 0
        },
        "margin": {
         "t": 60
        },
        "template": {
         "data": {
          "bar": [
           {
            "error_x": {
             "color": "#2a3f5f"
            },
            "error_y": {
             "color": "#2a3f5f"
            },
            "marker": {
             "line": {
              "color": "#E5ECF6",
              "width": 0.5
             },
             "pattern": {
              "fillmode": "overlay",
              "size": 10,
              "solidity": 0.2
             }
            },
            "type": "bar"
           }
          ],
          "barpolar": [
           {
            "marker": {
             "line": {
              "color": "#E5ECF6",
              "width": 0.5
             },
             "pattern": {
              "fillmode": "overlay",
              "size": 10,
              "solidity": 0.2
             }
            },
            "type": "barpolar"
           }
          ],
          "carpet": [
           {
            "aaxis": {
             "endlinecolor": "#2a3f5f",
             "gridcolor": "white",
             "linecolor": "white",
             "minorgridcolor": "white",
             "startlinecolor": "#2a3f5f"
            },
            "baxis": {
             "endlinecolor": "#2a3f5f",
             "gridcolor": "white",
             "linecolor": "white",
             "minorgridcolor": "white",
             "startlinecolor": "#2a3f5f"
            },
            "type": "carpet"
           }
          ],
          "choropleth": [
           {
            "colorbar": {
             "outlinewidth": 0,
             "ticks": ""
            },
            "type": "choropleth"
           }
          ],
          "contour": [
           {
            "colorbar": {
             "outlinewidth": 0,
             "ticks": ""
            },
            "colorscale": [
             [
              0,
              "#0d0887"
             ],
             [
              0.1111111111111111,
              "#46039f"
             ],
             [
              0.2222222222222222,
              "#7201a8"
             ],
             [
              0.3333333333333333,
              "#9c179e"
             ],
             [
              0.4444444444444444,
              "#bd3786"
             ],
             [
              0.5555555555555556,
              "#d8576b"
             ],
             [
              0.6666666666666666,
              "#ed7953"
             ],
             [
              0.7777777777777778,
              "#fb9f3a"
             ],
             [
              0.8888888888888888,
              "#fdca26"
             ],
             [
              1,
              "#f0f921"
             ]
            ],
            "type": "contour"
           }
          ],
          "contourcarpet": [
           {
            "colorbar": {
             "outlinewidth": 0,
             "ticks": ""
            },
            "type": "contourcarpet"
           }
          ],
          "heatmap": [
           {
            "colorbar": {
             "outlinewidth": 0,
             "ticks": ""
            },
            "colorscale": [
             [
              0,
              "#0d0887"
             ],
             [
              0.1111111111111111,
              "#46039f"
             ],
             [
              0.2222222222222222,
              "#7201a8"
             ],
             [
              0.3333333333333333,
              "#9c179e"
             ],
             [
              0.4444444444444444,
              "#bd3786"
             ],
             [
              0.5555555555555556,
              "#d8576b"
             ],
             [
              0.6666666666666666,
              "#ed7953"
             ],
             [
              0.7777777777777778,
              "#fb9f3a"
             ],
             [
              0.8888888888888888,
              "#fdca26"
             ],
             [
              1,
              "#f0f921"
             ]
            ],
            "type": "heatmap"
           }
          ],
          "heatmapgl": [
           {
            "colorbar": {
             "outlinewidth": 0,
             "ticks": ""
            },
            "colorscale": [
             [
              0,
              "#0d0887"
             ],
             [
              0.1111111111111111,
              "#46039f"
             ],
             [
              0.2222222222222222,
              "#7201a8"
             ],
             [
              0.3333333333333333,
              "#9c179e"
             ],
             [
              0.4444444444444444,
              "#bd3786"
             ],
             [
              0.5555555555555556,
              "#d8576b"
             ],
             [
              0.6666666666666666,
              "#ed7953"
             ],
             [
              0.7777777777777778,
              "#fb9f3a"
             ],
             [
              0.8888888888888888,
              "#fdca26"
             ],
             [
              1,
              "#f0f921"
             ]
            ],
            "type": "heatmapgl"
           }
          ],
          "histogram": [
           {
            "marker": {
             "pattern": {
              "fillmode": "overlay",
              "size": 10,
              "solidity": 0.2
             }
            },
            "type": "histogram"
           }
          ],
          "histogram2d": [
           {
            "colorbar": {
             "outlinewidth": 0,
             "ticks": ""
            },
            "colorscale": [
             [
              0,
              "#0d0887"
             ],
             [
              0.1111111111111111,
              "#46039f"
             ],
             [
              0.2222222222222222,
              "#7201a8"
             ],
             [
              0.3333333333333333,
              "#9c179e"
             ],
             [
              0.4444444444444444,
              "#bd3786"
             ],
             [
              0.5555555555555556,
              "#d8576b"
             ],
             [
              0.6666666666666666,
              "#ed7953"
             ],
             [
              0.7777777777777778,
              "#fb9f3a"
             ],
             [
              0.8888888888888888,
              "#fdca26"
             ],
             [
              1,
              "#f0f921"
             ]
            ],
            "type": "histogram2d"
           }
          ],
          "histogram2dcontour": [
           {
            "colorbar": {
             "outlinewidth": 0,
             "ticks": ""
            },
            "colorscale": [
             [
              0,
              "#0d0887"
             ],
             [
              0.1111111111111111,
              "#46039f"
             ],
             [
              0.2222222222222222,
              "#7201a8"
             ],
             [
              0.3333333333333333,
              "#9c179e"
             ],
             [
              0.4444444444444444,
              "#bd3786"
             ],
             [
              0.5555555555555556,
              "#d8576b"
             ],
             [
              0.6666666666666666,
              "#ed7953"
             ],
             [
              0.7777777777777778,
              "#fb9f3a"
             ],
             [
              0.8888888888888888,
              "#fdca26"
             ],
             [
              1,
              "#f0f921"
             ]
            ],
            "type": "histogram2dcontour"
           }
          ],
          "mesh3d": [
           {
            "colorbar": {
             "outlinewidth": 0,
             "ticks": ""
            },
            "type": "mesh3d"
           }
          ],
          "parcoords": [
           {
            "line": {
             "colorbar": {
              "outlinewidth": 0,
              "ticks": ""
             }
            },
            "type": "parcoords"
           }
          ],
          "pie": [
           {
            "automargin": true,
            "type": "pie"
           }
          ],
          "scatter": [
           {
            "fillpattern": {
             "fillmode": "overlay",
             "size": 10,
             "solidity": 0.2
            },
            "type": "scatter"
           }
          ],
          "scatter3d": [
           {
            "line": {
             "colorbar": {
              "outlinewidth": 0,
              "ticks": ""
             }
            },
            "marker": {
             "colorbar": {
              "outlinewidth": 0,
              "ticks": ""
             }
            },
            "type": "scatter3d"
           }
          ],
          "scattercarpet": [
           {
            "marker": {
             "colorbar": {
              "outlinewidth": 0,
              "ticks": ""
             }
            },
            "type": "scattercarpet"
           }
          ],
          "scattergeo": [
           {
            "marker": {
             "colorbar": {
              "outlinewidth": 0,
              "ticks": ""
             }
            },
            "type": "scattergeo"
           }
          ],
          "scattergl": [
           {
            "marker": {
             "colorbar": {
              "outlinewidth": 0,
              "ticks": ""
             }
            },
            "type": "scattergl"
           }
          ],
          "scattermapbox": [
           {
            "marker": {
             "colorbar": {
              "outlinewidth": 0,
              "ticks": ""
             }
            },
            "type": "scattermapbox"
           }
          ],
          "scatterpolar": [
           {
            "marker": {
             "colorbar": {
              "outlinewidth": 0,
              "ticks": ""
             }
            },
            "type": "scatterpolar"
           }
          ],
          "scatterpolargl": [
           {
            "marker": {
             "colorbar": {
              "outlinewidth": 0,
              "ticks": ""
             }
            },
            "type": "scatterpolargl"
           }
          ],
          "scatterternary": [
           {
            "marker": {
             "colorbar": {
              "outlinewidth": 0,
              "ticks": ""
             }
            },
            "type": "scatterternary"
           }
          ],
          "surface": [
           {
            "colorbar": {
             "outlinewidth": 0,
             "ticks": ""
            },
            "colorscale": [
             [
              0,
              "#0d0887"
             ],
             [
              0.1111111111111111,
              "#46039f"
             ],
             [
              0.2222222222222222,
              "#7201a8"
             ],
             [
              0.3333333333333333,
              "#9c179e"
             ],
             [
              0.4444444444444444,
              "#bd3786"
             ],
             [
              0.5555555555555556,
              "#d8576b"
             ],
             [
              0.6666666666666666,
              "#ed7953"
             ],
             [
              0.7777777777777778,
              "#fb9f3a"
             ],
             [
              0.8888888888888888,
              "#fdca26"
             ],
             [
              1,
              "#f0f921"
             ]
            ],
            "type": "surface"
           }
          ],
          "table": [
           {
            "cells": {
             "fill": {
              "color": "#EBF0F8"
             },
             "line": {
              "color": "white"
             }
            },
            "header": {
             "fill": {
              "color": "#C8D4E3"
             },
             "line": {
              "color": "white"
             }
            },
            "type": "table"
           }
          ]
         },
         "layout": {
          "annotationdefaults": {
           "arrowcolor": "#2a3f5f",
           "arrowhead": 0,
           "arrowwidth": 1
          },
          "autotypenumbers": "strict",
          "coloraxis": {
           "colorbar": {
            "outlinewidth": 0,
            "ticks": ""
           }
          },
          "colorscale": {
           "diverging": [
            [
             0,
             "#8e0152"
            ],
            [
             0.1,
             "#c51b7d"
            ],
            [
             0.2,
             "#de77ae"
            ],
            [
             0.3,
             "#f1b6da"
            ],
            [
             0.4,
             "#fde0ef"
            ],
            [
             0.5,
             "#f7f7f7"
            ],
            [
             0.6,
             "#e6f5d0"
            ],
            [
             0.7,
             "#b8e186"
            ],
            [
             0.8,
             "#7fbc41"
            ],
            [
             0.9,
             "#4d9221"
            ],
            [
             1,
             "#276419"
            ]
           ],
           "sequential": [
            [
             0,
             "#0d0887"
            ],
            [
             0.1111111111111111,
             "#46039f"
            ],
            [
             0.2222222222222222,
             "#7201a8"
            ],
            [
             0.3333333333333333,
             "#9c179e"
            ],
            [
             0.4444444444444444,
             "#bd3786"
            ],
            [
             0.5555555555555556,
             "#d8576b"
            ],
            [
             0.6666666666666666,
             "#ed7953"
            ],
            [
             0.7777777777777778,
             "#fb9f3a"
            ],
            [
             0.8888888888888888,
             "#fdca26"
            ],
            [
             1,
             "#f0f921"
            ]
           ],
           "sequentialminus": [
            [
             0,
             "#0d0887"
            ],
            [
             0.1111111111111111,
             "#46039f"
            ],
            [
             0.2222222222222222,
             "#7201a8"
            ],
            [
             0.3333333333333333,
             "#9c179e"
            ],
            [
             0.4444444444444444,
             "#bd3786"
            ],
            [
             0.5555555555555556,
             "#d8576b"
            ],
            [
             0.6666666666666666,
             "#ed7953"
            ],
            [
             0.7777777777777778,
             "#fb9f3a"
            ],
            [
             0.8888888888888888,
             "#fdca26"
            ],
            [
             1,
             "#f0f921"
            ]
           ]
          },
          "colorway": [
           "#636efa",
           "#EF553B",
           "#00cc96",
           "#ab63fa",
           "#FFA15A",
           "#19d3f3",
           "#FF6692",
           "#B6E880",
           "#FF97FF",
           "#FECB52"
          ],
          "font": {
           "color": "#2a3f5f"
          },
          "geo": {
           "bgcolor": "white",
           "lakecolor": "white",
           "landcolor": "#E5ECF6",
           "showlakes": true,
           "showland": true,
           "subunitcolor": "white"
          },
          "hoverlabel": {
           "align": "left"
          },
          "hovermode": "closest",
          "mapbox": {
           "style": "light"
          },
          "paper_bgcolor": "white",
          "plot_bgcolor": "#E5ECF6",
          "polar": {
           "angularaxis": {
            "gridcolor": "white",
            "linecolor": "white",
            "ticks": ""
           },
           "bgcolor": "#E5ECF6",
           "radialaxis": {
            "gridcolor": "white",
            "linecolor": "white",
            "ticks": ""
           }
          },
          "scene": {
           "xaxis": {
            "backgroundcolor": "#E5ECF6",
            "gridcolor": "white",
            "gridwidth": 2,
            "linecolor": "white",
            "showbackground": true,
            "ticks": "",
            "zerolinecolor": "white"
           },
           "yaxis": {
            "backgroundcolor": "#E5ECF6",
            "gridcolor": "white",
            "gridwidth": 2,
            "linecolor": "white",
            "showbackground": true,
            "ticks": "",
            "zerolinecolor": "white"
           },
           "zaxis": {
            "backgroundcolor": "#E5ECF6",
            "gridcolor": "white",
            "gridwidth": 2,
            "linecolor": "white",
            "showbackground": true,
            "ticks": "",
            "zerolinecolor": "white"
           }
          },
          "shapedefaults": {
           "line": {
            "color": "#2a3f5f"
           }
          },
          "ternary": {
           "aaxis": {
            "gridcolor": "white",
            "linecolor": "white",
            "ticks": ""
           },
           "baxis": {
            "gridcolor": "white",
            "linecolor": "white",
            "ticks": ""
           },
           "bgcolor": "#E5ECF6",
           "caxis": {
            "gridcolor": "white",
            "linecolor": "white",
            "ticks": ""
           }
          },
          "title": {
           "x": 0.05
          },
          "xaxis": {
           "automargin": true,
           "gridcolor": "white",
           "linecolor": "white",
           "ticks": "",
           "title": {
            "standoff": 15
           },
           "zerolinecolor": "white",
           "zerolinewidth": 2
          },
          "yaxis": {
           "automargin": true,
           "gridcolor": "white",
           "linecolor": "white",
           "ticks": "",
           "title": {
            "standoff": 15
           },
           "zerolinecolor": "white",
           "zerolinewidth": 2
          }
         }
        },
        "xaxis": {
         "anchor": "y",
         "domain": [
          0,
          1
         ],
         "title": {
          "text": "TIME"
         }
        },
        "yaxis": {
         "anchor": "x",
         "domain": [
          0,
          1
         ],
         "title": {
          "text": "value"
         }
        }
       }
      }
     },
     "metadata": {},
     "output_type": "display_data"
    }
   ],
   "source": [
    "cleaned.assign(TIME=cleaned[\"OUTAGE.START\"].dt.strftime(\"%Y-%m\")).groupby(\n",
    "    \"TIME\"\n",
    ").size().plot()"
   ]
  },
  {
   "cell_type": "code",
   "execution_count": null,
   "metadata": {},
   "outputs": [
    {
     "data": {
      "application/vnd.plotly.v1+json": {
       "config": {
        "plotlyServerURL": "https://plot.ly"
       },
       "data": [
        {
         "hovertemplate": "variable=LOG_DEMAND_LOSS_MW<br>TIME=%{x}<br>value=%{y}<extra></extra>",
         "legendgroup": "LOG_DEMAND_LOSS_MW",
         "line": {
          "color": "#636efa",
          "dash": "solid"
         },
         "marker": {
          "symbol": "circle"
         },
         "mode": "lines",
         "name": "LOG_DEMAND_LOSS_MW",
         "orientation": "v",
         "showlegend": true,
         "type": "scatter",
         "x": [
          "2001-05",
          "2002-02",
          "2002-11",
          "2002-12",
          "2003-07",
          "2003-12",
          "2004-01",
          "2004-02",
          "2004-03",
          "2004-05",
          "2004-08",
          "2004-10",
          "2004-12",
          "2005-01",
          "2005-07",
          "2005-08",
          "2005-09",
          "2005-12",
          "2006-05",
          "2006-07",
          "2006-10",
          "2006-12",
          "2007-02",
          "2007-04",
          "2007-08",
          "2007-10",
          "2008-01",
          "2008-02",
          "2008-06",
          "2008-07",
          "2008-09",
          "2008-11",
          "2008-12",
          "2009-04",
          "2009-06",
          "2009-07",
          "2009-10",
          "2010-01",
          "2010-03",
          "2010-06",
          "2010-09",
          "2010-10",
          "2010-11",
          "2010-12",
          "2011-02",
          "2011-03",
          "2011-06",
          "2011-12",
          "2012-02",
          "2012-08",
          "2012-10",
          "2012-12",
          "2013-02",
          "2013-03",
          "2013-04",
          "2013-06",
          "2013-07",
          "2013-08",
          "2013-10",
          "2013-11",
          "2014-05",
          "2015-06",
          "2015-07",
          "2015-10",
          "2015-12",
          "2016-02"
         ],
         "xaxis": "x",
         "y": [
          5.41610040220442,
          5.703782474656201,
          5.598421958998375,
          4.60915427081268,
          5.298317366548036,
          5.159812218560815,
          5.135798437050262,
          5.480638923341991,
          5.703782474656201,
          6.495265555937008,
          6.173786103901937,
          4.78818570541947,
          4.605170185988092,
          4.787491742782046,
          5.305539948763785,
          6.761572768804055,
          7.8547691834991324,
          6.684611727667927,
          5.703782474656201,
          5.298317366548036,
          5.730099782973574,
          6.040254711277414,
          4.700480365792417,
          5.298317366548036,
          5.19295685089021,
          5.814256205156363,
          5.959195286539196,
          2.302585092994046,
          1.0986122886681098,
          5.058330786406424,
          3.4011973816621555,
          5.645701420008639,
          2.3502401828962083,
          6.238324625039508,
          0,
          4.912654885736052,
          5.1788714124068616,
          6.4186594388723295,
          5.780743515792329,
          1.0986122886681098,
          3.4339872044851463,
          2.772588722239781,
          3.468087613482872,
          2.644133515347268,
          4.51085950651685,
          4.479130089513784,
          2.302585092994046,
          5.703782474656201,
          0,
          1.6094379124341003,
          1.0986122886681098,
          5.521460917862246,
          9.536040511615484,
          5.703782474656201,
          4.382026634673881,
          5.480638923341991,
          5.298317366548036,
          6.529418838262226,
          4.74493212836325,
          4.508984239664363,
          8.268731832117737,
          1.6094379124341003,
          4.238185598447991,
          4.477336814478207,
          3.27267483016721,
          1.9459101490553132
         ],
         "yaxis": "y"
        },
        {
         "hovertemplate": "variable=LOG_OUTAGE_DURATION<br>TIME=%{x}<br>value=%{y}<extra></extra>",
         "legendgroup": "LOG_OUTAGE_DURATION",
         "line": {
          "color": "#EF553B",
          "dash": "solid"
         },
         "marker": {
          "symbol": "circle"
         },
         "mode": "lines",
         "name": "LOG_OUTAGE_DURATION",
         "orientation": "v",
         "showlegend": true,
         "type": "scatter",
         "x": [
          "2001-05",
          "2002-02",
          "2002-11",
          "2002-12",
          "2003-07",
          "2003-12",
          "2004-01",
          "2004-02",
          "2004-03",
          "2004-05",
          "2004-08",
          "2004-10",
          "2004-12",
          "2005-01",
          "2005-07",
          "2005-08",
          "2005-09",
          "2005-12",
          "2006-05",
          "2006-07",
          "2006-10",
          "2006-12",
          "2007-02",
          "2007-04",
          "2007-08",
          "2007-10",
          "2008-01",
          "2008-02",
          "2008-06",
          "2008-07",
          "2008-09",
          "2008-11",
          "2008-12",
          "2009-04",
          "2009-06",
          "2009-07",
          "2009-10",
          "2010-01",
          "2010-03",
          "2010-06",
          "2010-09",
          "2010-10",
          "2010-11",
          "2010-12",
          "2011-02",
          "2011-03",
          "2011-06",
          "2011-12",
          "2012-02",
          "2012-08",
          "2012-10",
          "2012-12",
          "2013-02",
          "2013-03",
          "2013-04",
          "2013-06",
          "2013-07",
          "2013-08",
          "2013-10",
          "2013-11",
          "2014-05",
          "2015-06",
          "2015-07",
          "2015-10",
          "2015-12",
          "2016-02"
         ],
         "xaxis": "x",
         "y": [
          4.68213122712422,
          3.8501476017100584,
          8.548691858475609,
          8.383112272433301,
          4.8283137373023015,
          7.607330273232665,
          7.575584651557793,
          7.922623574217286,
          3.4965075614664802,
          5.598421958998375,
          4.1588830833596715,
          6.507600619899938,
          6.802394763324311,
          8.463792414689122,
          5.321460883523693,
          5.517452896464707,
          4.430816798843313,
          8.99961934066053,
          5.8998973535824915,
          8.905308661189288,
          5.811140992976701,
          9.044521887281242,
          8.313852267398207,
          7.114769448366463,
          4.1588830833596715,
          4.644711843994601,
          7.943657757507273,
          5.598421958998375,
          5.4116460518550396,
          6.244888408306366,
          1.0986122886681098,
          6.629346929007151,
          6.1987389105285855,
          4.820281565605037,
          5.991464547107982,
          6.812345094177479,
          5.397230238212996,
          7.512296739088517,
          4.02535169073515,
          3.912023005428146,
          4.969813299576001,
          2.3978952727983707,
          6.330773498761045,
          3.6002124464724785,
          8.314414235209062,
          5.990119841217083,
          3.970291913552122,
          7.60887062919126,
          5.262690188904886,
          3.258096538021482,
          2.6390573296152584,
          8.039157390473237,
          7.134093721192866,
          5.438079308923196,
          5.272999558563747,
          5.099866427824199,
          6.429719478039138,
          6.486160788944089,
          2.70805020110221,
          3.060148709475475,
          6.424869023905388,
          4.9694756084058485,
          5.084116796852426,
          6.8966943316227125,
          3.4923581600591325,
          5.407171771460119
         ],
         "yaxis": "y"
        },
        {
         "hovertemplate": "variable=LOG_CUSTOMERS_AFFECTED<br>TIME=%{x}<br>value=%{y}<extra></extra>",
         "legendgroup": "LOG_CUSTOMERS_AFFECTED",
         "line": {
          "color": "#00cc96",
          "dash": "solid"
         },
         "marker": {
          "symbol": "circle"
         },
         "mode": "lines",
         "name": "LOG_CUSTOMERS_AFFECTED",
         "orientation": "v",
         "showlegend": true,
         "type": "scatter",
         "x": [
          "2001-05",
          "2002-02",
          "2002-11",
          "2002-12",
          "2003-07",
          "2003-12",
          "2004-01",
          "2004-02",
          "2004-03",
          "2004-05",
          "2004-08",
          "2004-10",
          "2004-12",
          "2005-01",
          "2005-07",
          "2005-08",
          "2005-09",
          "2005-12",
          "2006-05",
          "2006-07",
          "2006-10",
          "2006-12",
          "2007-02",
          "2007-04",
          "2007-08",
          "2007-10",
          "2008-01",
          "2008-02",
          "2008-06",
          "2008-07",
          "2008-09",
          "2008-11",
          "2008-12",
          "2009-04",
          "2009-06",
          "2009-07",
          "2009-10",
          "2010-01",
          "2010-03",
          "2010-06",
          "2010-09",
          "2010-10",
          "2010-11",
          "2010-12",
          "2011-02",
          "2011-03",
          "2011-06",
          "2011-12",
          "2012-02",
          "2012-08",
          "2012-10",
          "2012-12",
          "2013-02",
          "2013-03",
          "2013-04",
          "2013-06",
          "2013-07",
          "2013-08",
          "2013-10",
          "2013-11",
          "2014-05",
          "2015-06",
          "2015-07",
          "2015-10",
          "2015-12",
          "2016-02"
         ],
         "xaxis": "x",
         "y": [
          11.168292016068309,
          12.449018824140563,
          13.7525707581904,
          13.54098713967118,
          0,
          11.897919855058129,
          12.479909311159902,
          13.132313708257497,
          11.156250521031495,
          6.84587987526405,
          12.111761966058932,
          11.955337210743508,
          11.461632170582678,
          12.999065161059836,
          11.782512311653468,
          12.921470435024938,
          13.710150042306449,
          14.32672570585589,
          10.926927199927325,
          14.056016899847107,
          11.77528972943772,
          13.65307162526667,
          13.416806045443032,
          11.976514816650907,
          10.165851817003619,
          11.326818017938109,
          13.346037399220043,
          9.211140052146748,
          6.1675164908883415,
          11.372856828553063,
          9.210340371976184,
          12.135214445541848,
          8.639058283877537,
          12.542544882151386,
          4.248495242049359,
          0,
          12.557609495154383,
          11.824956584693673,
          12.577636201962656,
          7.882314918980268,
          9.615805480084347,
          7.891330757661889,
          7.084333190133305,
          8.832359657421046,
          11.289781913656018,
          10.875258209472763,
          8.57810012631976,
          11.512925464970229,
          0,
          4.844187086458591,
          7.618251097876695,
          11.736069016284437,
          8.826147399143558,
          10.982747112688422,
          0,
          11.086057950601628,
          11.719939634354555,
          11.728036844587175,
          6.07073772800249,
          11.094624498483835,
          14.151982794585487,
          6.385505692125076,
          7.757529852264597,
          10.927322414246413,
          9.205930663487482,
          8.366370301681654
         ],
         "yaxis": "y"
        }
       ],
       "layout": {
        "legend": {
         "title": {
          "text": "variable"
         },
         "tracegroupgap": 0
        },
        "margin": {
         "t": 60
        },
        "template": {
         "data": {
          "bar": [
           {
            "error_x": {
             "color": "#2a3f5f"
            },
            "error_y": {
             "color": "#2a3f5f"
            },
            "marker": {
             "line": {
              "color": "#E5ECF6",
              "width": 0.5
             },
             "pattern": {
              "fillmode": "overlay",
              "size": 10,
              "solidity": 0.2
             }
            },
            "type": "bar"
           }
          ],
          "barpolar": [
           {
            "marker": {
             "line": {
              "color": "#E5ECF6",
              "width": 0.5
             },
             "pattern": {
              "fillmode": "overlay",
              "size": 10,
              "solidity": 0.2
             }
            },
            "type": "barpolar"
           }
          ],
          "carpet": [
           {
            "aaxis": {
             "endlinecolor": "#2a3f5f",
             "gridcolor": "white",
             "linecolor": "white",
             "minorgridcolor": "white",
             "startlinecolor": "#2a3f5f"
            },
            "baxis": {
             "endlinecolor": "#2a3f5f",
             "gridcolor": "white",
             "linecolor": "white",
             "minorgridcolor": "white",
             "startlinecolor": "#2a3f5f"
            },
            "type": "carpet"
           }
          ],
          "choropleth": [
           {
            "colorbar": {
             "outlinewidth": 0,
             "ticks": ""
            },
            "type": "choropleth"
           }
          ],
          "contour": [
           {
            "colorbar": {
             "outlinewidth": 0,
             "ticks": ""
            },
            "colorscale": [
             [
              0,
              "#0d0887"
             ],
             [
              0.1111111111111111,
              "#46039f"
             ],
             [
              0.2222222222222222,
              "#7201a8"
             ],
             [
              0.3333333333333333,
              "#9c179e"
             ],
             [
              0.4444444444444444,
              "#bd3786"
             ],
             [
              0.5555555555555556,
              "#d8576b"
             ],
             [
              0.6666666666666666,
              "#ed7953"
             ],
             [
              0.7777777777777778,
              "#fb9f3a"
             ],
             [
              0.8888888888888888,
              "#fdca26"
             ],
             [
              1,
              "#f0f921"
             ]
            ],
            "type": "contour"
           }
          ],
          "contourcarpet": [
           {
            "colorbar": {
             "outlinewidth": 0,
             "ticks": ""
            },
            "type": "contourcarpet"
           }
          ],
          "heatmap": [
           {
            "colorbar": {
             "outlinewidth": 0,
             "ticks": ""
            },
            "colorscale": [
             [
              0,
              "#0d0887"
             ],
             [
              0.1111111111111111,
              "#46039f"
             ],
             [
              0.2222222222222222,
              "#7201a8"
             ],
             [
              0.3333333333333333,
              "#9c179e"
             ],
             [
              0.4444444444444444,
              "#bd3786"
             ],
             [
              0.5555555555555556,
              "#d8576b"
             ],
             [
              0.6666666666666666,
              "#ed7953"
             ],
             [
              0.7777777777777778,
              "#fb9f3a"
             ],
             [
              0.8888888888888888,
              "#fdca26"
             ],
             [
              1,
              "#f0f921"
             ]
            ],
            "type": "heatmap"
           }
          ],
          "heatmapgl": [
           {
            "colorbar": {
             "outlinewidth": 0,
             "ticks": ""
            },
            "colorscale": [
             [
              0,
              "#0d0887"
             ],
             [
              0.1111111111111111,
              "#46039f"
             ],
             [
              0.2222222222222222,
              "#7201a8"
             ],
             [
              0.3333333333333333,
              "#9c179e"
             ],
             [
              0.4444444444444444,
              "#bd3786"
             ],
             [
              0.5555555555555556,
              "#d8576b"
             ],
             [
              0.6666666666666666,
              "#ed7953"
             ],
             [
              0.7777777777777778,
              "#fb9f3a"
             ],
             [
              0.8888888888888888,
              "#fdca26"
             ],
             [
              1,
              "#f0f921"
             ]
            ],
            "type": "heatmapgl"
           }
          ],
          "histogram": [
           {
            "marker": {
             "pattern": {
              "fillmode": "overlay",
              "size": 10,
              "solidity": 0.2
             }
            },
            "type": "histogram"
           }
          ],
          "histogram2d": [
           {
            "colorbar": {
             "outlinewidth": 0,
             "ticks": ""
            },
            "colorscale": [
             [
              0,
              "#0d0887"
             ],
             [
              0.1111111111111111,
              "#46039f"
             ],
             [
              0.2222222222222222,
              "#7201a8"
             ],
             [
              0.3333333333333333,
              "#9c179e"
             ],
             [
              0.4444444444444444,
              "#bd3786"
             ],
             [
              0.5555555555555556,
              "#d8576b"
             ],
             [
              0.6666666666666666,
              "#ed7953"
             ],
             [
              0.7777777777777778,
              "#fb9f3a"
             ],
             [
              0.8888888888888888,
              "#fdca26"
             ],
             [
              1,
              "#f0f921"
             ]
            ],
            "type": "histogram2d"
           }
          ],
          "histogram2dcontour": [
           {
            "colorbar": {
             "outlinewidth": 0,
             "ticks": ""
            },
            "colorscale": [
             [
              0,
              "#0d0887"
             ],
             [
              0.1111111111111111,
              "#46039f"
             ],
             [
              0.2222222222222222,
              "#7201a8"
             ],
             [
              0.3333333333333333,
              "#9c179e"
             ],
             [
              0.4444444444444444,
              "#bd3786"
             ],
             [
              0.5555555555555556,
              "#d8576b"
             ],
             [
              0.6666666666666666,
              "#ed7953"
             ],
             [
              0.7777777777777778,
              "#fb9f3a"
             ],
             [
              0.8888888888888888,
              "#fdca26"
             ],
             [
              1,
              "#f0f921"
             ]
            ],
            "type": "histogram2dcontour"
           }
          ],
          "mesh3d": [
           {
            "colorbar": {
             "outlinewidth": 0,
             "ticks": ""
            },
            "type": "mesh3d"
           }
          ],
          "parcoords": [
           {
            "line": {
             "colorbar": {
              "outlinewidth": 0,
              "ticks": ""
             }
            },
            "type": "parcoords"
           }
          ],
          "pie": [
           {
            "automargin": true,
            "type": "pie"
           }
          ],
          "scatter": [
           {
            "fillpattern": {
             "fillmode": "overlay",
             "size": 10,
             "solidity": 0.2
            },
            "type": "scatter"
           }
          ],
          "scatter3d": [
           {
            "line": {
             "colorbar": {
              "outlinewidth": 0,
              "ticks": ""
             }
            },
            "marker": {
             "colorbar": {
              "outlinewidth": 0,
              "ticks": ""
             }
            },
            "type": "scatter3d"
           }
          ],
          "scattercarpet": [
           {
            "marker": {
             "colorbar": {
              "outlinewidth": 0,
              "ticks": ""
             }
            },
            "type": "scattercarpet"
           }
          ],
          "scattergeo": [
           {
            "marker": {
             "colorbar": {
              "outlinewidth": 0,
              "ticks": ""
             }
            },
            "type": "scattergeo"
           }
          ],
          "scattergl": [
           {
            "marker": {
             "colorbar": {
              "outlinewidth": 0,
              "ticks": ""
             }
            },
            "type": "scattergl"
           }
          ],
          "scattermapbox": [
           {
            "marker": {
             "colorbar": {
              "outlinewidth": 0,
              "ticks": ""
             }
            },
            "type": "scattermapbox"
           }
          ],
          "scatterpolar": [
           {
            "marker": {
             "colorbar": {
              "outlinewidth": 0,
              "ticks": ""
             }
            },
            "type": "scatterpolar"
           }
          ],
          "scatterpolargl": [
           {
            "marker": {
             "colorbar": {
              "outlinewidth": 0,
              "ticks": ""
             }
            },
            "type": "scatterpolargl"
           }
          ],
          "scatterternary": [
           {
            "marker": {
             "colorbar": {
              "outlinewidth": 0,
              "ticks": ""
             }
            },
            "type": "scatterternary"
           }
          ],
          "surface": [
           {
            "colorbar": {
             "outlinewidth": 0,
             "ticks": ""
            },
            "colorscale": [
             [
              0,
              "#0d0887"
             ],
             [
              0.1111111111111111,
              "#46039f"
             ],
             [
              0.2222222222222222,
              "#7201a8"
             ],
             [
              0.3333333333333333,
              "#9c179e"
             ],
             [
              0.4444444444444444,
              "#bd3786"
             ],
             [
              0.5555555555555556,
              "#d8576b"
             ],
             [
              0.6666666666666666,
              "#ed7953"
             ],
             [
              0.7777777777777778,
              "#fb9f3a"
             ],
             [
              0.8888888888888888,
              "#fdca26"
             ],
             [
              1,
              "#f0f921"
             ]
            ],
            "type": "surface"
           }
          ],
          "table": [
           {
            "cells": {
             "fill": {
              "color": "#EBF0F8"
             },
             "line": {
              "color": "white"
             }
            },
            "header": {
             "fill": {
              "color": "#C8D4E3"
             },
             "line": {
              "color": "white"
             }
            },
            "type": "table"
           }
          ]
         },
         "layout": {
          "annotationdefaults": {
           "arrowcolor": "#2a3f5f",
           "arrowhead": 0,
           "arrowwidth": 1
          },
          "autotypenumbers": "strict",
          "coloraxis": {
           "colorbar": {
            "outlinewidth": 0,
            "ticks": ""
           }
          },
          "colorscale": {
           "diverging": [
            [
             0,
             "#8e0152"
            ],
            [
             0.1,
             "#c51b7d"
            ],
            [
             0.2,
             "#de77ae"
            ],
            [
             0.3,
             "#f1b6da"
            ],
            [
             0.4,
             "#fde0ef"
            ],
            [
             0.5,
             "#f7f7f7"
            ],
            [
             0.6,
             "#e6f5d0"
            ],
            [
             0.7,
             "#b8e186"
            ],
            [
             0.8,
             "#7fbc41"
            ],
            [
             0.9,
             "#4d9221"
            ],
            [
             1,
             "#276419"
            ]
           ],
           "sequential": [
            [
             0,
             "#0d0887"
            ],
            [
             0.1111111111111111,
             "#46039f"
            ],
            [
             0.2222222222222222,
             "#7201a8"
            ],
            [
             0.3333333333333333,
             "#9c179e"
            ],
            [
             0.4444444444444444,
             "#bd3786"
            ],
            [
             0.5555555555555556,
             "#d8576b"
            ],
            [
             0.6666666666666666,
             "#ed7953"
            ],
            [
             0.7777777777777778,
             "#fb9f3a"
            ],
            [
             0.8888888888888888,
             "#fdca26"
            ],
            [
             1,
             "#f0f921"
            ]
           ],
           "sequentialminus": [
            [
             0,
             "#0d0887"
            ],
            [
             0.1111111111111111,
             "#46039f"
            ],
            [
             0.2222222222222222,
             "#7201a8"
            ],
            [
             0.3333333333333333,
             "#9c179e"
            ],
            [
             0.4444444444444444,
             "#bd3786"
            ],
            [
             0.5555555555555556,
             "#d8576b"
            ],
            [
             0.6666666666666666,
             "#ed7953"
            ],
            [
             0.7777777777777778,
             "#fb9f3a"
            ],
            [
             0.8888888888888888,
             "#fdca26"
            ],
            [
             1,
             "#f0f921"
            ]
           ]
          },
          "colorway": [
           "#636efa",
           "#EF553B",
           "#00cc96",
           "#ab63fa",
           "#FFA15A",
           "#19d3f3",
           "#FF6692",
           "#B6E880",
           "#FF97FF",
           "#FECB52"
          ],
          "font": {
           "color": "#2a3f5f"
          },
          "geo": {
           "bgcolor": "white",
           "lakecolor": "white",
           "landcolor": "#E5ECF6",
           "showlakes": true,
           "showland": true,
           "subunitcolor": "white"
          },
          "hoverlabel": {
           "align": "left"
          },
          "hovermode": "closest",
          "mapbox": {
           "style": "light"
          },
          "paper_bgcolor": "white",
          "plot_bgcolor": "#E5ECF6",
          "polar": {
           "angularaxis": {
            "gridcolor": "white",
            "linecolor": "white",
            "ticks": ""
           },
           "bgcolor": "#E5ECF6",
           "radialaxis": {
            "gridcolor": "white",
            "linecolor": "white",
            "ticks": ""
           }
          },
          "scene": {
           "xaxis": {
            "backgroundcolor": "#E5ECF6",
            "gridcolor": "white",
            "gridwidth": 2,
            "linecolor": "white",
            "showbackground": true,
            "ticks": "",
            "zerolinecolor": "white"
           },
           "yaxis": {
            "backgroundcolor": "#E5ECF6",
            "gridcolor": "white",
            "gridwidth": 2,
            "linecolor": "white",
            "showbackground": true,
            "ticks": "",
            "zerolinecolor": "white"
           },
           "zaxis": {
            "backgroundcolor": "#E5ECF6",
            "gridcolor": "white",
            "gridwidth": 2,
            "linecolor": "white",
            "showbackground": true,
            "ticks": "",
            "zerolinecolor": "white"
           }
          },
          "shapedefaults": {
           "line": {
            "color": "#2a3f5f"
           }
          },
          "ternary": {
           "aaxis": {
            "gridcolor": "white",
            "linecolor": "white",
            "ticks": ""
           },
           "baxis": {
            "gridcolor": "white",
            "linecolor": "white",
            "ticks": ""
           },
           "bgcolor": "#E5ECF6",
           "caxis": {
            "gridcolor": "white",
            "linecolor": "white",
            "ticks": ""
           }
          },
          "title": {
           "x": 0.05
          },
          "xaxis": {
           "automargin": true,
           "gridcolor": "white",
           "linecolor": "white",
           "ticks": "",
           "title": {
            "standoff": 15
           },
           "zerolinecolor": "white",
           "zerolinewidth": 2
          },
          "yaxis": {
           "automargin": true,
           "gridcolor": "white",
           "linecolor": "white",
           "ticks": "",
           "title": {
            "standoff": 15
           },
           "zerolinecolor": "white",
           "zerolinewidth": 2
          }
         }
        },
        "xaxis": {
         "anchor": "y",
         "domain": [
          0,
          1
         ],
         "title": {
          "text": "TIME"
         }
        },
        "yaxis": {
         "anchor": "x",
         "domain": [
          0,
          1
         ],
         "title": {
          "text": "value"
         }
        }
       }
      }
     },
     "metadata": {},
     "output_type": "display_data"
    }
   ],
   "source": [
    "def plot_monthly_average(df, cols):\n",
    "    return px.line(\n",
    "        df.dropna(subset=cols)\n",
    "        .assign(TIME=df[\"OUTAGE.START\"].dt.strftime(\"%Y-%m\"))\n",
    "        .groupby(\"TIME\")[cols]\n",
    "        .mean()\n",
    "    )\n",
    "\n",
    "\n",
    "log = lambda x: np.log(x) if x else np.nan\n",
    "extra_features = cleaned.assign(\n",
    "    LOG_DEMAND_LOSS_MW=cleaned[\"DEMAND.LOSS.MW\"].apply(log),\n",
    "    LOG_OUTAGE_DURATION=cleaned[\"OUTAGE.DURATION\"].apply(log),\n",
    "    LOG_CUSTOMERS_AFFECTED=cleaned[\"CUSTOMERS.AFFECTED\"].apply(log),\n",
    "    START_HR=cleaned[\"OUTAGE.START\"].dt.hour,\n",
    "    START_DAY=cleaned[\"OUTAGE.START\"].dt.day,\n",
    "    START_DAYOFWEEK=cleaned[\"OUTAGE.START\"].dt.dayofweek,\n",
    "    RESTORATION_HR=cleaned[\"OUTAGE.RESTORATION\"].dt.hour,\n",
    "    RESTORATION_DAY=cleaned[\"OUTAGE.RESTORATION\"].dt.day,\n",
    "    RESTORATION_DAYOFWEEK=cleaned[\"OUTAGE.RESTORATION\"].dt.dayofweek,\n",
    ")\n",
    "plot_monthly_average(\n",
    "    extra_features.query(\"`POSTAL.CODE` == 'CA'\"),\n",
    "    [\"LOG_DEMAND_LOSS_MW\", \"LOG_OUTAGE_DURATION\", \"LOG_CUSTOMERS_AFFECTED\"],\n",
    ")"
   ]
  },
  {
   "cell_type": "code",
   "execution_count": null,
   "metadata": {},
   "outputs": [
    {
     "data": {
      "text/plain": [
       "<Axes: >"
      ]
     },
     "execution_count": 28,
     "metadata": {},
     "output_type": "execute_result"
    },
    {
     "data": {
      "image/png": "[encoded data removed]",
      "text/plain": [
       "<Figure size 640x480 with 2 Axes>"
      ]
     },
     "metadata": {},
     "output_type": "display_data"
    }
   ],
   "source": [
    "cat_cols = [\n",
    "    \"U.S._STATE\",\n",
    "    \"POSTAL.CODE\",\n",
    "    \"NERC.REGION\",\n",
    "    \"CLIMATE.REGION\",\n",
    "    \"CLIMATE.CATEGORY\",\n",
    "    \"CAUSE.CATEGORY\",\n",
    "    \"CAUSE.CATEGORY.DETAIL\",\n",
    "    \"HURRICANE.NAMES\",\n",
    "]\n",
    "corr_matrix = extra_features.drop(cat_cols, axis=1).corr()\n",
    "sns.heatmap(corr_matrix, cmap=\"coolwarm\")"
   ]
  },
  {
   "cell_type": "code",
   "execution_count": 41,
   "metadata": {},
   "outputs": [
    {
     "data": {
      "application/vnd.plotly.v1+json": {
       "config": {
        "plotlyServerURL": "https://plot.ly"
       },
       "data": [
        {
         "alignmentgroup": "True",
         "bingroup": "x",
         "hovertemplate": "LOG_DEMAND_LOSS_MW=%{x}<br>count=%{y}<extra></extra>",
         "legendgroup": "",
         "marker": {
          "color": "#636efa",
          "pattern": {
           "shape": ""
          }
         },
         "name": "",
         "offsetgroup": "",
         "orientation": "v",
         "showlegend": false,
         "type": "histogram",
         "x": [
          null,
          null,
          null,
          null,
          5.521460917862246,
          null,
          null,
          4.31748811353631,
          2.995732273553991,
          null,
          null,
          null,
          null,
          null,
          null,
          6.8308742346461795,
          null,
          null,
          4.605170185988092,
          null,
          null,
          null,
          null,
          null,
          null,
          null,
          null,
          5.703782474656201,
          null,
          null,
          null,
          5.703782474656201,
          0,
          null,
          6.202535517187923,
          5.703782474656201,
          null,
          null,
          null,
          null,
          5.883322388488279,
          6.756932389247553,
          null,
          null,
          4.941642422609304,
          null,
          null,
          null,
          6.745236349484363,
          null,
          null,
          2.302585092994046,
          2.70805020110221,
          null,
          null,
          5.0106352940962555,
          null,
          null,
          6.396929655216146,
          3.4011973816621555,
          null,
          null,
          null,
          null,
          6.049733455231958,
          null,
          null,
          5.393627546352362,
          null,
          3.1780538303479458,
          null,
          null,
          6.551080335043404,
          5.521460917862246,
          5.902633333401366,
          4.406719247264253,
          9.091669442258505,
          null,
          null,
          9.305650551780507,
          5.703782474656201,
          6.371611847231857,
          null,
          null,
          3.912023005428146,
          4.31748811353631,
          3.912023005428146,
          null,
          null,
          null,
          4.007333185232471,
          null,
          7.509883061154913,
          null,
          5.356586274672012,
          4.406719247264253,
          5.568344503761097,
          null,
          null,
          null,
          null,
          5.298317366548036,
          null,
          null,
          null,
          null,
          null,
          null,
          5.736572297479192,
          null,
          5.480638923341991,
          null,
          4.0943445622221,
          null,
          null,
          null,
          4.605170185988092,
          5.480638923341991,
          null,
          5.8289456176102075,
          5.934894195619588,
          null,
          5.916202062607435,
          null,
          null,
          null,
          5.3471075307174685,
          null,
          6.914730892718563,
          5.768320995793772,
          4.8283137373023015,
          null,
          6.214608098422191,
          5.384495062789089,
          6.4457198193855785,
          null,
          5.991464547107982,
          4.605170185988092,
          6.29156913955832,
          5.713732805509369,
          5.857933154483459,
          6.214608098422191,
          4.31748811353631,
          null,
          null,
          6.907755278982137,
          null,
          null,
          6.551080335043404,
          null,
          null,
          null,
          4.31748811353631,
          6.0112671744041615,
          5.0106352940962555,
          5.247024072160486,
          null,
          5.991464547107982,
          null,
          null,
          null,
          5.537334267018537,
          6.214608098422191,
          null,
          null,
          null,
          null,
          5.537334267018537,
          5.857933154483459,
          null,
          5.991464547107982,
          null,
          2.4849066497880004,
          null,
          null,
          5.0106352940962555,
          null,
          null,
          null,
          5.940171252720432,
          null,
          null,
          null,
          null,
          null,
          null,
          5.579729825986222,
          null,
          null,
          null,
          null,
          5.988961416889864,
          null,
          6.184148890937483,
          null,
          6.907755278982137,
          null,
          5.560681631015528,
          null,
          null,
          5.356586274672012,
          5.187385805840755,
          8.998013113095823,
          null,
          null,
          5.988961416889864,
          null,
          5.683579767338681,
          null,
          null,
          6.988413181999592,
          6.16541785423142,
          5.030437921392435,
          null,
          6.19644412779452,
          null,
          5.857933154483459,
          6.555356891810665,
          null,
          null,
          7.115582126184454,
          5.3981627015177525,
          5.703782474656201,
          5.393627546352362,
          null,
          6.298949246855942,
          null,
          5.82600010738045,
          null,
          6.159095388491933,
          null,
          null,
          null,
          7.575584651557793,
          null,
          5.991464547107982,
          8.294049640102028,
          4.68213122712422,
          6.824373670043086,
          3.828641396489095,
          null,
          4.605170185988092,
          5.560681631015528,
          4.762173934797756,
          null,
          null,
          null,
          null,
          null,
          null,
          null,
          null,
          5.857933154483459,
          5.170483995038151,
          null,
          null,
          null,
          3.9318256327243257,
          null,
          null,
          null,
          null,
          5.703782474656201,
          null,
          null,
          null,
          null,
          5.793013608384144,
          null,
          3.6888794541139363,
          null,
          null,
          null,
          null,
          6.476972362889683,
          null,
          null,
          7.549609165154532,
          null,
          5.389071729816501,
          5.521460917862246,
          6.61472560020376,
          null,
          null,
          null,
          null,
          null,
          4.442651256490317,
          null,
          null,
          null,
          null,
          6.51025834052315,
          null,
          null,
          null,
          null,
          6.396929655216146,
          null,
          null,
          3.8501476017100584,
          2.70805020110221,
          3.912023005428146,
          null,
          4.04305126783455,
          null,
          null,
          3.6375861597263857,
          null,
          null,
          6.282266746896006,
          null,
          3.8918202981106265,
          null,
          null,
          6.300785794663244,
          null,
          null,
          6.907755278982137,
          null,
          6.931471805599453,
          null,
          6.052089168924417,
          3.912023005428146,
          null,
          null,
          null,
          null,
          5.298317366548036,
          null,
          null,
          null,
          3.713572066704308,
          null,
          6.476972362889683,
          null,
          6.214608098422191,
          6.226536669287466,
          5.37989735354046,
          null,
          null,
          null,
          5.902633333401366,
          null,
          null,
          3.4011973816621555,
          null,
          null,
          null,
          null,
          null,
          null,
          null,
          null,
          null,
          null,
          null,
          null,
          5.857933154483459,
          null,
          null,
          null,
          4.844187086458591,
          null,
          null,
          null,
          null,
          null,
          null,
          null,
          null,
          null,
          null,
          null,
          null,
          5.298317366548036,
          5.298317366548036,
          null,
          5.703782474656201,
          null,
          5.916202062607435,
          null,
          null,
          null,
          null,
          null,
          4.382026634673881,
          null,
          null,
          null,
          null,
          null,
          null,
          5.703782474656201,
          null,
          null,
          null,
          5.214935757608986,
          null,
          5.521460917862246,
          null,
          null,
          null,
          5.616771097666572,
          null,
          null,
          null,
          5.0106352940962555,
          5.19295685089021,
          null,
          null,
          7.3777589082278725,
          null,
          5.298317366548036,
          4.74493212836325,
          5.560681631015528,
          null,
          null,
          null,
          null,
          null,
          null,
          null,
          null,
          null,
          null,
          null,
          null,
          null,
          null,
          null,
          null,
          null,
          null,
          5.497168225293202,
          null,
          null,
          null,
          null,
          null,
          null,
          null,
          null,
          6.802394763324311,
          4.605170185988092,
          null,
          6.040254711277414,
          null,
          null,
          null,
          null,
          null,
          null,
          null,
          null,
          null,
          null,
          null,
          2.1972245773362196,
          null,
          6.620073206530356,
          null,
          null,
          null,
          5.1647859739235145,
          null,
          null,
          null,
          null,
          null,
          null,
          null,
          null,
          null,
          null,
          5.886104031450156,
          5.0106352940962555,
          5.634789603169249,
          null,
          3.912023005428146,
          null,
          null,
          6.4457198193855785,
          null,
          null,
          5.703782474656201,
          null,
          null,
          7.090076835776092,
          null,
          null,
          8.575273402492762,
          null,
          null,
          null,
          6.12029741895095,
          6.907755278982137,
          null,
          null,
          null,
          null,
          null,
          null,
          null,
          4.927253685157205,
          null,
          null,
          0.6931471805599453,
          null,
          null,
          6.866933284461882,
          null,
          null,
          null,
          null,
          8.284756593190435,
          null,
          5.298317366548036,
          6.0867747269123065,
          5.869296913133774,
          5.703782474656201,
          5.703782474656201,
          null,
          5.598421958998375,
          6.214608098422191,
          null,
          null,
          null,
          null,
          null,
          null,
          null,
          null,
          null,
          null,
          null,
          5.991464547107982,
          null,
          null,
          null,
          null,
          null,
          null,
          null,
          null,
          7.600902459542082,
          null,
          null,
          5.814130531825066,
          null,
          null,
          null,
          0,
          null,
          0,
          6.684611727667927,
          5.926926025970411,
          null,
          6.437751649736401,
          null,
          null,
          null,
          null,
          null,
          4.0943445622221,
          5.075173815233827,
          null,
          null,
          null,
          7.313220387090301,
          5.991464547107982,
          6.173786103901937,
          7.01571242048723,
          7.289610521451167,
          null,
          null,
          null,
          null,
          null,
          2.70805020110221,
          6.4457198193855785,
          4.653960350157523,
          null,
          null,
          null,
          null,
          null,
          null,
          5.049856007249537,
          null,
          null,
          null,
          null,
          null,
          5.963579343618446,
          null,
          6.620073206530356,
          null,
          null,
          null,
          5.298317366548036,
          null,
          null,
          4.276666119016055,
          null,
          4.465908118654584,
          6.396929655216146,
          null,
          null,
          null,
          null,
          6.302618975744905,
          4.867534450455582,
          null,
          4.499809670330265,
          null,
          null,
          null,
          null,
          5.0106352940962555,
          null,
          null,
          null,
          null,
          5.521460917862246,
          4.700480365792417,
          null,
          null,
          null,
          null,
          null,
          null,
          null,
          null,
          null,
          null,
          null,
          null,
          5.834810737062605,
          0.6931471805599453,
          null,
          null,
          null,
          6.396929655216146,
          null,
          4.248495242049359,
          3.044522437723423,
          null,
          null,
          null,
          null,
          null,
          null,
          null,
          null,
          null,
          1.791759469228055,
          6.133398042996649,
          null,
          null,
          null,
          null,
          null,
          5.723585101952381,
          null,
          null,
          7.943782692458625,
          null,
          null,
          null,
          null,
          null,
          null,
          null,
          null,
          null,
          null,
          null,
          null,
          null,
          5.755742213586912,
          null,
          null,
          null,
          null,
          null,
          null,
          null,
          5.971261839790462,
          5.683579767338681,
          5.176149732573829,
          null,
          null,
          null,
          6.040254711277414,
          null,
          6.907755278982137,
          5.940171252720432,
          9.305650551780507,
          6.214608098422191,
          null,
          null,
          5.123963979403259,
          5.521460917862246,
          null,
          8.85366542803745,
          null,
          null,
          null,
          null,
          null,
          null,
          null,
          null,
          null,
          null,
          5.991464547107982,
          null,
          6.150602768446279,
          null,
          null,
          5.123963979403259,
          6.063785208687608,
          1.9459101490553132,
          5.327876168789581,
          null,
          null,
          null,
          null,
          null,
          null,
          6.163314804034641,
          5.3706380281276624,
          4.248495242049359,
          null,
          3.6888794541139363,
          null,
          5.703782474656201,
          3.871201010907891,
          null,
          1.0986122886681098,
          5.991464547107982,
          null,
          6.396929655216146,
          5.703782474656201,
          6.214608098422191,
          null,
          0.6931471805599453,
          null,
          6.907755278982137,
          5.703782474656201,
          null,
          5.19295685089021,
          null,
          3.6888794541139363,
          null,
          6.396929655216146,
          5.991464547107982,
          5.298317366548036,
          5.521460917862246,
          null,
          6.907755278982137,
          null,
          null,
          9.577411092097035,
          null,
          5.1647859739235145,
          null,
          7.411556287811163,
          null,
          7.313220387090301,
          null,
          5.288267030694535,
          5.991464547107982,
          null,
          null,
          4.8283137373023015,
          4.007333185232471,
          null,
          null,
          4.499809670330265,
          null,
          6.082218910376446,
          null,
          5.768320995793772,
          null,
          null,
          null,
          4.382026634673881,
          5.3706380281276624,
          null,
          null,
          null,
          null,
          null,
          null,
          null,
          null,
          null,
          null,
          null,
          6.214608098422191,
          null,
          null,
          null,
          4.605170185988092,
          6.1092475827643655,
          null,
          8.421783006611578,
          6.551080335043404,
          6.1092475827643655,
          6.396929655216146,
          5.703782474656201,
          8.487352349405215,
          null,
          2.4849066497880004,
          5.3471075307174685,
          null,
          null,
          null,
          null,
          3.4657359027997265,
          null,
          null,
          null,
          null,
          null,
          null,
          null,
          null,
          null,
          null,
          null,
          null,
          null,
          5.857933154483459,
          null,
          null,
          null,
          null,
          null,
          null,
          null,
          null,
          null,
          4.941642422609304,
          null,
          6.551080335043404,
          8.006367567650246,
          null,
          5.991464547107982,
          5.583496308781699,
          5.703782474656201,
          5.298317366548036,
          2.302585092994046,
          null,
          null,
          null,
          4.90527477843843,
          5.298317366548036,
          null,
          null,
          null,
          null,
          null,
          null,
          5.3471075307174685,
          4.553876891600541,
          null,
          null,
          null,
          null,
          null,
          null,
          null,
          null,
          null,
          null,
          null,
          null,
          null,
          null,
          null,
          null,
          null,
          null,
          null,
          null,
          null,
          null,
          null,
          null,
          null,
          null,
          null,
          null,
          null,
          null,
          null,
          null,
          null,
          null,
          null,
          null,
          null,
          null,
          null,
          null,
          null,
          5.991464547107982,
          null,
          null,
          null,
          null,
          6.620073206530356,
          5.298317366548036,
          null,
          null,
          null,
          5.41610040220442,
          null,
          null,
          null,
          null,
          null,
          null,
          null,
          null,
          null,
          6.476972362889683,
          4.406719247264253,
          null,
          null,
          4.605170185988092,
          6.51471269087253,
          null,
          5.298317366548036,
          null,
          null,
          null,
          5.703782474656201,
          null,
          null,
          null,
          null,
          3.912023005428146,
          4.68213122712422,
          6.51471269087253,
          5.991464547107982,
          null,
          9.323847612769777,
          null,
          6.51471269087253,
          null,
          null,
          null,
          6.131226489483141,
          null,
          null,
          null,
          null,
          null,
          5.521460917862246,
          null,
          5.0106352940962555,
          10.04037580459825,
          null,
          5.19295685089021,
          4.605170185988092,
          null,
          null,
          null,
          6.214608098422191,
          6.0330862217988015,
          null,
          5.298317366548036,
          null,
          5.8664680569332965,
          null,
          5.703782474656201,
          6.396929655216146,
          null,
          null,
          null,
          6.516193076042964,
          null,
          3.4011973816621555,
          null,
          6.131226489483141,
          6.51471269087253,
          5.298317366548036,
          null,
          5.857933154483459,
          null,
          null,
          null,
          null,
          null,
          null,
          null,
          null,
          null,
          5.0106352940962555,
          null,
          null,
          5.703782474656201,
          3.4657359027997265,
          3.4965075614664802,
          null,
          5.298317366548036,
          null,
          null,
          null,
          5.991464547107982,
          3.6888794541139363,
          6.551080335043404,
          null,
          null,
          5.703782474656201,
          5.41610040220442,
          null,
          null,
          4.634728988229636,
          5.093750200806762,
          null,
          null,
          5.857933154483459,
          5.0106352940962555,
          4.787491742782046,
          null,
          null,
          null,
          null,
          null,
          8.070906088787819,
          null,
          null,
          3.9318256327243257,
          null,
          5.634789603169249,
          6.214608098422191,
          null,
          null,
          7.24422751560335,
          5.521460917862246,
          5.645446897643238,
          null,
          null,
          null,
          5.762051382780177,
          4.007333185232471,
          8.699514748210191,
          null,
          null,
          5.19295685089021,
          5.857933154483459,
          5.521460917862246,
          4.997212273764115,
          4.787491742782046,
          4.941642422609304,
          7.495541943884256,
          5.6937321388027,
          7.649692623711514,
          4.727387818712341,
          7.1308988302963465,
          7.003065458786462,
          9.210340371976184,
          4.8283137373023015,
          7.170119543449628,
          null,
          4.174387269895637,
          4.8283137373023015,
          5.327876168789581,
          5.0106352940962555,
          3.295836866004329,
          null,
          6.180016653652572,
          4.890349128221754,
          10.640364495957398,
          8.294049640102028,
          null,
          null,
          6.543911845564792,
          5.2832037287379885,
          6.529418838262226,
          7.8547691834991324,
          5.480638923341991,
          null,
          4.77912349311153,
          null,
          9.536040511615484,
          null,
          6.38856140554563,
          null,
          5.0106352940962555,
          null,
          5.886104031450156,
          3.4339872044851463,
          null,
          5.19295685089021,
          null,
          6.4457198193855785,
          5.170483995038151,
          5.703782474656201,
          5.780743515792329,
          3.4011973816621555,
          6.040254711277414,
          5.0106352940962555,
          5.703782474656201,
          null,
          5.393627546352362,
          null,
          2.302585092994046,
          4.941642422609304,
          1.0986122886681098,
          7.882314918980268,
          5.730099782973574,
          null,
          5.075173815233827,
          1.6094379124341003,
          1.6094379124341003,
          null,
          4.382026634673881,
          4.007333185232471,
          5.703782474656201,
          4.499809670330265,
          4.74493212836325,
          5.991464547107982,
          5.703782474656201,
          null,
          4.787491742782046,
          5.703782474656201,
          5.0106352940962555,
          null,
          4.787491742782046,
          null,
          null,
          5.886104031450156,
          5.170483995038151,
          1.9459101490553132,
          null,
          5.703782474656201,
          5.298317366548036,
          null,
          4.51085950651685,
          null,
          4.51085950651685,
          null,
          5.762051382780177,
          5.480638923341991,
          null,
          null,
          6.761572768804055,
          5.480638923341991,
          null,
          null,
          4.867534450455582,
          5.598421958998375,
          2.70805020110221,
          6.214608098422191,
          6.214608098422191,
          6.907755278982137,
          5.991464547107982,
          6.214608098422191,
          5.393627546352362,
          5.480638923341991,
          6.139884552226255,
          null,
          3.091042453358316,
          5.780743515792329,
          null,
          5.66988092298052,
          5.703782474656201,
          4.634728988229636,
          4.605170185988092,
          null,
          null,
          4.700480365792417,
          1.0986122886681098,
          5.075173815233827,
          null,
          null,
          5.19295685089021,
          5.075173815233827,
          4.941642422609304,
          null,
          3.1780538303479458,
          6.173786103901937,
          4.912654885736052,
          null,
          5.991464547107982,
          null,
          5.857933154483459,
          6.257667587882639,
          5.075173815233827,
          null,
          0,
          null,
          5.68697535633982,
          null,
          5.521460917862246,
          6.684611727667927,
          6.025865973825314,
          6.238324625039508,
          null,
          4.02535169073515,
          5.521460917862246,
          null,
          4.477336814478207,
          5.298317366548036,
          null,
          1.6094379124341003,
          5.327876168789581,
          4.867534450455582,
          2.70805020110221,
          null,
          null,
          2.995732273553991,
          1.0986122886681098,
          6.26530121273771,
          2.302585092994046,
          6.551080335043404,
          null,
          null,
          null,
          null,
          5.703782474656201,
          null,
          5.0106352940962555,
          5.337538079701318,
          5.0106352940962555,
          2.1972245773362196,
          3.4011973816621555,
          4.51085950651685,
          2.772588722239781,
          5.966146739123692,
          null,
          6.495265555937008,
          5.634789603169249,
          6.257667587882639,
          null,
          null,
          5.41610040220442,
          null,
          5.703782474656201,
          6.551080335043404,
          6.111467339502679,
          5.135798437050262,
          1.6094379124341003,
          null,
          5.480638923341991,
          0,
          8.268731832117737,
          5.298317366548036,
          5.393627546352362,
          6.415096959171596,
          5.703782474656201,
          5.19295685089021,
          5.703782474656201,
          8.101677747454572,
          5.293304824724492,
          3.367295829986474,
          null,
          3.091042453358316,
          5.298317366548036,
          5.0106352940962555,
          4.912654885736052,
          null,
          null,
          null,
          5.351858133476067,
          null,
          null,
          0,
          4.836281906951478,
          4.31748811353631,
          null,
          5.365976015021851,
          null,
          null,
          4.700480365792417,
          null,
          5.0106352940962555,
          6.063785208687608,
          null,
          null,
          1.3862943611198906,
          6.396929655216146,
          null,
          null,
          null,
          null,
          3.091042453358316,
          null,
          3.912023005428146,
          null,
          3.8066624897703196,
          4.430816798843313,
          null,
          null,
          null,
          null,
          null,
          3.6888794541139363,
          6.476972362889683,
          null,
          null,
          null,
          null,
          1.3862943611198906,
          6.802394763324311,
          5.0106352940962555,
          null,
          5.680172609017068,
          null,
          4.787491742782046,
          null,
          5.703782474656201,
          4.962844630259907,
          5.480638923341991,
          5.236441962829949,
          6.396929655216146,
          6.253828811575473,
          5.521460917862246,
          6.672032945461067,
          4.276666119016055,
          null,
          6.856461984594587,
          null,
          8.517193191416238,
          5.857933154483459,
          6.163314804034641,
          null,
          5.3471075307174685,
          6.745236349484363,
          5.135798437050262,
          5.991464547107982,
          4.143134726391533,
          5.703782474656201,
          4.787491742782046,
          4.605170185988092,
          5.814130531825066,
          null,
          null,
          5.521460917862246,
          6.802394763324311,
          6.396929655216146,
          4.174387269895637,
          6.476972362889683,
          6.059123195581797,
          5.991464547107982,
          4.61512051684126,
          null,
          null,
          null,
          1.791759469228055,
          null,
          null,
          null,
          6.946975992135418,
          null,
          null,
          null,
          null,
          null,
          null,
          null,
          null,
          null,
          null,
          null,
          null,
          null,
          null,
          2.302585092994046,
          4.418840607796598,
          5.0106352940962555,
          7.696212639346407,
          6.591673732008658,
          5.7430031878094825,
          4.31748811353631,
          6.429719478039138,
          5.8944028342648505,
          4.605170185988092,
          4.605170185988092,
          5.3981627015177525,
          5.66988092298052,
          7.1276936993473985,
          6.74993119378857,
          6.333279628139691,
          null,
          null,
          null,
          null,
          null,
          null,
          null,
          4.867534450455582,
          4.31748811353631,
          null,
          null,
          null,
          null,
          null,
          3.912023005428146,
          null,
          null,
          null,
          null,
          null,
          null,
          6.214608098422191,
          null,
          4.5217885770490405,
          null,
          null,
          3.4011973816621555,
          null,
          null,
          null,
          4.31748811353631,
          null,
          null,
          null,
          5.703782474656201,
          null,
          6.214608098422191,
          null,
          5.634789603169249,
          null,
          2.0794415416798357,
          null,
          null,
          null,
          3.9318256327243257,
          null,
          null,
          null,
          5.8289456176102075,
          null,
          null,
          null,
          null,
          10.030120203469494,
          5.298317366548036,
          null,
          null,
          6.4457198193855785,
          null,
          0,
          null,
          null,
          null,
          null,
          null,
          null,
          null,
          null,
          null,
          4.31748811353631,
          null,
          3.912023005428146,
          null,
          null,
          null,
          null,
          null,
          5.19295685089021,
          null,
          null,
          null,
          null,
          null,
          null,
          null,
          null,
          null,
          null,
          null,
          null,
          null,
          null,
          null,
          null,
          null,
          null,
          null,
          4.02535169073515,
          null,
          null,
          null,
          4.812184355372417,
          null,
          null,
          null,
          5.0106352940962555,
          6.363028103540465,
          null,
          null,
          null,
          5.703782474656201,
          6.059123195581797,
          4.787491742782046,
          null,
          null,
          null,
          6.309918278226516,
          null,
          null,
          null,
          6.214608098422191,
          null,
          null,
          null,
          5.298317366548036,
          6.966024187106113,
          5.393627546352362,
          4.700480365792417,
          4.787491742782046,
          7.064759027791802,
          5.66988092298052,
          null,
          5.056245805348308,
          null,
          null,
          null,
          null,
          null,
          6.184148890937483,
          5.043425116919247,
          7.408530566894626,
          4.430816798843313,
          5.921578419643816,
          3.5553480614894135
         ],
         "xaxis": "x",
         "yaxis": "y"
        }
       ],
       "layout": {
        "barmode": "relative",
        "legend": {
         "tracegroupgap": 0
        },
        "margin": {
         "t": 60
        },
        "shapes": [
         {
          "line": {
           "color": "red"
          },
          "type": "line",
          "x0": 4.787491742782046,
          "x1": 4.787491742782046,
          "xref": "x",
          "y0": 0,
          "y1": 1,
          "yref": "y domain"
         },
         {
          "line": {
           "color": "red"
          },
          "type": "line",
          "x0": 6.184148890937483,
          "x1": 6.184148890937483,
          "xref": "x",
          "y0": 0,
          "y1": 1,
          "yref": "y domain"
         }
        ],
        "template": {
         "data": {
          "bar": [
           {
            "error_x": {
             "color": "#2a3f5f"
            },
            "error_y": {
             "color": "#2a3f5f"
            },
            "marker": {
             "line": {
              "color": "#E5ECF6",
              "width": 0.5
             },
             "pattern": {
              "fillmode": "overlay",
              "size": 10,
              "solidity": 0.2
             }
            },
            "type": "bar"
           }
          ],
          "barpolar": [
           {
            "marker": {
             "line": {
              "color": "#E5ECF6",
              "width": 0.5
             },
             "pattern": {
              "fillmode": "overlay",
              "size": 10,
              "solidity": 0.2
             }
            },
            "type": "barpolar"
           }
          ],
          "carpet": [
           {
            "aaxis": {
             "endlinecolor": "#2a3f5f",
             "gridcolor": "white",
             "linecolor": "white",
             "minorgridcolor": "white",
             "startlinecolor": "#2a3f5f"
            },
            "baxis": {
             "endlinecolor": "#2a3f5f",
             "gridcolor": "white",
             "linecolor": "white",
             "minorgridcolor": "white",
             "startlinecolor": "#2a3f5f"
            },
            "type": "carpet"
           }
          ],
          "choropleth": [
           {
            "colorbar": {
             "outlinewidth": 0,
             "ticks": ""
            },
            "type": "choropleth"
           }
          ],
          "contour": [
           {
            "colorbar": {
             "outlinewidth": 0,
             "ticks": ""
            },
            "colorscale": [
             [
              0,
              "#0d0887"
             ],
             [
              0.1111111111111111,
              "#46039f"
             ],
             [
              0.2222222222222222,
              "#7201a8"
             ],
             [
              0.3333333333333333,
              "#9c179e"
             ],
             [
              0.4444444444444444,
              "#bd3786"
             ],
             [
              0.5555555555555556,
              "#d8576b"
             ],
             [
              0.6666666666666666,
              "#ed7953"
             ],
             [
              0.7777777777777778,
              "#fb9f3a"
             ],
             [
              0.8888888888888888,
              "#fdca26"
             ],
             [
              1,
              "#f0f921"
             ]
            ],
            "type": "contour"
           }
          ],
          "contourcarpet": [
           {
            "colorbar": {
             "outlinewidth": 0,
             "ticks": ""
            },
            "type": "contourcarpet"
           }
          ],
          "heatmap": [
           {
            "colorbar": {
             "outlinewidth": 0,
             "ticks": ""
            },
            "colorscale": [
             [
              0,
              "#0d0887"
             ],
             [
              0.1111111111111111,
              "#46039f"
             ],
             [
              0.2222222222222222,
              "#7201a8"
             ],
             [
              0.3333333333333333,
              "#9c179e"
             ],
             [
              0.4444444444444444,
              "#bd3786"
             ],
             [
              0.5555555555555556,
              "#d8576b"
             ],
             [
              0.6666666666666666,
              "#ed7953"
             ],
             [
              0.7777777777777778,
              "#fb9f3a"
             ],
             [
              0.8888888888888888,
              "#fdca26"
             ],
             [
              1,
              "#f0f921"
             ]
            ],
            "type": "heatmap"
           }
          ],
          "heatmapgl": [
           {
            "colorbar": {
             "outlinewidth": 0,
             "ticks": ""
            },
            "colorscale": [
             [
              0,
              "#0d0887"
             ],
             [
              0.1111111111111111,
              "#46039f"
             ],
             [
              0.2222222222222222,
              "#7201a8"
             ],
             [
              0.3333333333333333,
              "#9c179e"
             ],
             [
              0.4444444444444444,
              "#bd3786"
             ],
             [
              0.5555555555555556,
              "#d8576b"
             ],
             [
              0.6666666666666666,
              "#ed7953"
             ],
             [
              0.7777777777777778,
              "#fb9f3a"
             ],
             [
              0.8888888888888888,
              "#fdca26"
             ],
             [
              1,
              "#f0f921"
             ]
            ],
            "type": "heatmapgl"
           }
          ],
          "histogram": [
           {
            "marker": {
             "pattern": {
              "fillmode": "overlay",
              "size": 10,
              "solidity": 0.2
             }
            },
            "type": "histogram"
           }
          ],
          "histogram2d": [
           {
            "colorbar": {
             "outlinewidth": 0,
             "ticks": ""
            },
            "colorscale": [
             [
              0,
              "#0d0887"
             ],
             [
              0.1111111111111111,
              "#46039f"
             ],
             [
              0.2222222222222222,
              "#7201a8"
             ],
             [
              0.3333333333333333,
              "#9c179e"
             ],
             [
              0.4444444444444444,
              "#bd3786"
             ],
             [
              0.5555555555555556,
              "#d8576b"
             ],
             [
              0.6666666666666666,
              "#ed7953"
             ],
             [
              0.7777777777777778,
              "#fb9f3a"
             ],
             [
              0.8888888888888888,
              "#fdca26"
             ],
             [
              1,
              "#f0f921"
             ]
            ],
            "type": "histogram2d"
           }
          ],
          "histogram2dcontour": [
           {
            "colorbar": {
             "outlinewidth": 0,
             "ticks": ""
            },
            "colorscale": [
             [
              0,
              "#0d0887"
             ],
             [
              0.1111111111111111,
              "#46039f"
             ],
             [
              0.2222222222222222,
              "#7201a8"
             ],
             [
              0.3333333333333333,
              "#9c179e"
             ],
             [
              0.4444444444444444,
              "#bd3786"
             ],
             [
              0.5555555555555556,
              "#d8576b"
             ],
             [
              0.6666666666666666,
              "#ed7953"
             ],
             [
              0.7777777777777778,
              "#fb9f3a"
             ],
             [
              0.8888888888888888,
              "#fdca26"
             ],
             [
              1,
              "#f0f921"
             ]
            ],
            "type": "histogram2dcontour"
           }
          ],
          "mesh3d": [
           {
            "colorbar": {
             "outlinewidth": 0,
             "ticks": ""
            },
            "type": "mesh3d"
           }
          ],
          "parcoords": [
           {
            "line": {
             "colorbar": {
              "outlinewidth": 0,
              "ticks": ""
             }
            },
            "type": "parcoords"
           }
          ],
          "pie": [
           {
            "automargin": true,
            "type": "pie"
           }
          ],
          "scatter": [
           {
            "fillpattern": {
             "fillmode": "overlay",
             "size": 10,
             "solidity": 0.2
            },
            "type": "scatter"
           }
          ],
          "scatter3d": [
           {
            "line": {
             "colorbar": {
              "outlinewidth": 0,
              "ticks": ""
             }
            },
            "marker": {
             "colorbar": {
              "outlinewidth": 0,
              "ticks": ""
             }
            },
            "type": "scatter3d"
           }
          ],
          "scattercarpet": [
           {
            "marker": {
             "colorbar": {
              "outlinewidth": 0,
              "ticks": ""
             }
            },
            "type": "scattercarpet"
           }
          ],
          "scattergeo": [
           {
            "marker": {
             "colorbar": {
              "outlinewidth": 0,
              "ticks": ""
             }
            },
            "type": "scattergeo"
           }
          ],
          "scattergl": [
           {
            "marker": {
             "colorbar": {
              "outlinewidth": 0,
              "ticks": ""
             }
            },
            "type": "scattergl"
           }
          ],
          "scattermapbox": [
           {
            "marker": {
             "colorbar": {
              "outlinewidth": 0,
              "ticks": ""
             }
            },
            "type": "scattermapbox"
           }
          ],
          "scatterpolar": [
           {
            "marker": {
             "colorbar": {
              "outlinewidth": 0,
              "ticks": ""
             }
            },
            "type": "scatterpolar"
           }
          ],
          "scatterpolargl": [
           {
            "marker": {
             "colorbar": {
              "outlinewidth": 0,
              "ticks": ""
             }
            },
            "type": "scatterpolargl"
           }
          ],
          "scatterternary": [
           {
            "marker": {
             "colorbar": {
              "outlinewidth": 0,
              "ticks": ""
             }
            },
            "type": "scatterternary"
           }
          ],
          "surface": [
           {
            "colorbar": {
             "outlinewidth": 0,
             "ticks": ""
            },
            "colorscale": [
             [
              0,
              "#0d0887"
             ],
             [
              0.1111111111111111,
              "#46039f"
             ],
             [
              0.2222222222222222,
              "#7201a8"
             ],
             [
              0.3333333333333333,
              "#9c179e"
             ],
             [
              0.4444444444444444,
              "#bd3786"
             ],
             [
              0.5555555555555556,
              "#d8576b"
             ],
             [
              0.6666666666666666,
              "#ed7953"
             ],
             [
              0.7777777777777778,
              "#fb9f3a"
             ],
             [
              0.8888888888888888,
              "#fdca26"
             ],
             [
              1,
              "#f0f921"
             ]
            ],
            "type": "surface"
           }
          ],
          "table": [
           {
            "cells": {
             "fill": {
              "color": "#EBF0F8"
             },
             "line": {
              "color": "white"
             }
            },
            "header": {
             "fill": {
              "color": "#C8D4E3"
             },
             "line": {
              "color": "white"
             }
            },
            "type": "table"
           }
          ]
         },
         "layout": {
          "annotationdefaults": {
           "arrowcolor": "#2a3f5f",
           "arrowhead": 0,
           "arrowwidth": 1
          },
          "autotypenumbers": "strict",
          "coloraxis": {
           "colorbar": {
            "outlinewidth": 0,
            "ticks": ""
           }
          },
          "colorscale": {
           "diverging": [
            [
             0,
             "#8e0152"
            ],
            [
             0.1,
             "#c51b7d"
            ],
            [
             0.2,
             "#de77ae"
            ],
            [
             0.3,
             "#f1b6da"
            ],
            [
             0.4,
             "#fde0ef"
            ],
            [
             0.5,
             "#f7f7f7"
            ],
            [
             0.6,
             "#e6f5d0"
            ],
            [
             0.7,
             "#b8e186"
            ],
            [
             0.8,
             "#7fbc41"
            ],
            [
             0.9,
             "#4d9221"
            ],
            [
             1,
             "#276419"
            ]
           ],
           "sequential": [
            [
             0,
             "#0d0887"
            ],
            [
             0.1111111111111111,
             "#46039f"
            ],
            [
             0.2222222222222222,
             "#7201a8"
            ],
            [
             0.3333333333333333,
             "#9c179e"
            ],
            [
             0.4444444444444444,
             "#bd3786"
            ],
            [
             0.5555555555555556,
             "#d8576b"
            ],
            [
             0.6666666666666666,
             "#ed7953"
            ],
            [
             0.7777777777777778,
             "#fb9f3a"
            ],
            [
             0.8888888888888888,
             "#fdca26"
            ],
            [
             1,
             "#f0f921"
            ]
           ],
           "sequentialminus": [
            [
             0,
             "#0d0887"
            ],
            [
             0.1111111111111111,
             "#46039f"
            ],
            [
             0.2222222222222222,
             "#7201a8"
            ],
            [
             0.3333333333333333,
             "#9c179e"
            ],
            [
             0.4444444444444444,
             "#bd3786"
            ],
            [
             0.5555555555555556,
             "#d8576b"
            ],
            [
             0.6666666666666666,
             "#ed7953"
            ],
            [
             0.7777777777777778,
             "#fb9f3a"
            ],
            [
             0.8888888888888888,
             "#fdca26"
            ],
            [
             1,
             "#f0f921"
            ]
           ]
          },
          "colorway": [
           "#636efa",
           "#EF553B",
           "#00cc96",
           "#ab63fa",
           "#FFA15A",
           "#19d3f3",
           "#FF6692",
           "#B6E880",
           "#FF97FF",
           "#FECB52"
          ],
          "font": {
           "color": "#2a3f5f"
          },
          "geo": {
           "bgcolor": "white",
           "lakecolor": "white",
           "landcolor": "#E5ECF6",
           "showlakes": true,
           "showland": true,
           "subunitcolor": "white"
          },
          "hoverlabel": {
           "align": "left"
          },
          "hovermode": "closest",
          "mapbox": {
           "style": "light"
          },
          "paper_bgcolor": "white",
          "plot_bgcolor": "#E5ECF6",
          "polar": {
           "angularaxis": {
            "gridcolor": "white",
            "linecolor": "white",
            "ticks": ""
           },
           "bgcolor": "#E5ECF6",
           "radialaxis": {
            "gridcolor": "white",
            "linecolor": "white",
            "ticks": ""
           }
          },
          "scene": {
           "xaxis": {
            "backgroundcolor": "#E5ECF6",
            "gridcolor": "white",
            "gridwidth": 2,
            "linecolor": "white",
            "showbackground": true,
            "ticks": "",
            "zerolinecolor": "white"
           },
           "yaxis": {
            "backgroundcolor": "#E5ECF6",
            "gridcolor": "white",
            "gridwidth": 2,
            "linecolor": "white",
            "showbackground": true,
            "ticks": "",
            "zerolinecolor": "white"
           },
           "zaxis": {
            "backgroundcolor": "#E5ECF6",
            "gridcolor": "white",
            "gridwidth": 2,
            "linecolor": "white",
            "showbackground": true,
            "ticks": "",
            "zerolinecolor": "white"
           }
          },
          "shapedefaults": {
           "line": {
            "color": "#2a3f5f"
           }
          },
          "ternary": {
           "aaxis": {
            "gridcolor": "white",
            "linecolor": "white",
            "ticks": ""
           },
           "baxis": {
            "gridcolor": "white",
            "linecolor": "white",
            "ticks": ""
           },
           "bgcolor": "#E5ECF6",
           "caxis": {
            "gridcolor": "white",
            "linecolor": "white",
            "ticks": ""
           }
          },
          "title": {
           "x": 0.05
          },
          "xaxis": {
           "automargin": true,
           "gridcolor": "white",
           "linecolor": "white",
           "ticks": "",
           "title": {
            "standoff": 15
           },
           "zerolinecolor": "white",
           "zerolinewidth": 2
          },
          "yaxis": {
           "automargin": true,
           "gridcolor": "white",
           "linecolor": "white",
           "ticks": "",
           "title": {
            "standoff": 15
           },
           "zerolinecolor": "white",
           "zerolinewidth": 2
          }
         }
        },
        "xaxis": {
         "anchor": "y",
         "domain": [
          0,
          1
         ],
         "title": {
          "text": "LOG_DEMAND_LOSS_MW"
         }
        },
        "yaxis": {
         "anchor": "x",
         "domain": [
          0,
          1
         ],
         "title": {
          "text": "count"
         }
        }
       }
      }
     },
     "metadata": {},
     "output_type": "display_data"
    }
   ],
   "source": [
    "fig = extra_features.plot(x=\"LOG_DEMAND_LOSS_MW\", kind=\"hist\")\n",
    "fig.add_vline(extra_features[\"LOG_DEMAND_LOSS_MW\"].quantile(0.25), line_color=\"red\")\n",
    "fig.add_vline(extra_features[\"LOG_DEMAND_LOSS_MW\"].quantile(0.75), line_color=\"red\")"
   ]
  },
  {
   "cell_type": "code",
   "execution_count": null,
   "metadata": {},
   "outputs": [
    {
     "data": {
      "application/vnd.plotly.v1+json": {
       "config": {
        "plotlyServerURL": "https://plot.ly"
       },
       "data": [
        {
         "hovertemplate": "CUSTOMERS.AFFECTED=%{x}<br>DEMAND.LOSS.MW=%{y}<extra></extra>",
         "legendgroup": "",
         "marker": {
          "color": "#636efa",
          "symbol": "circle"
         },
         "mode": "markers",
         "name": "",
         "orientation": "v",
         "showlegend": false,
         "type": "scatter",
         "x": [
          250000,
          300000,
          5941,
          64000,
          63000,
          73000,
          215,
          38500,
          105000,
          63000,
          136000,
          48000,
          7000,
          52000,
          110000,
          7600,
          120000,
          51160,
          265000,
          113000,
          53000,
          245000,
          2100000,
          425000,
          78213,
          140000,
          70793,
          134288,
          105000,
          201580,
          118000,
          131000,
          160000,
          248209,
          285000,
          122000,
          252089,
          2,
          80000,
          130000,
          60175,
          101000,
          239663,
          150000,
          111393,
          250000,
          75000,
          358000,
          127534,
          122600,
          140735,
          66000,
          160000,
          114711,
          159870,
          99000,
          272355,
          315000,
          190000,
          82000,
          103000,
          129607,
          65000,
          30000,
          86013,
          3314,
          119000,
          489478,
          108000,
          98700,
          79000,
          200000,
          200000,
          68530,
          67000,
          2142678,
          60000,
          262000,
          192000,
          71823,
          73000,
          64801,
          211266,
          83000,
          100000,
          70000,
          80000,
          78000,
          715000,
          100000,
          1069730,
          51404,
          175000,
          43000,
          85000,
          68000,
          17311,
          24506,
          158000,
          73000,
          63000,
          123000,
          9000,
          113247,
          500000,
          82000,
          132000,
          81586,
          62500,
          243000,
          135000,
          9700,
          124000,
          9700,
          9700,
          7500,
          61705,
          9800,
          114791,
          186000,
          215387,
          9600,
          141000,
          9700,
          75000,
          65000,
          111644,
          10000,
          51500,
          127000,
          200000,
          65400,
          135000,
          51000,
          130000,
          68800,
          92090,
          250000,
          145000,
          63992,
          426000,
          76300,
          110433,
          93300,
          89000,
          8000,
          123535,
          175000,
          200000,
          172060,
          123827,
          75000,
          50000,
          187000,
          64000,
          160000,
          47000,
          40911,
          2713,
          69000,
          30000,
          90000,
          60000,
          70000,
          60000,
          122000,
          180000,
          104195,
          650000,
          70000,
          1,
          1,
          181000,
          110000,
          133000,
          85091,
          138000,
          153000,
          155183,
          124000,
          760113,
          600000,
          120000,
          52000,
          82861,
          185000,
          62000,
          124596,
          105000,
          160875,
          132000,
          55000,
          120001,
          106000,
          284000,
          110,
          190000,
          18000,
          3500,
          5763,
          85179,
          74031,
          281000,
          127000,
          95000,
          45000,
          134500,
          175000,
          184000,
          246990,
          1203000,
          50636,
          564728,
          184000,
          245164,
          2000,
          23000,
          100000,
          60000,
          72000,
          12000,
          70135,
          6100,
          1200,
          103776,
          203345,
          50718,
          130000,
          1200,
          340000,
          71000,
          51600,
          12000,
          50000,
          112000,
          136000,
          61377,
          175000,
          50000,
          320000,
          370900,
          156338,
          100000,
          197000,
          135000,
          73000,
          156729,
          140000,
          130000,
          75654,
          665000,
          360000,
          125000,
          677858,
          120124,
          133000,
          150000,
          81000,
          677858,
          2500,
          71000,
          3,
          84500,
          52000,
          40000,
          425000,
          83000,
          62500,
          53000,
          20000,
          95000,
          18400,
          140000,
          215000,
          21000,
          160000,
          300000,
          56645,
          18600,
          190000,
          54316,
          68000,
          3125350,
          137000,
          200000,
          50280,
          18600,
          61000,
          120000,
          250000,
          18600,
          59057,
          1,
          143000,
          11000,
          11000,
          150000,
          50000,
          190000,
          50000,
          21800,
          28000,
          125000,
          68018,
          584384,
          25000,
          105000,
          150000,
          1200000,
          179000,
          42124,
          53965,
          31000,
          2775093,
          37,
          110000,
          78000,
          84900,
          56000,
          47661,
          722000,
          104498,
          832898,
          32593,
          285300,
          268000,
          3241437,
          26000,
          502000,
          23000,
          26000,
          87000,
          20900,
          16500,
          128050,
          124000,
          900000,
          37784,
          6810,
          15000,
          26000,
          150000,
          290000,
          10000,
          850068,
          70000,
          10008,
          407440,
          477,
          50000,
          130000,
          727,
          484,
          1,
          48400,
          58850,
          94000,
          433,
          55655,
          442000,
          30000,
          89500,
          4300,
          100000,
          1271893,
          80000,
          80000,
          505000,
          409000,
          65255,
          939000,
          6800,
          2606931,
          109750,
          7077,
          1700000,
          255000,
          59458,
          95000,
          50000,
          2035,
          241000,
          78164,
          9956,
          182000,
          859554,
          70,
          165000,
          140000,
          1667316,
          280000,
          385000,
          125000,
          55677,
          1,
          127,
          133900,
          32000,
          4,
          2650,
          5314,
          200000,
          54332,
          6635,
          70,
          128000,
          2674,
          940,
          20345,
          70848,
          300000,
          90323,
          263000,
          104000,
          638,
          1400000,
          158977,
          1500000,
          1400000,
          68780,
          9956,
          7077,
          123000,
          1,
          115500,
          1,
          60000,
          671189,
          120000,
          400000,
          215700,
          13000,
          7935,
          25159,
          8000,
          50797,
          115000,
          51580,
          88000,
          88110,
          67000,
          37000,
          60000,
          119000,
          150084,
          156000,
          56000,
          175000,
          107000,
          81000,
          880000,
          119000,
          217000,
          253800,
          114618,
          233000,
          130000,
          75000,
          80000,
          58500,
          67000,
          126000,
          283000,
          190000,
          126000,
          120212,
          15000,
          35500,
          500000,
          47165,
          82000,
          30689,
          150000,
          218783,
          93828,
          52659,
          186035,
          109000,
          80539,
          83450,
          66445,
          102000,
          373835,
          85455,
          169000,
          56400,
          75000,
          50246,
          1881134,
          14500,
          92748,
          56874,
          1500,
          29250,
          130000,
          380000,
          50500,
          300000,
          1,
          63000,
          50462,
          110000,
          35230,
          86058,
          31000,
          30379,
          270000,
          95000,
          211000,
          294000,
          62000,
          59886,
          29300,
          291000,
          35000,
          34500,
          14273
         ],
         "xaxis": "x",
         "y": [
          250,
          75,
          20,
          100,
          300,
          300,
          1,
          494,
          300,
          359,
          860,
          10,
          15,
          150,
          600,
          30,
          424,
          220,
          700,
          250,
          366,
          82,
          11000,
          300,
          585,
          50,
          75,
          50,
          55,
          1826,
          212,
          82,
          262,
          200,
          240,
          60,
          100,
          240,
          340,
          371,
          210,
          1007,
          125,
          500,
          218,
          630,
          400,
          100,
          540,
          303,
          350,
          500,
          75,
          1000,
          700,
          75,
          408,
          150,
          190,
          400,
          254,
          500,
          254,
          350,
          400,
          12,
          150,
          380,
          265,
          399,
          485,
          1000,
          260,
          212,
          179,
          8087,
          399,
          294,
          476,
          153,
          491,
          350,
          703,
          221,
          300,
          220,
          544,
          473,
          1950,
          400,
          4000,
          108,
          920,
          46,
          100,
          260,
          117,
          350,
          176,
          51,
          300,
          328,
          40,
          650,
          1900,
          219,
          250,
          746,
          85,
          672,
          600,
          47,
          15,
          50,
          57,
          38,
          535,
          49,
          545,
          1000,
          1024,
          50,
          200,
          41,
          506,
          217,
          366,
          30,
          350,
          127,
          200,
          200,
          300,
          371,
          80,
          300,
          184,
          250,
          150,
          180,
          1600,
          115,
          260,
          244,
          900,
          100,
          420,
          750,
          175,
          360,
          150,
          280,
          50,
          300,
          1200,
          5299,
          1000,
          138,
          2,
          3963,
          200,
          440,
          354,
          300,
          300,
          270,
          500,
          400,
          2000,
          335,
          1,
          1,
          800,
          375,
          625,
          60,
          160,
          1500,
          400,
          480,
          1114,
          1465,
          15,
          156,
          389,
          750,
          200,
          72,
          600,
          546,
          130,
          90,
          150,
          250,
          110,
          2,
          600,
          70,
          21,
          6,
          461,
          2818,
          392,
          177,
          1000,
          380,
          11000,
          500,
          168,
          250,
          7000,
          400,
          469,
          168,
          430,
          7,
          206,
          475,
          215,
          70,
          40,
          300,
          48,
          3,
          400,
          600,
          300,
          500,
          2,
          1000,
          300,
          180,
          40,
          600,
          400,
          200,
          250,
          1000,
          175,
          1655,
          1500,
          198,
          400,
          125,
          55,
          90,
          438,
          320,
          80,
          215,
          500,
          100,
          450,
          4545,
          700,
          450,
          600,
          300,
          4853,
          12,
          210,
          32,
          350,
          140,
          700,
          3000,
          266,
          200,
          135,
          200,
          210,
          95,
          400,
          750,
          200,
          225,
          650,
          82,
          100,
          200,
          50,
          400,
          11202,
          460,
          250,
          180,
          100,
          200,
          353,
          600,
          30,
          350,
          150,
          300,
          32,
          33,
          400,
          40,
          700,
          300,
          103,
          163,
          350,
          150,
          3200,
          51,
          280,
          500,
          1400,
          250,
          283,
          318,
          55,
          6000,
          180,
          350,
          250,
          148,
          120,
          140,
          1800,
          297,
          2100,
          113,
          1250,
          1100,
          10000,
          125,
          1300,
          65,
          125,
          206,
          150,
          27,
          197,
          685,
          2578,
          119,
          13850,
          31,
          180,
          300,
          324,
          30,
          420,
          300,
          10,
          140,
          3,
          2650,
          308,
          5,
          5,
          80,
          55,
          300,
          90,
          115,
          300,
          120,
          300,
          150,
          7,
          300,
          200,
          91,
          91,
          240,
          864,
          240,
          270,
          15,
          500,
          220,
          22,
          290,
          300,
          103,
          100,
          110,
          3,
          160,
          160,
          24,
          480,
          350,
          1,
          295,
          250,
          800,
          512,
          56,
          250,
          88,
          200,
          5,
          206,
          130,
          20,
          3,
          10,
          208,
          150,
          9,
          30,
          91,
          16,
          662,
          280,
          225,
          700,
          451,
          170,
          240,
          1,
          3900,
          200,
          180,
          3300,
          199,
          29,
          22,
          200,
          136,
          211,
          1,
          75,
          110,
          150,
          430,
          600,
          50,
          45,
          84,
          40,
          650,
          900,
          150,
          293,
          120,
          300,
          143,
          240,
          188,
          600,
          520,
          250,
          790,
          72,
          950,
          5000,
          475,
          210,
          850,
          170,
          400,
          63,
          300,
          120,
          100,
          335,
          250,
          900,
          600,
          650,
          428,
          400,
          101,
          1040,
          10,
          83,
          150,
          2200,
          729,
          312,
          75,
          620,
          363,
          100,
          100,
          221,
          290,
          1246,
          854,
          563,
          130,
          75,
          50,
          500,
          92,
          500,
          280,
          8,
          51,
          340,
          22700,
          200,
          630,
          1,
          75,
          50,
          180,
          123,
          150,
          300,
          120,
          550,
          500,
          200,
          1060,
          220,
          110,
          120,
          1170,
          157,
          155,
          35
         ],
         "yaxis": "y"
        },
        {
         "hovertemplate": "<b>OLS trendline</b><br>log10(DEMAND.LOSS.MW) = 0.446256 * log10(CUSTOMERS.AFFECTED) + 0.176905<br>R<sup>2</sup>=0.419219<br><br>CUSTOMERS.AFFECTED=%{x}<br>DEMAND.LOSS.MW=%{y} <b>(trend)</b><extra></extra>",
         "legendgroup": "",
         "line": {
          "color": "red"
         },
         "marker": {
          "color": "#636efa",
          "symbol": "circle"
         },
         "mode": "lines",
         "name": "",
         "showlegend": false,
         "type": "scatter",
         "x": [
          1,
          1,
          1,
          1,
          1,
          1,
          1,
          1,
          2,
          3,
          4,
          37,
          70,
          70,
          110,
          127,
          215,
          433,
          477,
          484,
          638,
          727,
          940,
          1200,
          1200,
          1500,
          2000,
          2035,
          2500,
          2650,
          2674,
          2713,
          3314,
          3500,
          4300,
          5314,
          5763,
          5941,
          6100,
          6635,
          6800,
          6810,
          7000,
          7077,
          7077,
          7500,
          7600,
          7935,
          8000,
          8000,
          9000,
          9600,
          9700,
          9700,
          9700,
          9700,
          9800,
          9956,
          9956,
          10000,
          10000,
          10008,
          11000,
          11000,
          12000,
          12000,
          13000,
          14273,
          14500,
          15000,
          15000,
          16500,
          17311,
          18000,
          18400,
          18600,
          18600,
          18600,
          20000,
          20345,
          20900,
          21000,
          21800,
          23000,
          23000,
          24506,
          25000,
          25159,
          26000,
          26000,
          26000,
          28000,
          29250,
          29300,
          30000,
          30000,
          30000,
          30379,
          30689,
          31000,
          31000,
          32000,
          32593,
          34500,
          35000,
          35230,
          35500,
          37000,
          37784,
          38500,
          40000,
          40911,
          42124,
          43000,
          45000,
          47000,
          47165,
          47661,
          48000,
          48400,
          50000,
          50000,
          50000,
          50000,
          50000,
          50000,
          50000,
          50246,
          50280,
          50462,
          50500,
          50636,
          50718,
          50797,
          51000,
          51160,
          51404,
          51500,
          51580,
          51600,
          52000,
          52000,
          52000,
          52659,
          53000,
          53000,
          53965,
          54316,
          54332,
          55000,
          55655,
          55677,
          56000,
          56000,
          56400,
          56645,
          56874,
          58500,
          58850,
          59057,
          59458,
          59886,
          60000,
          60000,
          60000,
          60000,
          60000,
          60000,
          60175,
          61000,
          61377,
          61705,
          62000,
          62000,
          62500,
          62500,
          63000,
          63000,
          63000,
          63000,
          63992,
          64000,
          64000,
          64801,
          65000,
          65000,
          65255,
          65400,
          66000,
          66445,
          67000,
          67000,
          67000,
          68000,
          68000,
          68018,
          68530,
          68780,
          68800,
          69000,
          70000,
          70000,
          70000,
          70000,
          70135,
          70793,
          70848,
          71000,
          71000,
          71823,
          72000,
          73000,
          73000,
          73000,
          73000,
          74031,
          75000,
          75000,
          75000,
          75000,
          75000,
          75654,
          76300,
          78000,
          78000,
          78164,
          78213,
          79000,
          80000,
          80000,
          80000,
          80000,
          80000,
          80539,
          81000,
          81000,
          81586,
          82000,
          82000,
          82000,
          82861,
          83000,
          83000,
          83450,
          84500,
          84900,
          85000,
          85091,
          85179,
          85455,
          86013,
          86058,
          87000,
          88000,
          88110,
          89000,
          89500,
          90000,
          90323,
          92090,
          92748,
          93300,
          93828,
          94000,
          95000,
          95000,
          95000,
          95000,
          98700,
          99000,
          100000,
          100000,
          100000,
          100000,
          100000,
          101000,
          102000,
          103000,
          103776,
          104000,
          104195,
          104498,
          105000,
          105000,
          105000,
          105000,
          106000,
          107000,
          108000,
          109000,
          109750,
          110000,
          110000,
          110000,
          110000,
          110433,
          111393,
          111644,
          112000,
          113000,
          113247,
          114618,
          114711,
          114791,
          115000,
          115500,
          118000,
          119000,
          119000,
          119000,
          120000,
          120000,
          120000,
          120000,
          120001,
          120124,
          120212,
          122000,
          122000,
          122600,
          123000,
          123000,
          123535,
          123827,
          124000,
          124000,
          124000,
          124596,
          125000,
          125000,
          125000,
          126000,
          126000,
          127000,
          127000,
          127534,
          128000,
          128050,
          129607,
          130000,
          130000,
          130000,
          130000,
          130000,
          130000,
          130000,
          131000,
          132000,
          132000,
          133000,
          133000,
          133900,
          134288,
          134500,
          135000,
          135000,
          135000,
          136000,
          136000,
          137000,
          138000,
          140000,
          140000,
          140000,
          140000,
          140735,
          141000,
          143000,
          145000,
          150000,
          150000,
          150000,
          150000,
          150000,
          150000,
          150084,
          153000,
          155183,
          156000,
          156338,
          156729,
          158000,
          158977,
          159870,
          160000,
          160000,
          160000,
          160000,
          160875,
          165000,
          169000,
          172060,
          175000,
          175000,
          175000,
          175000,
          175000,
          179000,
          180000,
          181000,
          182000,
          184000,
          184000,
          185000,
          186000,
          186035,
          187000,
          190000,
          190000,
          190000,
          190000,
          190000,
          192000,
          197000,
          200000,
          200000,
          200000,
          200000,
          200000,
          200000,
          201580,
          203345,
          211000,
          211266,
          215000,
          215387,
          215700,
          217000,
          218783,
          233000,
          239663,
          241000,
          243000,
          245000,
          245164,
          246990,
          248209,
          250000,
          250000,
          250000,
          250000,
          252089,
          253800,
          255000,
          262000,
          263000,
          265000,
          268000,
          270000,
          272355,
          280000,
          281000,
          283000,
          284000,
          285000,
          285300,
          290000,
          291000,
          294000,
          300000,
          300000,
          300000,
          300000,
          315000,
          320000,
          340000,
          358000,
          360000,
          370900,
          373835,
          380000,
          385000,
          400000,
          407440,
          409000,
          425000,
          425000,
          426000,
          442000,
          489478,
          500000,
          500000,
          502000,
          505000,
          564728,
          584384,
          600000,
          650000,
          665000,
          671189,
          677858,
          677858,
          715000,
          722000,
          760113,
          832898,
          850068,
          859554,
          880000,
          900000,
          939000,
          1069730,
          1200000,
          1203000,
          1271893,
          1400000,
          1400000,
          1500000,
          1667316,
          1700000,
          1881134,
          2100000,
          2142678,
          2606931,
          2775093,
          3125350,
          3241437
         ],
         "xaxis": "x",
         "y": [
          1.5028117541872072,
          1.5028117541872072,
          1.5028117541872072,
          1.5028117541872072,
          1.5028117541872072,
          1.5028117541872072,
          1.5028117541872072,
          1.5028117541872072,
          2.047581141870942,
          2.453708448056209,
          2.7898294785517326,
          7.528778365028727,
          10.006708370881155,
          10.006708370881155,
          12.24303155937979,
          13.053900200419045,
          16.510871034428256,
          22.565967978220357,
          23.561901496157954,
          23.71558226937689,
          26.827088094392817,
          28.436909558477186,
          31.891994149732273,
          35.563842014581546,
          35.563842014581546,
          39.28758901412965,
          44.669395852499136,
          45.016565762272606,
          49.34654880771607,
          50.64652898477135,
          50.85070943437974,
          51.18034987251171,
          55.960828303033814,
          57.34127478789439,
          62.858330519663,
          69.08718408867506,
          71.63376767970821,
          72.61281213182913,
          73.47370537680114,
          76.2825580255471,
          77.12335324759512,
          77.1739455727687,
          78.12749173633776,
          78.5098440743455,
          78.5098440743455,
          80.57033314688037,
          81.0479757699712,
          82.62320611170883,
          82.92455591405664,
          82.92455591405664,
          87.39977021208865,
          89.95354553909611,
          90.37049538098744,
          90.37049538098744,
          90.37049538098744,
          90.37049538098744,
          90.78507170985351,
          91.42715995031155,
          91.42715995031155,
          91.60725296763191,
          91.60725296763191,
          91.63994997914146,
          95.58761098370454,
          95.58761098370454,
          99.37221985337807,
          99.37221985337807,
          102.98590769480575,
          107.37007930797732,
          108.12879192528327,
          109.77708571027087,
          109.77708571027087,
          114.54692749607749,
          117.02607208271078,
          119.08219428781068,
          120.25592606725492,
          120.83749526722447,
          120.83749526722447,
          120.83749526722447,
          124.81488989721976,
          125.77115678251619,
          127.29084320736816,
          127.56227515839156,
          129.70843195352745,
          132.84744088973136,
          132.84744088973136,
          136.661172203976,
          137.8837555041227,
          138.27440897401831,
          140.31830792300102,
          140.31830792300102,
          140.31830792300102,
          145.03638191812416,
          147.89090799267748,
          148.00367046164908,
          149.57128854203765,
          149.57128854203765,
          149.57128854203765,
          150.41159696992517,
          151.09461414831182,
          151.77600630727719,
          151.77600630727719,
          153.94168294216536,
          155.20826275827505,
          159.19705517307762,
          160.22255870328374,
          160.69156602505387,
          161.23998151357742,
          164.24549640357867,
          165.78955779456072,
          167.18426888703544,
          170.06029801548166,
          171.77793157095485,
          174.03241326781668,
          175.6382743308546,
          179.23799295538865,
          182.75016441922017,
          183.03619118146642,
          183.89268392064585,
          184.4752328584348,
          185.15968379420525,
          187.8666285074953,
          187.8666285074953,
          187.8666285074953,
          187.8666285074953,
          187.8666285074953,
          187.8666285074953,
          187.8666285074953,
          188.27854447258818,
          188.33538803527208,
          188.63930698195645,
          188.70268595323773,
          188.92929982785157,
          189.0657718264364,
          189.19713543731967,
          189.5341720689755,
          189.79929355209518,
          190.20272134184881,
          190.36115630233152,
          190.49306055402215,
          190.52601891294108,
          191.18370638361782,
          191.18370638361782,
          191.18370638361782,
          192.26116535903944,
          192.81576677330577,
          192.81576677330577,
          194.3746155777392,
          194.93778451519,
          194.9634079408604,
          196.02948042705415,
          197.06786639635584,
          197.10262570765298,
          197.61208260003295,
          197.61208260003295,
          198.2407389000564,
          198.6245723238777,
          198.98250874105867,
          201.50137461744544,
          202.03847664311593,
          202.3553020184314,
          202.96731071226424,
          203.61801061955327,
          203.79089325772108,
          203.79089325772108,
          203.79089325772108,
          203.79089325772108,
          203.79089325772108,
          203.79089325772108,
          204.05592972025792,
          205.29967491004527,
          205.86492774080872,
          206.35515069525798,
          206.79482139886974,
          206.79482139886974,
          207.53738831834943,
          207.53738831834943,
          208.27667293479604,
          208.27667293479604,
          208.27667293479604,
          208.27667293479604,
          209.73385555669478,
          209.7455559966213,
          209.7455559966213,
          210.91298871082836,
          211.20178409064903,
          211.20178409064903,
          211.57113379856074,
          211.78079981190203,
          212.6456584570177,
          213.28428697158807,
          214.07746872749345,
          214.07746872749345,
          214.07746872749345,
          215.49749353873162,
          215.49749353873162,
          215.52294767522147,
          216.245420387821,
          216.59710431982148,
          216.62520843317893,
          216.90600110463026,
          218.30324975105694,
          218.30324975105694,
          218.30324975105694,
          218.30324975105694,
          218.49102942424742,
          219.403428759921,
          219.47948008238038,
          219.6894884159211,
          219.6894884159211,
          220.82227323771303,
          221.06495711729278,
          222.4298873920265,
          222.4298873920265,
          222.4298873920265,
          222.4298873920265,
          223.82633329774126,
          225.12901884585398,
          225.12901884585398,
          225.12901884585398,
          225.12901884585398,
          225.12901884585398,
          226.00297021766377,
          226.86213350735497,
          229.10402224916973,
          229.10402224916973,
          229.31886154449978,
          229.3830028948235,
          230.410158093984,
          231.70717039392756,
          231.70717039392756,
          231.70717039392756,
          231.70717039392756,
          231.70717039392756,
          232.40253815362314,
          232.9952357420043,
          232.9952357420043,
          233.74595314322497,
          234.27452518224723,
          234.27452518224723,
          234.27452518224723,
          235.36908924385102,
          235.54520444941227,
          235.54520444941227,
          236.11424403511506,
          237.43542936521865,
          237.9363454791654,
          238.06137020441815,
          238.17507194029605,
          238.2849612443004,
          238.6292068596462,
          239.3233059458867,
          239.37917288717742,
          240.54496100999452,
          241.77490480557753,
          241.90972513356164,
          242.9971332164986,
          243.6053962657151,
          244.2117805238649,
          244.6025134830125,
          246.7264836761187,
          247.51164106906242,
          248.16793818986926,
          248.79369171816424,
          248.99711443965407,
          250.17574251668668,
          250.17574251668668,
          250.17574251668668,
          250.17574251668668,
          254.47795893544384,
          254.82284336810247,
          255.9682971916004,
          255.9682971916004,
          255.9682971916004,
          255.9682971916004,
          255.9682971916004,
          257.1074255319619,
          258.2403254348061,
          259.3670915225258,
          260.23729419226845,
          260.4878160776762,
          260.7056611640572,
          261.04371144814775,
          261.60258912271945,
          261.60258912271945,
          261.60258912271945,
          261.60258912271945,
          262.71149849632127,
          263.81462992637734,
          264.912067099939,
          266.0038917302007,
          266.8191250482155,
          267.0901836206918,
          267.0901836206918,
          267.0901836206918,
          267.0901836206918,
          267.5588511858705,
          268.5943132896195,
          268.86422784280484,
          269.2464792148981,
          270.31663351877006,
          270.5801531916126,
          272.0370943158914,
          272.13557364790546,
          272.2202516846429,
          272.4413189709009,
          272.9692869431187,
          275.59033285728276,
          276.63013473273935,
          276.63013473273935,
          276.63013473273935,
          277.66510925729887,
          277.66510925729887,
          277.66510925729887,
          277.66510925729887,
          277.6661418366632,
          277.79311278111425,
          277.88390960912864,
          279.7208243858852,
          279.7208243858852,
          280.33389476770935,
          280.74168581118374,
          280.74168581118374,
          281.28596007879116,
          281.5824714138469,
          281.7579616030527,
          281.7579616030527,
          281.7579616030527,
          282.3615046555605,
          282.7697090934934,
          282.7697090934934,
          282.7697090934934,
          283.7769844457744,
          283.7769844457744,
          284.7798426873231,
          284.7798426873231,
          285.31357853568903,
          285.77833774144,
          285.828148912964,
          287.3739123230652,
          287.7624486424134,
          287.7624486424134,
          287.7624486424134,
          287.7624486424134,
          287.7624486424134,
          287.7624486424134,
          287.7624486424134,
          288.74816708520524,
          289.7297275884091,
          289.7297275884091,
          290.7071789926619,
          290.7071789926619,
          291.5834115891136,
          291.96015901537663,
          292.16575608040205,
          292.6499452122932,
          292.6499452122932,
          292.6499452122932,
          293.61535312785105,
          293.61535312785105,
          294.5768381918868,
          295.5344448052225,
          297.4381962038634,
          297.4381962038634,
          297.4381962038634,
          297.4381962038634,
          298.1340378128514,
          298.38442577369005,
          300.2657988911453,
          302.1326570755164,
          306.7383071714084,
          306.7383071714084,
          306.7383071714084,
          306.7383071714084,
          306.7383071714084,
          306.7383071714084,
          306.814950278071,
          309.46098066188705,
          311.42364558069005,
          312.15424964379326,
          312.4558872031754,
          312.8043728156059,
          313.9338598425502,
          314.79866489983186,
          315.58654553751154,
          315.70103921065135,
          315.70103921065135,
          315.70103921065135,
          315.70103921065135,
          316.4703330197376,
          320.06616321155906,
          323.50579254232355,
          326.1067830919149,
          328.58175460261583,
          328.58175460261583,
          328.58175460261583,
          328.58175460261583,
          328.58175460261583,
          331.9123729648045,
          332.73857156769367,
          333.56223238028883,
          334.3833771544698,
          336.01820407725234,
          336.01820407725234,
          336.83192822933853,
          337.6432203613656,
          337.6715717860865,
          338.4521007591014,
          340.8644702860871,
          340.8644702860871,
          340.8644702860871,
          340.8644702860871,
          340.8644702860871,
          342.461017660529,
          346.4125309437568,
          348.75682651936967,
          348.75682651936967,
          348.75682651936967,
          348.75682651936967,
          348.75682651936967,
          348.75682651936967,
          349.98366417038324,
          351.3478705230182,
          357.18998559849473,
          357.39086311012943,
          360.19604743601565,
          360.4852349484993,
          360.7189152307634,
          361.6874683800707,
          363.01066542292574,
          373.35423376516064,
          378.0815811361005,
          379.0213713759888,
          380.4218171065664,
          381.8158946509945,
          381.9299289972221,
          383.1967611598513,
          384.03958769075246,
          385.2737524969098,
          385.2737524969098,
          385.2737524969098,
          385.2737524969098,
          386.7070972012888,
          387.87618896283436,
          388.69352305694787,
          393.41940201501467,
          394.0887941089841,
          395.42336281590684,
          397.4148001475498,
          398.73557504236106,
          400.28386098846346,
          405.2595674223564,
          405.90482150708704,
          407.19152576650396,
          407.83298986250577,
          408.4732044459774,
          408.6650261850809,
          411.655770756051,
          412.2886290794511,
          414.18001083581316,
          417.93096940027834,
          417.93096940027834,
          417.93096940027834,
          417.93096940027834,
          427.13033164354135,
          430.1426925599245,
          441.9386702627355,
          452.2306361676938,
          453.35633183383544,
          459.431362549338,
          461.05021632378816,
          464.4278695232217,
          467.1450265991246,
          475.1812055569402,
          479.10526578932297,
          479.92300822935596,
          488.2122926880174,
          488.2122926880174,
          488.7245893011483,
          496.8324409697643,
          519.9768013234774,
          524.9355202822388,
          524.9355202822388,
          525.8715078577344,
          527.2716257084834,
          554.2417374891326,
          562.768976325297,
          569.4309810683378,
          590.1384364905381,
          596.1774404432088,
          598.6471370455578,
          601.2943013659233,
          601.2943013659233,
          615.780098915539,
          618.4631513668714,
          632.8249956359722,
          659.1831480023898,
          665.2130370454033,
          668.5155035053662,
          675.5656204275853,
          682.3747202299553,
          695.4154679978616,
          737.0658408562911,
          775.8497597479887,
          776.7147310379871,
          796.2587699527546,
          831.0995705650636,
          831.0995705650636,
          857.0858706770922,
          898.502722479469,
          906.3204637157017,
          948.2089244772569,
          995.9439436954533,
          1004.9260661714917,
          1096.8391254829414,
          1127.8670335388247,
          1189.3074871499666,
          1208.8220502338504
         ],
         "yaxis": "y"
        }
       ],
       "layout": {
        "legend": {
         "tracegroupgap": 0
        },
        "margin": {
         "t": 60
        },
        "template": {
         "data": {
          "bar": [
           {
            "error_x": {
             "color": "#2a3f5f"
            },
            "error_y": {
             "color": "#2a3f5f"
            },
            "marker": {
             "line": {
              "color": "#E5ECF6",
              "width": 0.5
             },
             "pattern": {
              "fillmode": "overlay",
              "size": 10,
              "solidity": 0.2
             }
            },
            "type": "bar"
           }
          ],
          "barpolar": [
           {
            "marker": {
             "line": {
              "color": "#E5ECF6",
              "width": 0.5
             },
             "pattern": {
              "fillmode": "overlay",
              "size": 10,
              "solidity": 0.2
             }
            },
            "type": "barpolar"
           }
          ],
          "carpet": [
           {
            "aaxis": {
             "endlinecolor": "#2a3f5f",
             "gridcolor": "white",
             "linecolor": "white",
             "minorgridcolor": "white",
             "startlinecolor": "#2a3f5f"
            },
            "baxis": {
             "endlinecolor": "#2a3f5f",
             "gridcolor": "white",
             "linecolor": "white",
             "minorgridcolor": "white",
             "startlinecolor": "#2a3f5f"
            },
            "type": "carpet"
           }
          ],
          "choropleth": [
           {
            "colorbar": {
             "outlinewidth": 0,
             "ticks": ""
            },
            "type": "choropleth"
           }
          ],
          "contour": [
           {
            "colorbar": {
             "outlinewidth": 0,
             "ticks": ""
            },
            "colorscale": [
             [
              0,
              "#0d0887"
             ],
             [
              0.1111111111111111,
              "#46039f"
             ],
             [
              0.2222222222222222,
              "#7201a8"
             ],
             [
              0.3333333333333333,
              "#9c179e"
             ],
             [
              0.4444444444444444,
              "#bd3786"
             ],
             [
              0.5555555555555556,
              "#d8576b"
             ],
             [
              0.6666666666666666,
              "#ed7953"
             ],
             [
              0.7777777777777778,
              "#fb9f3a"
             ],
             [
              0.8888888888888888,
              "#fdca26"
             ],
             [
              1,
              "#f0f921"
             ]
            ],
            "type": "contour"
           }
          ],
          "contourcarpet": [
           {
            "colorbar": {
             "outlinewidth": 0,
             "ticks": ""
            },
            "type": "contourcarpet"
           }
          ],
          "heatmap": [
           {
            "colorbar": {
             "outlinewidth": 0,
             "ticks": ""
            },
            "colorscale": [
             [
              0,
              "#0d0887"
             ],
             [
              0.1111111111111111,
              "#46039f"
             ],
             [
              0.2222222222222222,
              "#7201a8"
             ],
             [
              0.3333333333333333,
              "#9c179e"
             ],
             [
              0.4444444444444444,
              "#bd3786"
             ],
             [
              0.5555555555555556,
              "#d8576b"
             ],
             [
              0.6666666666666666,
              "#ed7953"
             ],
             [
              0.7777777777777778,
              "#fb9f3a"
             ],
             [
              0.8888888888888888,
              "#fdca26"
             ],
             [
              1,
              "#f0f921"
             ]
            ],
            "type": "heatmap"
           }
          ],
          "heatmapgl": [
           {
            "colorbar": {
             "outlinewidth": 0,
             "ticks": ""
            },
            "colorscale": [
             [
              0,
              "#0d0887"
             ],
             [
              0.1111111111111111,
              "#46039f"
             ],
             [
              0.2222222222222222,
              "#7201a8"
             ],
             [
              0.3333333333333333,
              "#9c179e"
             ],
             [
              0.4444444444444444,
              "#bd3786"
             ],
             [
              0.5555555555555556,
              "#d8576b"
             ],
             [
              0.6666666666666666,
              "#ed7953"
             ],
             [
              0.7777777777777778,
              "#fb9f3a"
             ],
             [
              0.8888888888888888,
              "#fdca26"
             ],
             [
              1,
              "#f0f921"
             ]
            ],
            "type": "heatmapgl"
           }
          ],
          "histogram": [
           {
            "marker": {
             "pattern": {
              "fillmode": "overlay",
              "size": 10,
              "solidity": 0.2
             }
            },
            "type": "histogram"
           }
          ],
          "histogram2d": [
           {
            "colorbar": {
             "outlinewidth": 0,
             "ticks": ""
            },
            "colorscale": [
             [
              0,
              "#0d0887"
             ],
             [
              0.1111111111111111,
              "#46039f"
             ],
             [
              0.2222222222222222,
              "#7201a8"
             ],
             [
              0.3333333333333333,
              "#9c179e"
             ],
             [
              0.4444444444444444,
              "#bd3786"
             ],
             [
              0.5555555555555556,
              "#d8576b"
             ],
             [
              0.6666666666666666,
              "#ed7953"
             ],
             [
              0.7777777777777778,
              "#fb9f3a"
             ],
             [
              0.8888888888888888,
              "#fdca26"
             ],
             [
              1,
              "#f0f921"
             ]
            ],
            "type": "histogram2d"
           }
          ],
          "histogram2dcontour": [
           {
            "colorbar": {
             "outlinewidth": 0,
             "ticks": ""
            },
            "colorscale": [
             [
              0,
              "#0d0887"
             ],
             [
              0.1111111111111111,
              "#46039f"
             ],
             [
              0.2222222222222222,
              "#7201a8"
             ],
             [
              0.3333333333333333,
              "#9c179e"
             ],
             [
              0.4444444444444444,
              "#bd3786"
             ],
             [
              0.5555555555555556,
              "#d8576b"
             ],
             [
              0.6666666666666666,
              "#ed7953"
             ],
             [
              0.7777777777777778,
              "#fb9f3a"
             ],
             [
              0.8888888888888888,
              "#fdca26"
             ],
             [
              1,
              "#f0f921"
             ]
            ],
            "type": "histogram2dcontour"
           }
          ],
          "mesh3d": [
           {
            "colorbar": {
             "outlinewidth": 0,
             "ticks": ""
            },
            "type": "mesh3d"
           }
          ],
          "parcoords": [
           {
            "line": {
             "colorbar": {
              "outlinewidth": 0,
              "ticks": ""
             }
            },
            "type": "parcoords"
           }
          ],
          "pie": [
           {
            "automargin": true,
            "type": "pie"
           }
          ],
          "scatter": [
           {
            "fillpattern": {
             "fillmode": "overlay",
             "size": 10,
             "solidity": 0.2
            },
            "type": "scatter"
           }
          ],
          "scatter3d": [
           {
            "line": {
             "colorbar": {
              "outlinewidth": 0,
              "ticks": ""
             }
            },
            "marker": {
             "colorbar": {
              "outlinewidth": 0,
              "ticks": ""
             }
            },
            "type": "scatter3d"
           }
          ],
          "scattercarpet": [
           {
            "marker": {
             "colorbar": {
              "outlinewidth": 0,
              "ticks": ""
             }
            },
            "type": "scattercarpet"
           }
          ],
          "scattergeo": [
           {
            "marker": {
             "colorbar": {
              "outlinewidth": 0,
              "ticks": ""
             }
            },
            "type": "scattergeo"
           }
          ],
          "scattergl": [
           {
            "marker": {
             "colorbar": {
              "outlinewidth": 0,
              "ticks": ""
             }
            },
            "type": "scattergl"
           }
          ],
          "scattermapbox": [
           {
            "marker": {
             "colorbar": {
              "outlinewidth": 0,
              "ticks": ""
             }
            },
            "type": "scattermapbox"
           }
          ],
          "scatterpolar": [
           {
            "marker": {
             "colorbar": {
              "outlinewidth": 0,
              "ticks": ""
             }
            },
            "type": "scatterpolar"
           }
          ],
          "scatterpolargl": [
           {
            "marker": {
             "colorbar": {
              "outlinewidth": 0,
              "ticks": ""
             }
            },
            "type": "scatterpolargl"
           }
          ],
          "scatterternary": [
           {
            "marker": {
             "colorbar": {
              "outlinewidth": 0,
              "ticks": ""
             }
            },
            "type": "scatterternary"
           }
          ],
          "surface": [
           {
            "colorbar": {
             "outlinewidth": 0,
             "ticks": ""
            },
            "colorscale": [
             [
              0,
              "#0d0887"
             ],
             [
              0.1111111111111111,
              "#46039f"
             ],
             [
              0.2222222222222222,
              "#7201a8"
             ],
             [
              0.3333333333333333,
              "#9c179e"
             ],
             [
              0.4444444444444444,
              "#bd3786"
             ],
             [
              0.5555555555555556,
              "#d8576b"
             ],
             [
              0.6666666666666666,
              "#ed7953"
             ],
             [
              0.7777777777777778,
              "#fb9f3a"
             ],
             [
              0.8888888888888888,
              "#fdca26"
             ],
             [
              1,
              "#f0f921"
             ]
            ],
            "type": "surface"
           }
          ],
          "table": [
           {
            "cells": {
             "fill": {
              "color": "#EBF0F8"
             },
             "line": {
              "color": "white"
             }
            },
            "header": {
             "fill": {
              "color": "#C8D4E3"
             },
             "line": {
              "color": "white"
             }
            },
            "type": "table"
           }
          ]
         },
         "layout": {
          "annotationdefaults": {
           "arrowcolor": "#2a3f5f",
           "arrowhead": 0,
           "arrowwidth": 1
          },
          "autotypenumbers": "strict",
          "coloraxis": {
           "colorbar": {
            "outlinewidth": 0,
            "ticks": ""
           }
          },
          "colorscale": {
           "diverging": [
            [
             0,
             "#8e0152"
            ],
            [
             0.1,
             "#c51b7d"
            ],
            [
             0.2,
             "#de77ae"
            ],
            [
             0.3,
             "#f1b6da"
            ],
            [
             0.4,
             "#fde0ef"
            ],
            [
             0.5,
             "#f7f7f7"
            ],
            [
             0.6,
             "#e6f5d0"
            ],
            [
             0.7,
             "#b8e186"
            ],
            [
             0.8,
             "#7fbc41"
            ],
            [
             0.9,
             "#4d9221"
            ],
            [
             1,
             "#276419"
            ]
           ],
           "sequential": [
            [
             0,
             "#0d0887"
            ],
            [
             0.1111111111111111,
             "#46039f"
            ],
            [
             0.2222222222222222,
             "#7201a8"
            ],
            [
             0.3333333333333333,
             "#9c179e"
            ],
            [
             0.4444444444444444,
             "#bd3786"
            ],
            [
             0.5555555555555556,
             "#d8576b"
            ],
            [
             0.6666666666666666,
             "#ed7953"
            ],
            [
             0.7777777777777778,
             "#fb9f3a"
            ],
            [
             0.8888888888888888,
             "#fdca26"
            ],
            [
             1,
             "#f0f921"
            ]
           ],
           "sequentialminus": [
            [
             0,
             "#0d0887"
            ],
            [
             0.1111111111111111,
             "#46039f"
            ],
            [
             0.2222222222222222,
             "#7201a8"
            ],
            [
             0.3333333333333333,
             "#9c179e"
            ],
            [
             0.4444444444444444,
             "#bd3786"
            ],
            [
             0.5555555555555556,
             "#d8576b"
            ],
            [
             0.6666666666666666,
             "#ed7953"
            ],
            [
             0.7777777777777778,
             "#fb9f3a"
            ],
            [
             0.8888888888888888,
             "#fdca26"
            ],
            [
             1,
             "#f0f921"
            ]
           ]
          },
          "colorway": [
           "#636efa",
           "#EF553B",
           "#00cc96",
           "#ab63fa",
           "#FFA15A",
           "#19d3f3",
           "#FF6692",
           "#B6E880",
           "#FF97FF",
           "#FECB52"
          ],
          "font": {
           "color": "#2a3f5f"
          },
          "geo": {
           "bgcolor": "white",
           "lakecolor": "white",
           "landcolor": "#E5ECF6",
           "showlakes": true,
           "showland": true,
           "subunitcolor": "white"
          },
          "hoverlabel": {
           "align": "left"
          },
          "hovermode": "closest",
          "mapbox": {
           "style": "light"
          },
          "paper_bgcolor": "white",
          "plot_bgcolor": "#E5ECF6",
          "polar": {
           "angularaxis": {
            "gridcolor": "white",
            "linecolor": "white",
            "ticks": ""
           },
           "bgcolor": "#E5ECF6",
           "radialaxis": {
            "gridcolor": "white",
            "linecolor": "white",
            "ticks": ""
           }
          },
          "scene": {
           "xaxis": {
            "backgroundcolor": "#E5ECF6",
            "gridcolor": "white",
            "gridwidth": 2,
            "linecolor": "white",
            "showbackground": true,
            "ticks": "",
            "zerolinecolor": "white"
           },
           "yaxis": {
            "backgroundcolor": "#E5ECF6",
            "gridcolor": "white",
            "gridwidth": 2,
            "linecolor": "white",
            "showbackground": true,
            "ticks": "",
            "zerolinecolor": "white"
           },
           "zaxis": {
            "backgroundcolor": "#E5ECF6",
            "gridcolor": "white",
            "gridwidth": 2,
            "linecolor": "white",
            "showbackground": true,
            "ticks": "",
            "zerolinecolor": "white"
           }
          },
          "shapedefaults": {
           "line": {
            "color": "#2a3f5f"
           }
          },
          "ternary": {
           "aaxis": {
            "gridcolor": "white",
            "linecolor": "white",
            "ticks": ""
           },
           "baxis": {
            "gridcolor": "white",
            "linecolor": "white",
            "ticks": ""
           },
           "bgcolor": "#E5ECF6",
           "caxis": {
            "gridcolor": "white",
            "linecolor": "white",
            "ticks": ""
           }
          },
          "title": {
           "x": 0.05
          },
          "xaxis": {
           "automargin": true,
           "gridcolor": "white",
           "linecolor": "white",
           "ticks": "",
           "title": {
            "standoff": 15
           },
           "zerolinecolor": "white",
           "zerolinewidth": 2
          },
          "yaxis": {
           "automargin": true,
           "gridcolor": "white",
           "linecolor": "white",
           "ticks": "",
           "title": {
            "standoff": 15
           },
           "zerolinecolor": "white",
           "zerolinewidth": 2
          }
         }
        },
        "xaxis": {
         "anchor": "y",
         "domain": [
          0,
          1
         ],
         "title": {
          "text": "CUSTOMERS.AFFECTED"
         },
         "type": "log"
        },
        "yaxis": {
         "anchor": "x",
         "domain": [
          0,
          1
         ],
         "title": {
          "text": "DEMAND.LOSS.MW"
         },
         "type": "log"
        }
       }
      }
     },
     "metadata": {},
     "output_type": "display_data"
    }
   ],
   "source": [
    "no_zeros = extra_features.drop(\n",
    "    extra_features[\n",
    "        (extra_features[\"DEMAND.LOSS.MW\"] <= 0)\n",
    "        & (extra_features[\"CUSTOMERS.AFFECTED\"] <= 0)\n",
    "    ].index\n",
    ")\n",
    "\n",
    "no_zeros[[\"DEMAND.LOSS.MW\", \"CUSTOMERS.AFFECTED\"]].dropna().plot(\n",
    "    kind=\"scatter\",\n",
    "    x=\"CUSTOMERS.AFFECTED\",\n",
    "    y=\"DEMAND.LOSS.MW\",\n",
    "    log_x=True,\n",
    "    log_y=True,\n",
    "    trendline=\"ols\",\n",
    "    trendline_color_override=\"red\",\n",
    "    trendline_options=dict(log_x=True, log_y=True),\n",
    ")"
   ]
  },
  {
   "cell_type": "code",
   "execution_count": null,
   "metadata": {},
   "outputs": [
    {
     "data": {
      "text/html": [
       "<div>\n",
       "<style scoped>\n",
       "    .dataframe tbody tr th:only-of-type {\n",
       "        vertical-align: middle;\n",
       "    }\n",
       "\n",
       "    .dataframe tbody tr th {\n",
       "        vertical-align: top;\n",
       "    }\n",
       "\n",
       "    .dataframe thead th {\n",
       "        text-align: right;\n",
       "    }\n",
       "</style>\n",
       "<table border=\"1\" class=\"dataframe\">\n",
       "  <thead>\n",
       "    <tr style=\"text-align: right;\">\n",
       "      <th>CLIMATE.REGION</th>\n",
       "      <th>Central</th>\n",
       "      <th>East North Central</th>\n",
       "      <th>Northeast</th>\n",
       "      <th>Northwest</th>\n",
       "      <th>South</th>\n",
       "      <th>Southeast</th>\n",
       "      <th>Southwest</th>\n",
       "      <th>West</th>\n",
       "      <th>West North Central</th>\n",
       "    </tr>\n",
       "    <tr>\n",
       "      <th>CLIMATE.CATEGORY</th>\n",
       "      <th></th>\n",
       "      <th></th>\n",
       "      <th></th>\n",
       "      <th></th>\n",
       "      <th></th>\n",
       "      <th></th>\n",
       "      <th></th>\n",
       "      <th></th>\n",
       "      <th></th>\n",
       "    </tr>\n",
       "  </thead>\n",
       "  <tbody>\n",
       "    <tr>\n",
       "      <th>cold</th>\n",
       "      <td>97364</td>\n",
       "      <td>120777</td>\n",
       "      <td>120320</td>\n",
       "      <td>63350</td>\n",
       "      <td>186070</td>\n",
       "      <td>142545</td>\n",
       "      <td>63196</td>\n",
       "      <td>171929</td>\n",
       "      <td>53500</td>\n",
       "    </tr>\n",
       "    <tr>\n",
       "      <th>normal</th>\n",
       "      <td>154125</td>\n",
       "      <td>154612</td>\n",
       "      <td>125290</td>\n",
       "      <td>42961</td>\n",
       "      <td>218077</td>\n",
       "      <td>164578</td>\n",
       "      <td>24918</td>\n",
       "      <td>186293</td>\n",
       "      <td>60106</td>\n",
       "    </tr>\n",
       "    <tr>\n",
       "      <th>warm</th>\n",
       "      <td>91868</td>\n",
       "      <td>101710</td>\n",
       "      <td>115443</td>\n",
       "      <td>118436</td>\n",
       "      <td>107234</td>\n",
       "      <td>268593</td>\n",
       "      <td>29596</td>\n",
       "      <td>231771</td>\n",
       "      <td>25250</td>\n",
       "    </tr>\n",
       "  </tbody>\n",
       "</table>\n",
       "</div>"
      ],
      "text/plain": [
       "CLIMATE.REGION    Central  East North Central  Northeast  Northwest   South  \\\n",
       "CLIMATE.CATEGORY                                                              \n",
       "cold                97364              120777     120320      63350  186070   \n",
       "normal             154125              154612     125290      42961  218077   \n",
       "warm                91868              101710     115443     118436  107234   \n",
       "\n",
       "CLIMATE.REGION    Southeast  Southwest    West  West North Central  \n",
       "CLIMATE.CATEGORY                                                    \n",
       "cold                 142545      63196  171929               53500  \n",
       "normal               164578      24918  186293               60106  \n",
       "warm                 268593      29596  231771               25250  "
      ]
     },
     "execution_count": 14,
     "metadata": {},
     "output_type": "execute_result"
    }
   ],
   "source": [
    "pd.pivot_table(\n",
    "    cleaned,\n",
    "    index=\"CLIMATE.CATEGORY\",\n",
    "    columns=\"CLIMATE.REGION\",\n",
    "    values=\"CUSTOMERS.AFFECTED\",\n",
    "    aggfunc=\"mean\",\n",
    ").astype(int)"
   ]
  },
  {
   "cell_type": "markdown",
   "metadata": {},
   "source": [
    "## Step 3: Assessment of Missingness\n"
   ]
  },
  {
   "cell_type": "code",
   "execution_count": 15,
   "metadata": {
    "ExecuteTime": {
     "end_time": "2019-10-31T23:36:28.662099Z",
     "start_time": "2019-10-31T23:36:28.660016Z"
    }
   },
   "outputs": [],
   "source": [
    "# TODO"
   ]
  },
  {
   "cell_type": "markdown",
   "metadata": {},
   "source": [
    "## Step 4: Hypothesis Testing\n"
   ]
  },
  {
   "cell_type": "code",
   "execution_count": null,
   "metadata": {
    "ExecuteTime": {
     "end_time": "2019-10-31T23:36:28.666489Z",
     "start_time": "2019-10-31T23:36:28.664381Z"
    }
   },
   "outputs": [
    {
     "name": "stdout",
     "output_type": "stream",
     "text": [
      "p-value: 0.0\n",
      "Hypothesis: Reject\n"
     ]
    }
   ],
   "source": [
    "tvd = lambda x, y: np.abs(x - y).sum() / 2\n",
    "uniform = np.ones(12) / 12\n",
    "month_props = cleaned.value_counts(\"MONTH\", normalize=True).values\n",
    "observed = tvd(month_props, uniform)\n",
    "\n",
    "stats = np.array([])\n",
    "for _ in range(1000):\n",
    "    rand = np.random.choice(12, size=cleaned.shape[0], p=uniform)\n",
    "    stat = pd.Series(rand).value_counts(normalize=True)\n",
    "    stats = np.append(stats, tvd(stat, uniform))\n",
    "\n",
    "pval = (stats >= observed).mean()\n",
    "result = \"Reject\" if pval < 0.01 else \"Fail to Reject\"\n",
    "print(f\"p-value: {pval}\\nHypothesis: {result}\")"
   ]
  },
  {
   "cell_type": "markdown",
   "metadata": {},
   "source": [
    "## Step 5: Framing a Prediction Problem\n"
   ]
  },
  {
   "cell_type": "code",
   "execution_count": 17,
   "metadata": {
    "ExecuteTime": {
     "end_time": "2019-10-31T23:36:28.657068Z",
     "start_time": "2019-10-31T23:36:28.654650Z"
    }
   },
   "outputs": [],
   "source": [
    "# TODO"
   ]
  },
  {
   "cell_type": "markdown",
   "metadata": {},
   "source": [
    "## Step 6: Baseline Model\n"
   ]
  },
  {
   "cell_type": "code",
   "execution_count": null,
   "metadata": {
    "ExecuteTime": {
     "end_time": "2019-10-31T23:36:28.662099Z",
     "start_time": "2019-10-31T23:36:28.660016Z"
    }
   },
   "outputs": [
    {
     "data": {
      "text/plain": [
       "SEVERITY\n",
       "MEDIUM    216\n",
       "LOW       209\n",
       "HIGH      208\n",
       "Name: count, dtype: int64"
      ]
     },
     "execution_count": 197,
     "metadata": {},
     "output_type": "execute_result"
    }
   ],
   "source": [
    "def get_severity(row):\n",
    "    if np.isnan(row[\"LOG_DEMAND_LOSS_MW\"]):\n",
    "        return np.nan\n",
    "    if row[\"LOG_DEMAND_LOSS_MW\"] > extra_features[\"LOG_DEMAND_LOSS_MW\"].quantile(0.75):\n",
    "        return \"HIGH\"\n",
    "    if row[\"LOG_DEMAND_LOSS_MW\"] > extra_features[\"LOG_DEMAND_LOSS_MW\"].quantile(0.25):\n",
    "        return \"MEDIUM\"\n",
    "    return \"LOW\"\n",
    "\n",
    "severity = extra_features.assign(SEVERITY=extra_features.apply(get_severity, axis=1))\n",
    "severity[\"SEVERITY\"].value_counts()"
   ]
  },
  {
   "cell_type": "code",
   "execution_count": 203,
   "metadata": {},
   "outputs": [
    {
     "data": {
      "text/plain": [
       "Index(['YEAR', 'MONTH', 'U.S._STATE', 'POSTAL.CODE', 'NERC.REGION',\n",
       "       'CLIMATE.REGION', 'ANOMALY.LEVEL', 'CLIMATE.CATEGORY', 'CAUSE.CATEGORY',\n",
       "       'CAUSE.CATEGORY.DETAIL', 'HURRICANE.NAMES', 'OUTAGE.DURATION',\n",
       "       'DEMAND.LOSS.MW', 'CUSTOMERS.AFFECTED', 'RES.PRICE', 'COM.PRICE',\n",
       "       'IND.PRICE', 'TOTAL.PRICE', 'RES.SALES', 'COM.SALES', 'IND.SALES',\n",
       "       'TOTAL.SALES', 'RES.PERCEN', 'COM.PERCEN', 'IND.PERCEN',\n",
       "       'RES.CUSTOMERS', 'COM.CUSTOMERS', 'IND.CUSTOMERS', 'TOTAL.CUSTOMERS',\n",
       "       'RES.CUST.PCT', 'COM.CUST.PCT', 'IND.CUST.PCT', 'PC.REALGSP.STATE',\n",
       "       'PC.REALGSP.USA', 'PC.REALGSP.REL', 'PC.REALGSP.CHANGE', 'UTIL.REALGSP',\n",
       "       'TOTAL.REALGSP', 'UTIL.CONTRI', 'PI.UTIL.OFUSA', 'POPULATION',\n",
       "       'POPPCT_URBAN', 'POPPCT_UC', 'POPDEN_URBAN', 'POPDEN_UC',\n",
       "       'POPDEN_RURAL', 'AREAPCT_URBAN', 'AREAPCT_UC', 'PCT_LAND',\n",
       "       'PCT_WATER_TOT', 'PCT_WATER_INLAND', 'OUTAGE.START',\n",
       "       'OUTAGE.RESTORATION', 'LOG_DEMAND_LOSS_MW', 'LOG_OUTAGE_DURATION',\n",
       "       'LOG_CUSTOMERS_AFFECTED', 'START_HR', 'START_DAY', 'START_DAYOFWEEK',\n",
       "       'RESTORATION_HR', 'RESTORATION_DAY', 'RESTORATION_DAYOFWEEK',\n",
       "       'SEVERITY'],\n",
       "      dtype='object')"
      ]
     },
     "execution_count": 203,
     "metadata": {},
     "output_type": "execute_result"
    }
   ],
   "source": [
    "severity.columns"
   ]
  },
  {
   "cell_type": "code",
   "execution_count": 214,
   "metadata": {},
   "outputs": [
    {
     "data": {
      "application/vnd.plotly.v1+json": {
       "config": {
        "plotlyServerURL": "https://plot.ly"
       },
       "data": [
        {
         "alignmentgroup": "True",
         "bingroup": "x",
         "hovertemplate": "SEVERITY=MEDIUM<br>DEMAND.LOSS.MW=%{x}<br>count=%{y}<extra></extra>",
         "legendgroup": "MEDIUM",
         "marker": {
          "color": "#EF553B",
          "pattern": {
           "shape": ""
          }
         },
         "name": "MEDIUM",
         "offsetgroup": "MEDIUM",
         "orientation": "v",
         "showlegend": true,
         "type": "histogram",
         "x": [
          250,
          300,
          300,
          300,
          359,
          220,
          250,
          366,
          300,
          212,
          262,
          200,
          310,
          240,
          240,
          340,
          378,
          371,
          210,
          320,
          218,
          303,
          350,
          190,
          254,
          254,
          350,
          380,
          265,
          399,
          260,
          212,
          179,
          399,
          294,
          350,
          221,
          300,
          220,
          339,
          260,
          350,
          176,
          300,
          328,
          219,
          250,
          200,
          217,
          366,
          350,
          200,
          200,
          300,
          371,
          300,
          184,
          250,
          275,
          180,
          200,
          260,
          244,
          175,
          360,
          280,
          300,
          200,
          354,
          300,
          300,
          270,
          335,
          375,
          160,
          156,
          389,
          200,
          250,
          342,
          306,
          316,
          392,
          294,
          177,
          380,
          168,
          250,
          168,
          206,
          215,
          300,
          300,
          300,
          180,
          200,
          250,
          175,
          198,
          320,
          215,
          300,
          210,
          350,
          266,
          300,
          200,
          200,
          210,
          200,
          225,
          200,
          300,
          250,
          180,
          200,
          353,
          300,
          200,
          350,
          300,
          200,
          300,
          225,
          163,
          350,
          280,
          250,
          283,
          318,
          180,
          350,
          250,
          297,
          206,
          197,
          240,
          360,
          180,
          176,
          300,
          324,
          300,
          220,
          308,
          160,
          300,
          300,
          300,
          360,
          176,
          300,
          200,
          318,
          240,
          240,
          270,
          220,
          240,
          324,
          290,
          300,
          160,
          180,
          160,
          350,
          160,
          295,
          250,
          250,
          200,
          206,
          300,
          208,
          390,
          280,
          225,
          300,
          170,
          240,
          200,
          220,
          300,
          180,
          300,
          199,
          200,
          211,
          214,
          293,
          300,
          240,
          188,
          250,
          350,
          210,
          170,
          300,
          335,
          250,
          312,
          363,
          221,
          290,
          300,
          280,
          340,
          200,
          180,
          300,
          200,
          220,
          290,
          157,
          155,
          373
         ],
         "xaxis": "x",
         "yaxis": "y"
        },
        {
         "alignmentgroup": "True",
         "bingroup": "x",
         "hovertemplate": "SEVERITY=LOW<br>DEMAND.LOSS.MW=%{x}<br>count=%{y}<extra></extra>",
         "legendgroup": "LOW",
         "marker": {
          "color": "#00cc96",
          "pattern": {
           "shape": ""
          }
         },
         "name": "LOW",
         "offsetgroup": "LOW",
         "orientation": "v",
         "showlegend": true,
         "type": "histogram",
         "x": [
          75,
          20,
          100,
          1,
          140,
          10,
          15,
          150,
          30,
          24,
          82,
          50,
          75,
          50,
          55,
          82,
          60,
          100,
          125,
          100,
          75,
          75,
          150,
          12,
          150,
          153,
          108,
          46,
          100,
          117,
          51,
          40,
          85,
          47,
          15,
          50,
          57,
          38,
          49,
          50,
          41,
          30,
          127,
          80,
          150,
          115,
          100,
          9,
          150,
          50,
          138,
          2,
          1,
          1,
          60,
          15,
          105,
          72,
          87,
          130,
          90,
          150,
          110,
          2,
          70,
          21,
          6,
          7,
          70,
          40,
          48,
          3,
          2,
          40,
          125,
          55,
          90,
          80,
          100,
          12,
          32,
          140,
          10,
          135,
          95,
          82,
          100,
          50,
          108,
          150,
          100,
          30,
          150,
          32,
          33,
          40,
          103,
          150,
          120,
          51,
          55,
          148,
          120,
          140,
          113,
          125,
          65,
          125,
          150,
          27,
          133,
          119,
          150,
          31,
          30,
          150,
          10,
          140,
          3,
          5,
          5,
          80,
          55,
          90,
          115,
          120,
          150,
          120,
          7,
          91,
          91,
          130,
          15,
          22,
          103,
          100,
          110,
          3,
          140,
          24,
          136,
          1,
          56,
          88,
          5,
          130,
          15,
          20,
          3,
          10,
          150,
          150,
          9,
          30,
          91,
          16,
          5,
          1,
          29,
          22,
          150,
          136,
          1,
          126,
          75,
          110,
          150,
          4,
          22,
          50,
          45,
          84,
          40,
          4,
          150,
          120,
          143,
          72,
          63,
          120,
          100,
          65,
          101,
          6,
          10,
          83,
          150,
          75,
          100,
          100,
          130,
          75,
          50,
          92,
          30,
          75,
          8,
          51,
          1,
          75,
          50,
          56,
          123,
          150,
          120,
          110,
          120,
          84,
          35
         ],
         "xaxis": "x",
         "yaxis": "y"
        },
        {
         "alignmentgroup": "True",
         "bingroup": "x",
         "hovertemplate": "SEVERITY=HIGH<br>DEMAND.LOSS.MW=%{x}<br>count=%{y}<extra></extra>",
         "legendgroup": "HIGH",
         "marker": {
          "color": "#ab63fa",
          "pattern": {
           "shape": ""
          }
         },
         "name": "HIGH",
         "offsetgroup": "HIGH",
         "orientation": "v",
         "showlegend": true,
         "type": "histogram",
         "x": [
          926,
          494,
          860,
          850,
          600,
          424,
          700,
          8881,
          11000,
          585,
          1826,
          1007,
          500,
          630,
          400,
          540,
          500,
          1000,
          700,
          408,
          400,
          500,
          400,
          485,
          1000,
          8087,
          1084,
          476,
          491,
          703,
          1231,
          544,
          473,
          1950,
          400,
          4000,
          920,
          650,
          1900,
          746,
          672,
          600,
          535,
          545,
          1000,
          1024,
          425,
          650,
          500,
          506,
          1600,
          900,
          420,
          750,
          630,
          1200,
          5299,
          455,
          1000,
          960,
          3963,
          440,
          500,
          400,
          2000,
          800,
          625,
          1500,
          400,
          480,
          1114,
          1465,
          630,
          750,
          600,
          546,
          600,
          461,
          2818,
          420,
          1000,
          11000,
          500,
          7000,
          400,
          469,
          430,
          475,
          400,
          600,
          500,
          1000,
          600,
          400,
          1000,
          14435,
          1655,
          1500,
          400,
          438,
          500,
          450,
          4545,
          700,
          450,
          600,
          4853,
          700,
          3000,
          400,
          400,
          750,
          650,
          675,
          675,
          400,
          11202,
          675,
          460,
          22934,
          500,
          417,
          600,
          676,
          460,
          675,
          400,
          700,
          3200,
          500,
          1400,
          6000,
          1800,
          2100,
          1250,
          1100,
          10000,
          1300,
          483,
          41788,
          4000,
          695,
          685,
          2578,
          13850,
          595,
          630,
          420,
          2650,
          400,
          864,
          500,
          500,
          1000,
          400,
          500,
          464,
          480,
          400,
          522,
          800,
          414,
          512,
          526,
          700,
          662,
          522,
          700,
          451,
          3900,
          611,
          3300,
          430,
          600,
          650,
          900,
          600,
          520,
          790,
          950,
          5000,
          475,
          850,
          400,
          900,
          600,
          650,
          428,
          400,
          1040,
          2200,
          729,
          620,
          1246,
          854,
          563,
          500,
          500,
          22700,
          630,
          580,
          428,
          550,
          500,
          1060,
          1170,
          485,
          1650
         ],
         "xaxis": "x",
         "yaxis": "y"
        }
       ],
       "layout": {
        "barmode": "relative",
        "legend": {
         "title": {
          "text": "SEVERITY"
         },
         "tracegroupgap": 0
        },
        "margin": {
         "t": 60
        },
        "template": {
         "data": {
          "bar": [
           {
            "error_x": {
             "color": "#2a3f5f"
            },
            "error_y": {
             "color": "#2a3f5f"
            },
            "marker": {
             "line": {
              "color": "#E5ECF6",
              "width": 0.5
             },
             "pattern": {
              "fillmode": "overlay",
              "size": 10,
              "solidity": 0.2
             }
            },
            "type": "bar"
           }
          ],
          "barpolar": [
           {
            "marker": {
             "line": {
              "color": "#E5ECF6",
              "width": 0.5
             },
             "pattern": {
              "fillmode": "overlay",
              "size": 10,
              "solidity": 0.2
             }
            },
            "type": "barpolar"
           }
          ],
          "carpet": [
           {
            "aaxis": {
             "endlinecolor": "#2a3f5f",
             "gridcolor": "white",
             "linecolor": "white",
             "minorgridcolor": "white",
             "startlinecolor": "#2a3f5f"
            },
            "baxis": {
             "endlinecolor": "#2a3f5f",
             "gridcolor": "white",
             "linecolor": "white",
             "minorgridcolor": "white",
             "startlinecolor": "#2a3f5f"
            },
            "type": "carpet"
           }
          ],
          "choropleth": [
           {
            "colorbar": {
             "outlinewidth": 0,
             "ticks": ""
            },
            "type": "choropleth"
           }
          ],
          "contour": [
           {
            "colorbar": {
             "outlinewidth": 0,
             "ticks": ""
            },
            "colorscale": [
             [
              0,
              "#0d0887"
             ],
             [
              0.1111111111111111,
              "#46039f"
             ],
             [
              0.2222222222222222,
              "#7201a8"
             ],
             [
              0.3333333333333333,
              "#9c179e"
             ],
             [
              0.4444444444444444,
              "#bd3786"
             ],
             [
              0.5555555555555556,
              "#d8576b"
             ],
             [
              0.6666666666666666,
              "#ed7953"
             ],
             [
              0.7777777777777778,
              "#fb9f3a"
             ],
             [
              0.8888888888888888,
              "#fdca26"
             ],
             [
              1,
              "#f0f921"
             ]
            ],
            "type": "contour"
           }
          ],
          "contourcarpet": [
           {
            "colorbar": {
             "outlinewidth": 0,
             "ticks": ""
            },
            "type": "contourcarpet"
           }
          ],
          "heatmap": [
           {
            "colorbar": {
             "outlinewidth": 0,
             "ticks": ""
            },
            "colorscale": [
             [
              0,
              "#0d0887"
             ],
             [
              0.1111111111111111,
              "#46039f"
             ],
             [
              0.2222222222222222,
              "#7201a8"
             ],
             [
              0.3333333333333333,
              "#9c179e"
             ],
             [
              0.4444444444444444,
              "#bd3786"
             ],
             [
              0.5555555555555556,
              "#d8576b"
             ],
             [
              0.6666666666666666,
              "#ed7953"
             ],
             [
              0.7777777777777778,
              "#fb9f3a"
             ],
             [
              0.8888888888888888,
              "#fdca26"
             ],
             [
              1,
              "#f0f921"
             ]
            ],
            "type": "heatmap"
           }
          ],
          "heatmapgl": [
           {
            "colorbar": {
             "outlinewidth": 0,
             "ticks": ""
            },
            "colorscale": [
             [
              0,
              "#0d0887"
             ],
             [
              0.1111111111111111,
              "#46039f"
             ],
             [
              0.2222222222222222,
              "#7201a8"
             ],
             [
              0.3333333333333333,
              "#9c179e"
             ],
             [
              0.4444444444444444,
              "#bd3786"
             ],
             [
              0.5555555555555556,
              "#d8576b"
             ],
             [
              0.6666666666666666,
              "#ed7953"
             ],
             [
              0.7777777777777778,
              "#fb9f3a"
             ],
             [
              0.8888888888888888,
              "#fdca26"
             ],
             [
              1,
              "#f0f921"
             ]
            ],
            "type": "heatmapgl"
           }
          ],
          "histogram": [
           {
            "marker": {
             "pattern": {
              "fillmode": "overlay",
              "size": 10,
              "solidity": 0.2
             }
            },
            "type": "histogram"
           }
          ],
          "histogram2d": [
           {
            "colorbar": {
             "outlinewidth": 0,
             "ticks": ""
            },
            "colorscale": [
             [
              0,
              "#0d0887"
             ],
             [
              0.1111111111111111,
              "#46039f"
             ],
             [
              0.2222222222222222,
              "#7201a8"
             ],
             [
              0.3333333333333333,
              "#9c179e"
             ],
             [
              0.4444444444444444,
              "#bd3786"
             ],
             [
              0.5555555555555556,
              "#d8576b"
             ],
             [
              0.6666666666666666,
              "#ed7953"
             ],
             [
              0.7777777777777778,
              "#fb9f3a"
             ],
             [
              0.8888888888888888,
              "#fdca26"
             ],
             [
              1,
              "#f0f921"
             ]
            ],
            "type": "histogram2d"
           }
          ],
          "histogram2dcontour": [
           {
            "colorbar": {
             "outlinewidth": 0,
             "ticks": ""
            },
            "colorscale": [
             [
              0,
              "#0d0887"
             ],
             [
              0.1111111111111111,
              "#46039f"
             ],
             [
              0.2222222222222222,
              "#7201a8"
             ],
             [
              0.3333333333333333,
              "#9c179e"
             ],
             [
              0.4444444444444444,
              "#bd3786"
             ],
             [
              0.5555555555555556,
              "#d8576b"
             ],
             [
              0.6666666666666666,
              "#ed7953"
             ],
             [
              0.7777777777777778,
              "#fb9f3a"
             ],
             [
              0.8888888888888888,
              "#fdca26"
             ],
             [
              1,
              "#f0f921"
             ]
            ],
            "type": "histogram2dcontour"
           }
          ],
          "mesh3d": [
           {
            "colorbar": {
             "outlinewidth": 0,
             "ticks": ""
            },
            "type": "mesh3d"
           }
          ],
          "parcoords": [
           {
            "line": {
             "colorbar": {
              "outlinewidth": 0,
              "ticks": ""
             }
            },
            "type": "parcoords"
           }
          ],
          "pie": [
           {
            "automargin": true,
            "type": "pie"
           }
          ],
          "scatter": [
           {
            "fillpattern": {
             "fillmode": "overlay",
             "size": 10,
             "solidity": 0.2
            },
            "type": "scatter"
           }
          ],
          "scatter3d": [
           {
            "line": {
             "colorbar": {
              "outlinewidth": 0,
              "ticks": ""
             }
            },
            "marker": {
             "colorbar": {
              "outlinewidth": 0,
              "ticks": ""
             }
            },
            "type": "scatter3d"
           }
          ],
          "scattercarpet": [
           {
            "marker": {
             "colorbar": {
              "outlinewidth": 0,
              "ticks": ""
             }
            },
            "type": "scattercarpet"
           }
          ],
          "scattergeo": [
           {
            "marker": {
             "colorbar": {
              "outlinewidth": 0,
              "ticks": ""
             }
            },
            "type": "scattergeo"
           }
          ],
          "scattergl": [
           {
            "marker": {
             "colorbar": {
              "outlinewidth": 0,
              "ticks": ""
             }
            },
            "type": "scattergl"
           }
          ],
          "scattermapbox": [
           {
            "marker": {
             "colorbar": {
              "outlinewidth": 0,
              "ticks": ""
             }
            },
            "type": "scattermapbox"
           }
          ],
          "scatterpolar": [
           {
            "marker": {
             "colorbar": {
              "outlinewidth": 0,
              "ticks": ""
             }
            },
            "type": "scatterpolar"
           }
          ],
          "scatterpolargl": [
           {
            "marker": {
             "colorbar": {
              "outlinewidth": 0,
              "ticks": ""
             }
            },
            "type": "scatterpolargl"
           }
          ],
          "scatterternary": [
           {
            "marker": {
             "colorbar": {
              "outlinewidth": 0,
              "ticks": ""
             }
            },
            "type": "scatterternary"
           }
          ],
          "surface": [
           {
            "colorbar": {
             "outlinewidth": 0,
             "ticks": ""
            },
            "colorscale": [
             [
              0,
              "#0d0887"
             ],
             [
              0.1111111111111111,
              "#46039f"
             ],
             [
              0.2222222222222222,
              "#7201a8"
             ],
             [
              0.3333333333333333,
              "#9c179e"
             ],
             [
              0.4444444444444444,
              "#bd3786"
             ],
             [
              0.5555555555555556,
              "#d8576b"
             ],
             [
              0.6666666666666666,
              "#ed7953"
             ],
             [
              0.7777777777777778,
              "#fb9f3a"
             ],
             [
              0.8888888888888888,
              "#fdca26"
             ],
             [
              1,
              "#f0f921"
             ]
            ],
            "type": "surface"
           }
          ],
          "table": [
           {
            "cells": {
             "fill": {
              "color": "#EBF0F8"
             },
             "line": {
              "color": "white"
             }
            },
            "header": {
             "fill": {
              "color": "#C8D4E3"
             },
             "line": {
              "color": "white"
             }
            },
            "type": "table"
           }
          ]
         },
         "layout": {
          "annotationdefaults": {
           "arrowcolor": "#2a3f5f",
           "arrowhead": 0,
           "arrowwidth": 1
          },
          "autotypenumbers": "strict",
          "coloraxis": {
           "colorbar": {
            "outlinewidth": 0,
            "ticks": ""
           }
          },
          "colorscale": {
           "diverging": [
            [
             0,
             "#8e0152"
            ],
            [
             0.1,
             "#c51b7d"
            ],
            [
             0.2,
             "#de77ae"
            ],
            [
             0.3,
             "#f1b6da"
            ],
            [
             0.4,
             "#fde0ef"
            ],
            [
             0.5,
             "#f7f7f7"
            ],
            [
             0.6,
             "#e6f5d0"
            ],
            [
             0.7,
             "#b8e186"
            ],
            [
             0.8,
             "#7fbc41"
            ],
            [
             0.9,
             "#4d9221"
            ],
            [
             1,
             "#276419"
            ]
           ],
           "sequential": [
            [
             0,
             "#0d0887"
            ],
            [
             0.1111111111111111,
             "#46039f"
            ],
            [
             0.2222222222222222,
             "#7201a8"
            ],
            [
             0.3333333333333333,
             "#9c179e"
            ],
            [
             0.4444444444444444,
             "#bd3786"
            ],
            [
             0.5555555555555556,
             "#d8576b"
            ],
            [
             0.6666666666666666,
             "#ed7953"
            ],
            [
             0.7777777777777778,
             "#fb9f3a"
            ],
            [
             0.8888888888888888,
             "#fdca26"
            ],
            [
             1,
             "#f0f921"
            ]
           ],
           "sequentialminus": [
            [
             0,
             "#0d0887"
            ],
            [
             0.1111111111111111,
             "#46039f"
            ],
            [
             0.2222222222222222,
             "#7201a8"
            ],
            [
             0.3333333333333333,
             "#9c179e"
            ],
            [
             0.4444444444444444,
             "#bd3786"
            ],
            [
             0.5555555555555556,
             "#d8576b"
            ],
            [
             0.6666666666666666,
             "#ed7953"
            ],
            [
             0.7777777777777778,
             "#fb9f3a"
            ],
            [
             0.8888888888888888,
             "#fdca26"
            ],
            [
             1,
             "#f0f921"
            ]
           ]
          },
          "colorway": [
           "#636efa",
           "#EF553B",
           "#00cc96",
           "#ab63fa",
           "#FFA15A",
           "#19d3f3",
           "#FF6692",
           "#B6E880",
           "#FF97FF",
           "#FECB52"
          ],
          "font": {
           "color": "#2a3f5f"
          },
          "geo": {
           "bgcolor": "white",
           "lakecolor": "white",
           "landcolor": "#E5ECF6",
           "showlakes": true,
           "showland": true,
           "subunitcolor": "white"
          },
          "hoverlabel": {
           "align": "left"
          },
          "hovermode": "closest",
          "mapbox": {
           "style": "light"
          },
          "paper_bgcolor": "white",
          "plot_bgcolor": "#E5ECF6",
          "polar": {
           "angularaxis": {
            "gridcolor": "white",
            "linecolor": "white",
            "ticks": ""
           },
           "bgcolor": "#E5ECF6",
           "radialaxis": {
            "gridcolor": "white",
            "linecolor": "white",
            "ticks": ""
           }
          },
          "scene": {
           "xaxis": {
            "backgroundcolor": "#E5ECF6",
            "gridcolor": "white",
            "gridwidth": 2,
            "linecolor": "white",
            "showbackground": true,
            "ticks": "",
            "zerolinecolor": "white"
           },
           "yaxis": {
            "backgroundcolor": "#E5ECF6",
            "gridcolor": "white",
            "gridwidth": 2,
            "linecolor": "white",
            "showbackground": true,
            "ticks": "",
            "zerolinecolor": "white"
           },
           "zaxis": {
            "backgroundcolor": "#E5ECF6",
            "gridcolor": "white",
            "gridwidth": 2,
            "linecolor": "white",
            "showbackground": true,
            "ticks": "",
            "zerolinecolor": "white"
           }
          },
          "shapedefaults": {
           "line": {
            "color": "#2a3f5f"
           }
          },
          "ternary": {
           "aaxis": {
            "gridcolor": "white",
            "linecolor": "white",
            "ticks": ""
           },
           "baxis": {
            "gridcolor": "white",
            "linecolor": "white",
            "ticks": ""
           },
           "bgcolor": "#E5ECF6",
           "caxis": {
            "gridcolor": "white",
            "linecolor": "white",
            "ticks": ""
           }
          },
          "title": {
           "x": 0.05
          },
          "xaxis": {
           "automargin": true,
           "gridcolor": "white",
           "linecolor": "white",
           "ticks": "",
           "title": {
            "standoff": 15
           },
           "zerolinecolor": "white",
           "zerolinewidth": 2
          },
          "yaxis": {
           "automargin": true,
           "gridcolor": "white",
           "linecolor": "white",
           "ticks": "",
           "title": {
            "standoff": 15
           },
           "zerolinecolor": "white",
           "zerolinewidth": 2
          }
         }
        },
        "xaxis": {
         "anchor": "y",
         "domain": [
          0,
          1
         ],
         "title": {
          "text": "DEMAND.LOSS.MW"
         }
        },
        "yaxis": {
         "anchor": "x",
         "domain": [
          0,
          1
         ],
         "title": {
          "text": "count"
         }
        }
       }
      }
     },
     "metadata": {},
     "output_type": "display_data"
    }
   ],
   "source": [
    "severity.plot(x=\"DEMAND.LOSS.MW\", kind=\"hist\", color=\"SEVERITY\")"
   ]
  },
  {
   "cell_type": "markdown",
   "metadata": {},
   "source": [
    "## Step 7: Final Model\n"
   ]
  },
  {
   "cell_type": "code",
   "execution_count": 19,
   "metadata": {
    "ExecuteTime": {
     "end_time": "2019-10-31T23:36:28.662099Z",
     "start_time": "2019-10-31T23:36:28.660016Z"
    }
   },
   "outputs": [],
   "source": [
    "# TODO"
   ]
  },
  {
   "cell_type": "markdown",
   "metadata": {},
   "source": [
    "## Step 8: Fairness Analysis\n"
   ]
  },
  {
   "cell_type": "code",
   "execution_count": 20,
   "metadata": {
    "ExecuteTime": {
     "end_time": "2019-10-31T23:36:28.666489Z",
     "start_time": "2019-10-31T23:36:28.664381Z"
    }
   },
   "outputs": [],
   "source": [
    "# TODO"
   ]
  }
 ],
 "metadata": {
  "kernelspec": {
   "display_name": "Python 3",
   "language": "python",
   "name": "python3"
  },
  "language_info": {
   "codemirror_mode": {
    "name": "ipython",
    "version": 3
   },
   "file_extension": ".py",
   "mimetype": "text/x-python",
   "name": "python",
   "nbconvert_exporter": "python",
   "pygments_lexer": "ipython3",
   "version": "3.12.6"
  }
 },
 "nbformat": 4,
 "nbformat_minor": 2
}
